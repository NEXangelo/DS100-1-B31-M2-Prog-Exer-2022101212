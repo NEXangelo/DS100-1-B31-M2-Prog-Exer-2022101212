{
 "cells": [
  {
   "cell_type": "markdown",
   "metadata": {},
   "source": [
    "Name: Alcontin, Angelo P.\n",
    "\n",
    "Student Number: 2022101212\n",
    "\n",
    "Course/Section: DS100-1/B31\n",
    "\n",
    "M2 Programming Exercise"
   ]
  },
  {
   "cell_type": "markdown",
   "metadata": {},
   "source": [
    "\n",
    "In this M2 programming exercise, we will continue to work with the dataset titled Annual plastic waste by disposal method, covering the years 2000 to 2019. This dataset provides insights into the management of plastic waste over two decades, offering valuable information on the methods used for disposing of plastic waste.\n",
    "\n",
    "DATA SOURCE: https://ourworldindata.org/grapher/plastic-fate?tab=table"
   ]
  },
  {
   "cell_type": "code",
   "execution_count": 152,
   "metadata": {},
   "outputs": [],
   "source": [
    "import requests as rq\n",
    "from io import BytesIO"
   ]
  },
  {
   "cell_type": "code",
   "execution_count": 153,
   "metadata": {},
   "outputs": [],
   "source": [
    "import numpy as np\n",
    "import pandas as pd"
   ]
  },
  {
   "cell_type": "code",
   "execution_count": 154,
   "metadata": {},
   "outputs": [
    {
     "data": {
      "text/html": [
       "<div>\n",
       "<style scoped>\n",
       "    .dataframe tbody tr th:only-of-type {\n",
       "        vertical-align: middle;\n",
       "    }\n",
       "\n",
       "    .dataframe tbody tr th {\n",
       "        vertical-align: top;\n",
       "    }\n",
       "\n",
       "    .dataframe thead th {\n",
       "        text-align: right;\n",
       "    }\n",
       "</style>\n",
       "<table border=\"1\" class=\"dataframe\">\n",
       "  <thead>\n",
       "    <tr style=\"text-align: right;\">\n",
       "      <th></th>\n",
       "      <th>Entity</th>\n",
       "      <th>Code</th>\n",
       "      <th>Year</th>\n",
       "      <th>Recycled</th>\n",
       "      <th>Incinerated</th>\n",
       "      <th>Littered and mismanaged</th>\n",
       "      <th>Landfilled</th>\n",
       "    </tr>\n",
       "  </thead>\n",
       "  <tbody>\n",
       "    <tr>\n",
       "      <th>0</th>\n",
       "      <td>Americas (excl. USA)</td>\n",
       "      <td>NaN</td>\n",
       "      <td>2000</td>\n",
       "      <td>772024.0</td>\n",
       "      <td>199475.0</td>\n",
       "      <td>5346765</td>\n",
       "      <td>10031376.0</td>\n",
       "    </tr>\n",
       "    <tr>\n",
       "      <th>1</th>\n",
       "      <td>Americas (excl. USA)</td>\n",
       "      <td>NaN</td>\n",
       "      <td>2001</td>\n",
       "      <td>855770.0</td>\n",
       "      <td>208013.0</td>\n",
       "      <td>5619297</td>\n",
       "      <td>10526961.0</td>\n",
       "    </tr>\n",
       "    <tr>\n",
       "      <th>2</th>\n",
       "      <td>Americas (excl. USA)</td>\n",
       "      <td>NaN</td>\n",
       "      <td>2002</td>\n",
       "      <td>960160.0</td>\n",
       "      <td>219964.0</td>\n",
       "      <td>5989772</td>\n",
       "      <td>11197690.0</td>\n",
       "    </tr>\n",
       "    <tr>\n",
       "      <th>3</th>\n",
       "      <td>Americas (excl. USA)</td>\n",
       "      <td>NaN</td>\n",
       "      <td>2003</td>\n",
       "      <td>1066836.0</td>\n",
       "      <td>230851.0</td>\n",
       "      <td>6333178</td>\n",
       "      <td>11828031.0</td>\n",
       "    </tr>\n",
       "    <tr>\n",
       "      <th>4</th>\n",
       "      <td>Americas (excl. USA)</td>\n",
       "      <td>NaN</td>\n",
       "      <td>2004</td>\n",
       "      <td>1189151.0</td>\n",
       "      <td>243482.0</td>\n",
       "      <td>6729046</td>\n",
       "      <td>12555211.0</td>\n",
       "    </tr>\n",
       "  </tbody>\n",
       "</table>\n",
       "</div>"
      ],
      "text/plain": [
       "                 Entity Code  Year   Recycled  Incinerated  \\\n",
       "0  Americas (excl. USA)  NaN  2000   772024.0     199475.0   \n",
       "1  Americas (excl. USA)  NaN  2001   855770.0     208013.0   \n",
       "2  Americas (excl. USA)  NaN  2002   960160.0     219964.0   \n",
       "3  Americas (excl. USA)  NaN  2003  1066836.0     230851.0   \n",
       "4  Americas (excl. USA)  NaN  2004  1189151.0     243482.0   \n",
       "\n",
       "   Littered and mismanaged  Landfilled  \n",
       "0                  5346765  10031376.0  \n",
       "1                  5619297  10526961.0  \n",
       "2                  5989772  11197690.0  \n",
       "3                  6333178  11828031.0  \n",
       "4                  6729046  12555211.0  "
      ]
     },
     "execution_count": 154,
     "metadata": {},
     "output_type": "execute_result"
    }
   ],
   "source": [
    "url = 'https://github.com/NEXangelo/DS100-M1-PROGRAM-EXERCISE-/raw/main/DS-DATASET-plastic-fate.xlsx'\n",
    "dt = rq.get(url).content\n",
    "data = pd.read_excel(BytesIO(dt))\n",
    "pd.set_option('display.max_rows',None)\n",
    "data.head()"
   ]
  },
  {
   "cell_type": "code",
   "execution_count": 155,
   "metadata": {},
   "outputs": [
    {
     "name": "stderr",
     "output_type": "stream",
     "text": [
      "/var/folders/4m/hp8_gf8n70s7tw1jt5x_ykl80000gn/T/ipykernel_8537/1100875033.py:5: SettingWithCopyWarning:\n",
      "\n",
      "\n",
      "A value is trying to be set on a copy of a slice from a DataFrame\n",
      "\n",
      "See the caveats in the documentation: https://pandas.pydata.org/pandas-docs/stable/user_guide/indexing.html#returning-a-view-versus-a-copy\n",
      "\n"
     ]
    }
   ],
   "source": [
    "#selecting the Countries \n",
    "country_data = data.loc[data['Entity'].str.contains('United States|China$')]\n",
    "country_data.update(country_data[['Year','Recycled', 'Incinerated','Littered and mismanaged', 'Landfilled' ]].fillna(0))\n",
    "if 'Code' in country_data.columns:\n",
    "    country_data.drop(columns=['Code'], inplace=True)"
   ]
  },
  {
   "cell_type": "code",
   "execution_count": 156,
   "metadata": {},
   "outputs": [],
   "source": [
    "# Filter the DataFrame to include only the years from 2000 to 2019\n",
    "country_data = country_data[(country_data['Year'] >= 2000) & (country_data['Year'] <= 2019)]"
   ]
  },
  {
   "cell_type": "code",
   "execution_count": 157,
   "metadata": {},
   "outputs": [],
   "source": [
    "country_data = country_data.copy()\n",
    "\n",
    "# Calculate total trash and percentages\n",
    "country_data['Total Trash (Tones)'] = (country_data['Recycled'] + country_data['Incinerated'] + country_data['Littered and mismanaged'] + country_data['Landfilled'])\n",
    "\n",
    "# Calculate percentages\n",
    "country_data['Recycled Percentage'] = np.round((country_data['Recycled'] / country_data['Total Trash (Tones)']) * 100, 2)\n",
    "country_data['Incinerated Percentage'] = np.round((country_data['Incinerated'] / country_data['Total Trash (Tones)']) * 100, 2)\n",
    "country_data['Littered and mismanaged Percentage'] = np.round((country_data['Littered and mismanaged'] / country_data['Total Trash (Tones)']) * 100, 2)\n",
    "country_data['Landfilled Percentage'] = np.round((country_data['Landfilled'] / country_data['Total Trash (Tones)']) * 100, 2)\n",
    "\n",
    "# Fill NaN values with 0\n",
    "country_data.update(country_data[['Recycled Percentage', 'Incinerated Percentage', 'Littered and mismanaged Percentage', 'Landfilled Percentage']].fillna(0))\n",
    "country_data = country_data[['Entity', 'Year', 'Total Trash (Tones)', 'Recycled Percentage', 'Incinerated Percentage', 'Littered and mismanaged Percentage', 'Landfilled Percentage']]\n"
   ]
  },
  {
   "cell_type": "code",
   "execution_count": 158,
   "metadata": {},
   "outputs": [],
   "source": [
    "# Calculate 'Sustainable Waste Management' percentage\n",
    "country_data['Sustainable Waste Management Percentage'] = (country_data['Recycled Percentage'] + country_data['Incinerated Percentage'])\n",
    "\n",
    "# Format the percentages with a percentage sign\n",
    "country_data['Sustainable Waste Management Percentage'] = country_data['Sustainable Waste Management Percentage']\n",
    "\n",
    "# Calculate 'Mismanaged Waste Disposal' percentage\n",
    "country_data['Mismanaged Waste Disposal Percentage'] = (country_data['Littered and mismanaged Percentage'] + country_data['Landfilled Percentage'])\n",
    "\n",
    "# Format the percentages with a percentage sign\n",
    "country_data['Mismanaged Waste Disposal Percentage'] = country_data['Mismanaged Waste Disposal Percentage']\n",
    "\n",
    "# Display the updated DataFrame with required columns"
   ]
  },
  {
   "cell_type": "code",
   "execution_count": 159,
   "metadata": {},
   "outputs": [
    {
     "data": {
      "application/vnd.plotly.v1+json": {
       "config": {
        "plotlyServerURL": "https://plot.ly"
       },
       "data": [
        {
         "line": {
          "color": "red",
          "width": 2
         },
         "mode": "lines+markers",
         "name": "China - Sustainable Management",
         "type": "scatter",
         "x": [
          2000,
          2001,
          2002,
          2003,
          2004,
          2005,
          2006,
          2007,
          2008,
          2009,
          2010,
          2011,
          2012,
          2013,
          2014,
          2015,
          2016,
          2017,
          2018,
          2019
         ],
         "y": [
          13.600000000000001,
          14.82,
          16.04,
          17.27,
          18.52,
          19.75,
          21,
          22.25,
          23.5,
          24.75,
          26.020000000000003,
          27.31,
          28.59,
          29.89,
          31.14,
          32.49,
          33.8,
          35.08,
          36.42,
          36.56
         ]
        },
        {
         "line": {
          "color": "orange",
          "width": 2
         },
         "mode": "lines+markers",
         "name": "China - Mismanaged Disposal",
         "type": "scatter",
         "x": [
          2000,
          2001,
          2002,
          2003,
          2004,
          2005,
          2006,
          2007,
          2008,
          2009,
          2010,
          2011,
          2012,
          2013,
          2014,
          2015,
          2016,
          2017,
          2018,
          2019
         ],
         "y": [
          86.39,
          85.17999999999999,
          83.95,
          82.72,
          81.48,
          80.24000000000001,
          79,
          77.74000000000001,
          76.50999999999999,
          75.25,
          73.97,
          72.7,
          71.41,
          70.12,
          68.86,
          67.50999999999999,
          66.2,
          64.92,
          63.58,
          63.43000000000001
         ]
        },
        {
         "line": {
          "color": "blue",
          "width": 2
         },
         "mode": "lines+markers",
         "name": "USA - Sustainable Management",
         "type": "scatter",
         "x": [
          2000,
          2001,
          2002,
          2003,
          2004,
          2005,
          2006,
          2007,
          2008,
          2009,
          2010,
          2011,
          2012,
          2013,
          2014,
          2015,
          2016,
          2017,
          2018,
          2019
         ],
         "y": [
          17.62,
          17.93,
          18.25,
          18.560000000000002,
          18.89,
          19.21,
          19.52,
          19.84,
          20.150000000000002,
          20.47,
          20.79,
          21.12,
          21.44,
          21.759999999999998,
          22.080000000000002,
          22.409999999999997,
          22.74,
          23.07,
          23.4,
          23.57
         ]
        },
        {
         "line": {
          "color": "indigo",
          "width": 2
         },
         "mode": "lines+markers",
         "name": "USA - Mismanaged Disposal",
         "type": "scatter",
         "x": [
          2000,
          2001,
          2002,
          2003,
          2004,
          2005,
          2006,
          2007,
          2008,
          2009,
          2010,
          2011,
          2012,
          2013,
          2014,
          2015,
          2016,
          2017,
          2018,
          2019
         ],
         "y": [
          82.39,
          82.07,
          81.76,
          81.44,
          81.11000000000001,
          80.79,
          80.47,
          80.14999999999999,
          79.85000000000001,
          79.53,
          79.21,
          78.89,
          78.56,
          78.25,
          77.93,
          77.59,
          77.27,
          76.93,
          76.61,
          76.42999999999999
         ]
        }
       ],
       "layout": {
        "autosize": true,
        "legend": {
         "traceorder": "normal",
         "x": 1.02,
         "y": 1
        },
        "template": {
         "data": {
          "bar": [
           {
            "error_x": {
             "color": "#2a3f5f"
            },
            "error_y": {
             "color": "#2a3f5f"
            },
            "marker": {
             "line": {
              "color": "#E5ECF6",
              "width": 0.5
             },
             "pattern": {
              "fillmode": "overlay",
              "size": 10,
              "solidity": 0.2
             }
            },
            "type": "bar"
           }
          ],
          "barpolar": [
           {
            "marker": {
             "line": {
              "color": "#E5ECF6",
              "width": 0.5
             },
             "pattern": {
              "fillmode": "overlay",
              "size": 10,
              "solidity": 0.2
             }
            },
            "type": "barpolar"
           }
          ],
          "carpet": [
           {
            "aaxis": {
             "endlinecolor": "#2a3f5f",
             "gridcolor": "white",
             "linecolor": "white",
             "minorgridcolor": "white",
             "startlinecolor": "#2a3f5f"
            },
            "baxis": {
             "endlinecolor": "#2a3f5f",
             "gridcolor": "white",
             "linecolor": "white",
             "minorgridcolor": "white",
             "startlinecolor": "#2a3f5f"
            },
            "type": "carpet"
           }
          ],
          "choropleth": [
           {
            "colorbar": {
             "outlinewidth": 0,
             "ticks": ""
            },
            "type": "choropleth"
           }
          ],
          "contour": [
           {
            "colorbar": {
             "outlinewidth": 0,
             "ticks": ""
            },
            "colorscale": [
             [
              0,
              "#0d0887"
             ],
             [
              0.1111111111111111,
              "#46039f"
             ],
             [
              0.2222222222222222,
              "#7201a8"
             ],
             [
              0.3333333333333333,
              "#9c179e"
             ],
             [
              0.4444444444444444,
              "#bd3786"
             ],
             [
              0.5555555555555556,
              "#d8576b"
             ],
             [
              0.6666666666666666,
              "#ed7953"
             ],
             [
              0.7777777777777778,
              "#fb9f3a"
             ],
             [
              0.8888888888888888,
              "#fdca26"
             ],
             [
              1,
              "#f0f921"
             ]
            ],
            "type": "contour"
           }
          ],
          "contourcarpet": [
           {
            "colorbar": {
             "outlinewidth": 0,
             "ticks": ""
            },
            "type": "contourcarpet"
           }
          ],
          "heatmap": [
           {
            "colorbar": {
             "outlinewidth": 0,
             "ticks": ""
            },
            "colorscale": [
             [
              0,
              "#0d0887"
             ],
             [
              0.1111111111111111,
              "#46039f"
             ],
             [
              0.2222222222222222,
              "#7201a8"
             ],
             [
              0.3333333333333333,
              "#9c179e"
             ],
             [
              0.4444444444444444,
              "#bd3786"
             ],
             [
              0.5555555555555556,
              "#d8576b"
             ],
             [
              0.6666666666666666,
              "#ed7953"
             ],
             [
              0.7777777777777778,
              "#fb9f3a"
             ],
             [
              0.8888888888888888,
              "#fdca26"
             ],
             [
              1,
              "#f0f921"
             ]
            ],
            "type": "heatmap"
           }
          ],
          "heatmapgl": [
           {
            "colorbar": {
             "outlinewidth": 0,
             "ticks": ""
            },
            "colorscale": [
             [
              0,
              "#0d0887"
             ],
             [
              0.1111111111111111,
              "#46039f"
             ],
             [
              0.2222222222222222,
              "#7201a8"
             ],
             [
              0.3333333333333333,
              "#9c179e"
             ],
             [
              0.4444444444444444,
              "#bd3786"
             ],
             [
              0.5555555555555556,
              "#d8576b"
             ],
             [
              0.6666666666666666,
              "#ed7953"
             ],
             [
              0.7777777777777778,
              "#fb9f3a"
             ],
             [
              0.8888888888888888,
              "#fdca26"
             ],
             [
              1,
              "#f0f921"
             ]
            ],
            "type": "heatmapgl"
           }
          ],
          "histogram": [
           {
            "marker": {
             "pattern": {
              "fillmode": "overlay",
              "size": 10,
              "solidity": 0.2
             }
            },
            "type": "histogram"
           }
          ],
          "histogram2d": [
           {
            "colorbar": {
             "outlinewidth": 0,
             "ticks": ""
            },
            "colorscale": [
             [
              0,
              "#0d0887"
             ],
             [
              0.1111111111111111,
              "#46039f"
             ],
             [
              0.2222222222222222,
              "#7201a8"
             ],
             [
              0.3333333333333333,
              "#9c179e"
             ],
             [
              0.4444444444444444,
              "#bd3786"
             ],
             [
              0.5555555555555556,
              "#d8576b"
             ],
             [
              0.6666666666666666,
              "#ed7953"
             ],
             [
              0.7777777777777778,
              "#fb9f3a"
             ],
             [
              0.8888888888888888,
              "#fdca26"
             ],
             [
              1,
              "#f0f921"
             ]
            ],
            "type": "histogram2d"
           }
          ],
          "histogram2dcontour": [
           {
            "colorbar": {
             "outlinewidth": 0,
             "ticks": ""
            },
            "colorscale": [
             [
              0,
              "#0d0887"
             ],
             [
              0.1111111111111111,
              "#46039f"
             ],
             [
              0.2222222222222222,
              "#7201a8"
             ],
             [
              0.3333333333333333,
              "#9c179e"
             ],
             [
              0.4444444444444444,
              "#bd3786"
             ],
             [
              0.5555555555555556,
              "#d8576b"
             ],
             [
              0.6666666666666666,
              "#ed7953"
             ],
             [
              0.7777777777777778,
              "#fb9f3a"
             ],
             [
              0.8888888888888888,
              "#fdca26"
             ],
             [
              1,
              "#f0f921"
             ]
            ],
            "type": "histogram2dcontour"
           }
          ],
          "mesh3d": [
           {
            "colorbar": {
             "outlinewidth": 0,
             "ticks": ""
            },
            "type": "mesh3d"
           }
          ],
          "parcoords": [
           {
            "line": {
             "colorbar": {
              "outlinewidth": 0,
              "ticks": ""
             }
            },
            "type": "parcoords"
           }
          ],
          "pie": [
           {
            "automargin": true,
            "type": "pie"
           }
          ],
          "scatter": [
           {
            "fillpattern": {
             "fillmode": "overlay",
             "size": 10,
             "solidity": 0.2
            },
            "type": "scatter"
           }
          ],
          "scatter3d": [
           {
            "line": {
             "colorbar": {
              "outlinewidth": 0,
              "ticks": ""
             }
            },
            "marker": {
             "colorbar": {
              "outlinewidth": 0,
              "ticks": ""
             }
            },
            "type": "scatter3d"
           }
          ],
          "scattercarpet": [
           {
            "marker": {
             "colorbar": {
              "outlinewidth": 0,
              "ticks": ""
             }
            },
            "type": "scattercarpet"
           }
          ],
          "scattergeo": [
           {
            "marker": {
             "colorbar": {
              "outlinewidth": 0,
              "ticks": ""
             }
            },
            "type": "scattergeo"
           }
          ],
          "scattergl": [
           {
            "marker": {
             "colorbar": {
              "outlinewidth": 0,
              "ticks": ""
             }
            },
            "type": "scattergl"
           }
          ],
          "scattermapbox": [
           {
            "marker": {
             "colorbar": {
              "outlinewidth": 0,
              "ticks": ""
             }
            },
            "type": "scattermapbox"
           }
          ],
          "scatterpolar": [
           {
            "marker": {
             "colorbar": {
              "outlinewidth": 0,
              "ticks": ""
             }
            },
            "type": "scatterpolar"
           }
          ],
          "scatterpolargl": [
           {
            "marker": {
             "colorbar": {
              "outlinewidth": 0,
              "ticks": ""
             }
            },
            "type": "scatterpolargl"
           }
          ],
          "scatterternary": [
           {
            "marker": {
             "colorbar": {
              "outlinewidth": 0,
              "ticks": ""
             }
            },
            "type": "scatterternary"
           }
          ],
          "surface": [
           {
            "colorbar": {
             "outlinewidth": 0,
             "ticks": ""
            },
            "colorscale": [
             [
              0,
              "#0d0887"
             ],
             [
              0.1111111111111111,
              "#46039f"
             ],
             [
              0.2222222222222222,
              "#7201a8"
             ],
             [
              0.3333333333333333,
              "#9c179e"
             ],
             [
              0.4444444444444444,
              "#bd3786"
             ],
             [
              0.5555555555555556,
              "#d8576b"
             ],
             [
              0.6666666666666666,
              "#ed7953"
             ],
             [
              0.7777777777777778,
              "#fb9f3a"
             ],
             [
              0.8888888888888888,
              "#fdca26"
             ],
             [
              1,
              "#f0f921"
             ]
            ],
            "type": "surface"
           }
          ],
          "table": [
           {
            "cells": {
             "fill": {
              "color": "#EBF0F8"
             },
             "line": {
              "color": "white"
             }
            },
            "header": {
             "fill": {
              "color": "#C8D4E3"
             },
             "line": {
              "color": "white"
             }
            },
            "type": "table"
           }
          ]
         },
         "layout": {
          "annotationdefaults": {
           "arrowcolor": "#2a3f5f",
           "arrowhead": 0,
           "arrowwidth": 1
          },
          "autotypenumbers": "strict",
          "coloraxis": {
           "colorbar": {
            "outlinewidth": 0,
            "ticks": ""
           }
          },
          "colorscale": {
           "diverging": [
            [
             0,
             "#8e0152"
            ],
            [
             0.1,
             "#c51b7d"
            ],
            [
             0.2,
             "#de77ae"
            ],
            [
             0.3,
             "#f1b6da"
            ],
            [
             0.4,
             "#fde0ef"
            ],
            [
             0.5,
             "#f7f7f7"
            ],
            [
             0.6,
             "#e6f5d0"
            ],
            [
             0.7,
             "#b8e186"
            ],
            [
             0.8,
             "#7fbc41"
            ],
            [
             0.9,
             "#4d9221"
            ],
            [
             1,
             "#276419"
            ]
           ],
           "sequential": [
            [
             0,
             "#0d0887"
            ],
            [
             0.1111111111111111,
             "#46039f"
            ],
            [
             0.2222222222222222,
             "#7201a8"
            ],
            [
             0.3333333333333333,
             "#9c179e"
            ],
            [
             0.4444444444444444,
             "#bd3786"
            ],
            [
             0.5555555555555556,
             "#d8576b"
            ],
            [
             0.6666666666666666,
             "#ed7953"
            ],
            [
             0.7777777777777778,
             "#fb9f3a"
            ],
            [
             0.8888888888888888,
             "#fdca26"
            ],
            [
             1,
             "#f0f921"
            ]
           ],
           "sequentialminus": [
            [
             0,
             "#0d0887"
            ],
            [
             0.1111111111111111,
             "#46039f"
            ],
            [
             0.2222222222222222,
             "#7201a8"
            ],
            [
             0.3333333333333333,
             "#9c179e"
            ],
            [
             0.4444444444444444,
             "#bd3786"
            ],
            [
             0.5555555555555556,
             "#d8576b"
            ],
            [
             0.6666666666666666,
             "#ed7953"
            ],
            [
             0.7777777777777778,
             "#fb9f3a"
            ],
            [
             0.8888888888888888,
             "#fdca26"
            ],
            [
             1,
             "#f0f921"
            ]
           ]
          },
          "colorway": [
           "#636efa",
           "#EF553B",
           "#00cc96",
           "#ab63fa",
           "#FFA15A",
           "#19d3f3",
           "#FF6692",
           "#B6E880",
           "#FF97FF",
           "#FECB52"
          ],
          "font": {
           "color": "#2a3f5f"
          },
          "geo": {
           "bgcolor": "white",
           "lakecolor": "white",
           "landcolor": "#E5ECF6",
           "showlakes": true,
           "showland": true,
           "subunitcolor": "white"
          },
          "hoverlabel": {
           "align": "left"
          },
          "hovermode": "closest",
          "mapbox": {
           "style": "light"
          },
          "paper_bgcolor": "white",
          "plot_bgcolor": "#E5ECF6",
          "polar": {
           "angularaxis": {
            "gridcolor": "white",
            "linecolor": "white",
            "ticks": ""
           },
           "bgcolor": "#E5ECF6",
           "radialaxis": {
            "gridcolor": "white",
            "linecolor": "white",
            "ticks": ""
           }
          },
          "scene": {
           "xaxis": {
            "backgroundcolor": "#E5ECF6",
            "gridcolor": "white",
            "gridwidth": 2,
            "linecolor": "white",
            "showbackground": true,
            "ticks": "",
            "zerolinecolor": "white"
           },
           "yaxis": {
            "backgroundcolor": "#E5ECF6",
            "gridcolor": "white",
            "gridwidth": 2,
            "linecolor": "white",
            "showbackground": true,
            "ticks": "",
            "zerolinecolor": "white"
           },
           "zaxis": {
            "backgroundcolor": "#E5ECF6",
            "gridcolor": "white",
            "gridwidth": 2,
            "linecolor": "white",
            "showbackground": true,
            "ticks": "",
            "zerolinecolor": "white"
           }
          },
          "shapedefaults": {
           "line": {
            "color": "#2a3f5f"
           }
          },
          "ternary": {
           "aaxis": {
            "gridcolor": "white",
            "linecolor": "white",
            "ticks": ""
           },
           "baxis": {
            "gridcolor": "white",
            "linecolor": "white",
            "ticks": ""
           },
           "bgcolor": "#E5ECF6",
           "caxis": {
            "gridcolor": "white",
            "linecolor": "white",
            "ticks": ""
           }
          },
          "title": {
           "x": 0.05
          },
          "xaxis": {
           "automargin": true,
           "gridcolor": "white",
           "linecolor": "white",
           "ticks": "",
           "title": {
            "standoff": 15
           },
           "zerolinecolor": "white",
           "zerolinewidth": 2
          },
          "yaxis": {
           "automargin": true,
           "gridcolor": "white",
           "linecolor": "white",
           "ticks": "",
           "title": {
            "standoff": 15
           },
           "zerolinecolor": "white",
           "zerolinewidth": 2
          }
         }
        },
        "title": {
         "text": "Waste Management Comparison (2000-2019)"
        },
        "xaxis": {
         "autorange": false,
         "range": [
          1999.3989259023735,
          2019.5538583014386
         ],
         "tickmode": "array",
         "tickvals": [
          2000,
          2001,
          2002,
          2003,
          2004,
          2005,
          2006,
          2007,
          2008,
          2009,
          2010,
          2011,
          2012,
          2013,
          2014,
          2015,
          2016,
          2017,
          2018,
          2019
         ],
         "title": {
          "text": "Year"
         },
         "type": "linear"
        },
        "yaxis": {
         "autorange": false,
         "range": [
          -0.8685265752480973,
          100.67049135685531
         ],
         "tickmode": "array",
         "ticktext": [
          "0%",
          "10%",
          "20%",
          "30%",
          "40%",
          "50%",
          "60%",
          "70%",
          "80%",
          "90%",
          "100%"
         ],
         "tickvals": [
          0,
          10,
          20,
          30,
          40,
          50,
          60,
          70,
          80,
          90,
          100
         ],
         "title": {
          "text": "Percentage"
         },
         "type": "linear"
        }
       }
      },
      "image/png": "[encoded data removed]",
      "text/html": [
       "<div>                            <div id=\"7771ce6b-a233-4921-b1f7-76a5b0f4aea4\" class=\"plotly-graph-div\" style=\"height:525px; width:100%;\"></div>            <script type=\"text/javascript\">                require([\"plotly\"], function(Plotly) {                    window.PLOTLYENV=window.PLOTLYENV || {};                                    if (document.getElementById(\"7771ce6b-a233-4921-b1f7-76a5b0f4aea4\")) {                    Plotly.newPlot(                        \"7771ce6b-a233-4921-b1f7-76a5b0f4aea4\",                        [{\"line\":{\"color\":\"red\",\"width\":2},\"mode\":\"lines+markers\",\"name\":\"China - Sustainable Management\",\"x\":[2000,2001,2002,2003,2004,2005,2006,2007,2008,2009,2010,2011,2012,2013,2014,2015,2016,2017,2018,2019],\"y\":[13.600000000000001,14.82,16.04,17.27,18.52,19.75,21.0,22.25,23.5,24.75,26.020000000000003,27.31,28.59,29.89,31.14,32.49,33.8,35.08,36.42,36.56],\"type\":\"scatter\"},{\"line\":{\"color\":\"orange\",\"width\":2},\"mode\":\"lines+markers\",\"name\":\"China - Mismanaged Disposal\",\"x\":[2000,2001,2002,2003,2004,2005,2006,2007,2008,2009,2010,2011,2012,2013,2014,2015,2016,2017,2018,2019],\"y\":[86.39,85.17999999999999,83.95,82.72,81.48,80.24000000000001,79.0,77.74000000000001,76.50999999999999,75.25,73.97,72.7,71.41,70.12,68.86,67.50999999999999,66.2,64.92,63.58,63.43000000000001],\"type\":\"scatter\"},{\"line\":{\"color\":\"blue\",\"width\":2},\"mode\":\"lines+markers\",\"name\":\"USA - Sustainable Management\",\"x\":[2000,2001,2002,2003,2004,2005,2006,2007,2008,2009,2010,2011,2012,2013,2014,2015,2016,2017,2018,2019],\"y\":[17.62,17.93,18.25,18.560000000000002,18.89,19.21,19.52,19.84,20.150000000000002,20.47,20.79,21.12,21.44,21.759999999999998,22.080000000000002,22.409999999999997,22.74,23.07,23.4,23.57],\"type\":\"scatter\"},{\"line\":{\"color\":\"indigo\",\"width\":2},\"mode\":\"lines+markers\",\"name\":\"USA - Mismanaged Disposal\",\"x\":[2000,2001,2002,2003,2004,2005,2006,2007,2008,2009,2010,2011,2012,2013,2014,2015,2016,2017,2018,2019],\"y\":[82.39,82.07,81.76,81.44,81.11000000000001,80.79,80.47,80.14999999999999,79.85000000000001,79.53,79.21,78.89,78.56,78.25,77.93,77.59,77.27,76.93,76.61,76.42999999999999],\"type\":\"scatter\"}],                        {\"template\":{\"data\":{\"histogram2dcontour\":[{\"type\":\"histogram2dcontour\",\"colorbar\":{\"outlinewidth\":0,\"ticks\":\"\"},\"colorscale\":[[0.0,\"#0d0887\"],[0.1111111111111111,\"#46039f\"],[0.2222222222222222,\"#7201a8\"],[0.3333333333333333,\"#9c179e\"],[0.4444444444444444,\"#bd3786\"],[0.5555555555555556,\"#d8576b\"],[0.6666666666666666,\"#ed7953\"],[0.7777777777777778,\"#fb9f3a\"],[0.8888888888888888,\"#fdca26\"],[1.0,\"#f0f921\"]]}],\"choropleth\":[{\"type\":\"choropleth\",\"colorbar\":{\"outlinewidth\":0,\"ticks\":\"\"}}],\"histogram2d\":[{\"type\":\"histogram2d\",\"colorbar\":{\"outlinewidth\":0,\"ticks\":\"\"},\"colorscale\":[[0.0,\"#0d0887\"],[0.1111111111111111,\"#46039f\"],[0.2222222222222222,\"#7201a8\"],[0.3333333333333333,\"#9c179e\"],[0.4444444444444444,\"#bd3786\"],[0.5555555555555556,\"#d8576b\"],[0.6666666666666666,\"#ed7953\"],[0.7777777777777778,\"#fb9f3a\"],[0.8888888888888888,\"#fdca26\"],[1.0,\"#f0f921\"]]}],\"heatmap\":[{\"type\":\"heatmap\",\"colorbar\":{\"outlinewidth\":0,\"ticks\":\"\"},\"colorscale\":[[0.0,\"#0d0887\"],[0.1111111111111111,\"#46039f\"],[0.2222222222222222,\"#7201a8\"],[0.3333333333333333,\"#9c179e\"],[0.4444444444444444,\"#bd3786\"],[0.5555555555555556,\"#d8576b\"],[0.6666666666666666,\"#ed7953\"],[0.7777777777777778,\"#fb9f3a\"],[0.8888888888888888,\"#fdca26\"],[1.0,\"#f0f921\"]]}],\"heatmapgl\":[{\"type\":\"heatmapgl\",\"colorbar\":{\"outlinewidth\":0,\"ticks\":\"\"},\"colorscale\":[[0.0,\"#0d0887\"],[0.1111111111111111,\"#46039f\"],[0.2222222222222222,\"#7201a8\"],[0.3333333333333333,\"#9c179e\"],[0.4444444444444444,\"#bd3786\"],[0.5555555555555556,\"#d8576b\"],[0.6666666666666666,\"#ed7953\"],[0.7777777777777778,\"#fb9f3a\"],[0.8888888888888888,\"#fdca26\"],[1.0,\"#f0f921\"]]}],\"contourcarpet\":[{\"type\":\"contourcarpet\",\"colorbar\":{\"outlinewidth\":0,\"ticks\":\"\"}}],\"contour\":[{\"type\":\"contour\",\"colorbar\":{\"outlinewidth\":0,\"ticks\":\"\"},\"colorscale\":[[0.0,\"#0d0887\"],[0.1111111111111111,\"#46039f\"],[0.2222222222222222,\"#7201a8\"],[0.3333333333333333,\"#9c179e\"],[0.4444444444444444,\"#bd3786\"],[0.5555555555555556,\"#d8576b\"],[0.6666666666666666,\"#ed7953\"],[0.7777777777777778,\"#fb9f3a\"],[0.8888888888888888,\"#fdca26\"],[1.0,\"#f0f921\"]]}],\"surface\":[{\"type\":\"surface\",\"colorbar\":{\"outlinewidth\":0,\"ticks\":\"\"},\"colorscale\":[[0.0,\"#0d0887\"],[0.1111111111111111,\"#46039f\"],[0.2222222222222222,\"#7201a8\"],[0.3333333333333333,\"#9c179e\"],[0.4444444444444444,\"#bd3786\"],[0.5555555555555556,\"#d8576b\"],[0.6666666666666666,\"#ed7953\"],[0.7777777777777778,\"#fb9f3a\"],[0.8888888888888888,\"#fdca26\"],[1.0,\"#f0f921\"]]}],\"mesh3d\":[{\"type\":\"mesh3d\",\"colorbar\":{\"outlinewidth\":0,\"ticks\":\"\"}}],\"scatter\":[{\"fillpattern\":{\"fillmode\":\"overlay\",\"size\":10,\"solidity\":0.2},\"type\":\"scatter\"}],\"parcoords\":[{\"type\":\"parcoords\",\"line\":{\"colorbar\":{\"outlinewidth\":0,\"ticks\":\"\"}}}],\"scatterpolargl\":[{\"type\":\"scatterpolargl\",\"marker\":{\"colorbar\":{\"outlinewidth\":0,\"ticks\":\"\"}}}],\"bar\":[{\"error_x\":{\"color\":\"#2a3f5f\"},\"error_y\":{\"color\":\"#2a3f5f\"},\"marker\":{\"line\":{\"color\":\"#E5ECF6\",\"width\":0.5},\"pattern\":{\"fillmode\":\"overlay\",\"size\":10,\"solidity\":0.2}},\"type\":\"bar\"}],\"scattergeo\":[{\"type\":\"scattergeo\",\"marker\":{\"colorbar\":{\"outlinewidth\":0,\"ticks\":\"\"}}}],\"scatterpolar\":[{\"type\":\"scatterpolar\",\"marker\":{\"colorbar\":{\"outlinewidth\":0,\"ticks\":\"\"}}}],\"histogram\":[{\"marker\":{\"pattern\":{\"fillmode\":\"overlay\",\"size\":10,\"solidity\":0.2}},\"type\":\"histogram\"}],\"scattergl\":[{\"type\":\"scattergl\",\"marker\":{\"colorbar\":{\"outlinewidth\":0,\"ticks\":\"\"}}}],\"scatter3d\":[{\"type\":\"scatter3d\",\"line\":{\"colorbar\":{\"outlinewidth\":0,\"ticks\":\"\"}},\"marker\":{\"colorbar\":{\"outlinewidth\":0,\"ticks\":\"\"}}}],\"scattermapbox\":[{\"type\":\"scattermapbox\",\"marker\":{\"colorbar\":{\"outlinewidth\":0,\"ticks\":\"\"}}}],\"scatterternary\":[{\"type\":\"scatterternary\",\"marker\":{\"colorbar\":{\"outlinewidth\":0,\"ticks\":\"\"}}}],\"scattercarpet\":[{\"type\":\"scattercarpet\",\"marker\":{\"colorbar\":{\"outlinewidth\":0,\"ticks\":\"\"}}}],\"carpet\":[{\"aaxis\":{\"endlinecolor\":\"#2a3f5f\",\"gridcolor\":\"white\",\"linecolor\":\"white\",\"minorgridcolor\":\"white\",\"startlinecolor\":\"#2a3f5f\"},\"baxis\":{\"endlinecolor\":\"#2a3f5f\",\"gridcolor\":\"white\",\"linecolor\":\"white\",\"minorgridcolor\":\"white\",\"startlinecolor\":\"#2a3f5f\"},\"type\":\"carpet\"}],\"table\":[{\"cells\":{\"fill\":{\"color\":\"#EBF0F8\"},\"line\":{\"color\":\"white\"}},\"header\":{\"fill\":{\"color\":\"#C8D4E3\"},\"line\":{\"color\":\"white\"}},\"type\":\"table\"}],\"barpolar\":[{\"marker\":{\"line\":{\"color\":\"#E5ECF6\",\"width\":0.5},\"pattern\":{\"fillmode\":\"overlay\",\"size\":10,\"solidity\":0.2}},\"type\":\"barpolar\"}],\"pie\":[{\"automargin\":true,\"type\":\"pie\"}]},\"layout\":{\"autotypenumbers\":\"strict\",\"colorway\":[\"#636efa\",\"#EF553B\",\"#00cc96\",\"#ab63fa\",\"#FFA15A\",\"#19d3f3\",\"#FF6692\",\"#B6E880\",\"#FF97FF\",\"#FECB52\"],\"font\":{\"color\":\"#2a3f5f\"},\"hovermode\":\"closest\",\"hoverlabel\":{\"align\":\"left\"},\"paper_bgcolor\":\"white\",\"plot_bgcolor\":\"#E5ECF6\",\"polar\":{\"bgcolor\":\"#E5ECF6\",\"angularaxis\":{\"gridcolor\":\"white\",\"linecolor\":\"white\",\"ticks\":\"\"},\"radialaxis\":{\"gridcolor\":\"white\",\"linecolor\":\"white\",\"ticks\":\"\"}},\"ternary\":{\"bgcolor\":\"#E5ECF6\",\"aaxis\":{\"gridcolor\":\"white\",\"linecolor\":\"white\",\"ticks\":\"\"},\"baxis\":{\"gridcolor\":\"white\",\"linecolor\":\"white\",\"ticks\":\"\"},\"caxis\":{\"gridcolor\":\"white\",\"linecolor\":\"white\",\"ticks\":\"\"}},\"coloraxis\":{\"colorbar\":{\"outlinewidth\":0,\"ticks\":\"\"}},\"colorscale\":{\"sequential\":[[0.0,\"#0d0887\"],[0.1111111111111111,\"#46039f\"],[0.2222222222222222,\"#7201a8\"],[0.3333333333333333,\"#9c179e\"],[0.4444444444444444,\"#bd3786\"],[0.5555555555555556,\"#d8576b\"],[0.6666666666666666,\"#ed7953\"],[0.7777777777777778,\"#fb9f3a\"],[0.8888888888888888,\"#fdca26\"],[1.0,\"#f0f921\"]],\"sequentialminus\":[[0.0,\"#0d0887\"],[0.1111111111111111,\"#46039f\"],[0.2222222222222222,\"#7201a8\"],[0.3333333333333333,\"#9c179e\"],[0.4444444444444444,\"#bd3786\"],[0.5555555555555556,\"#d8576b\"],[0.6666666666666666,\"#ed7953\"],[0.7777777777777778,\"#fb9f3a\"],[0.8888888888888888,\"#fdca26\"],[1.0,\"#f0f921\"]],\"diverging\":[[0,\"#8e0152\"],[0.1,\"#c51b7d\"],[0.2,\"#de77ae\"],[0.3,\"#f1b6da\"],[0.4,\"#fde0ef\"],[0.5,\"#f7f7f7\"],[0.6,\"#e6f5d0\"],[0.7,\"#b8e186\"],[0.8,\"#7fbc41\"],[0.9,\"#4d9221\"],[1,\"#276419\"]]},\"xaxis\":{\"gridcolor\":\"white\",\"linecolor\":\"white\",\"ticks\":\"\",\"title\":{\"standoff\":15},\"zerolinecolor\":\"white\",\"automargin\":true,\"zerolinewidth\":2},\"yaxis\":{\"gridcolor\":\"white\",\"linecolor\":\"white\",\"ticks\":\"\",\"title\":{\"standoff\":15},\"zerolinecolor\":\"white\",\"automargin\":true,\"zerolinewidth\":2},\"scene\":{\"xaxis\":{\"backgroundcolor\":\"#E5ECF6\",\"gridcolor\":\"white\",\"linecolor\":\"white\",\"showbackground\":true,\"ticks\":\"\",\"zerolinecolor\":\"white\",\"gridwidth\":2},\"yaxis\":{\"backgroundcolor\":\"#E5ECF6\",\"gridcolor\":\"white\",\"linecolor\":\"white\",\"showbackground\":true,\"ticks\":\"\",\"zerolinecolor\":\"white\",\"gridwidth\":2},\"zaxis\":{\"backgroundcolor\":\"#E5ECF6\",\"gridcolor\":\"white\",\"linecolor\":\"white\",\"showbackground\":true,\"ticks\":\"\",\"zerolinecolor\":\"white\",\"gridwidth\":2}},\"shapedefaults\":{\"line\":{\"color\":\"#2a3f5f\"}},\"annotationdefaults\":{\"arrowcolor\":\"#2a3f5f\",\"arrowhead\":0,\"arrowwidth\":1},\"geo\":{\"bgcolor\":\"white\",\"landcolor\":\"#E5ECF6\",\"subunitcolor\":\"white\",\"showland\":true,\"showlakes\":true,\"lakecolor\":\"white\"},\"title\":{\"x\":0.05},\"mapbox\":{\"style\":\"light\"}}},\"legend\":{\"x\":1.02,\"y\":1,\"traceorder\":\"normal\"},\"xaxis\":{\"title\":{\"text\":\"Year\"},\"tickmode\":\"array\",\"tickvals\":[2000,2001,2002,2003,2004,2005,2006,2007,2008,2009,2010,2011,2012,2013,2014,2015,2016,2017,2018,2019]},\"yaxis\":{\"title\":{\"text\":\"Percentage\"},\"tickmode\":\"array\",\"tickvals\":[0,10,20,30,40,50,60,70,80,90,100],\"ticktext\":[\"0%\",\"10%\",\"20%\",\"30%\",\"40%\",\"50%\",\"60%\",\"70%\",\"80%\",\"90%\",\"100%\"]},\"title\":{\"text\":\"Waste Management Comparison (2000-2019)\"}},                        {\"responsive\": true}                    ).then(function(){\n",
       "                            \n",
       "var gd = document.getElementById('7771ce6b-a233-4921-b1f7-76a5b0f4aea4');\n",
       "var x = new MutationObserver(function (mutations, observer) {{\n",
       "        var display = window.getComputedStyle(gd).display;\n",
       "        if (!display || display === 'none') {{\n",
       "            console.log([gd, 'removed!']);\n",
       "            Plotly.purge(gd);\n",
       "            observer.disconnect();\n",
       "        }}\n",
       "}});\n",
       "\n",
       "// Listen for the removal of the full notebook cells\n",
       "var notebookContainer = gd.closest('#notebook-container');\n",
       "if (notebookContainer) {{\n",
       "    x.observe(notebookContainer, {childList: true});\n",
       "}}\n",
       "\n",
       "// Listen for the clearing of the current output cell\n",
       "var outputEl = gd.closest('.output');\n",
       "if (outputEl) {{\n",
       "    x.observe(outputEl, {childList: true});\n",
       "}}\n",
       "\n",
       "                        })                };                });            </script>        </div>"
      ]
     },
     "metadata": {},
     "output_type": "display_data"
    }
   ],
   "source": [
    "import plotly.graph_objects as go\n",
    "\n",
    "# Filter data for China and USA\n",
    "china_data = country_data[country_data['Entity'] == 'China']\n",
    "usa_data = country_data[country_data['Entity'] == 'United States']\n",
    "\n",
    "# Create a figure object\n",
    "fig = go.Figure()\n",
    "\n",
    "# Add line plot for China\n",
    "fig.add_trace(go.Scatter(x=china_data['Year'], y=china_data['Sustainable Waste Management Percentage'],\n",
    "                         mode='lines+markers', name='China - Sustainable Management',\n",
    "                         line=dict(color='red', width=2)))\n",
    "fig.add_trace(go.Scatter(x=china_data['Year'], y=china_data['Mismanaged Waste Disposal Percentage'],\n",
    "                         mode='lines+markers', name='China - Mismanaged Disposal',\n",
    "                         line=dict(color='orange', width=2)))\n",
    "\n",
    "# Add line plot for USA\n",
    "fig.add_trace(go.Scatter(x=usa_data['Year'], y=usa_data['Sustainable Waste Management Percentage'],\n",
    "                         mode='lines+markers', name='USA - Sustainable Management',\n",
    "                         line=dict(color='blue', width=2)))\n",
    "fig.add_trace(go.Scatter(x=usa_data['Year'], y=usa_data['Mismanaged Waste Disposal Percentage'],\n",
    "                         mode='lines+markers', name='USA - Mismanaged Disposal',\n",
    "                         line=dict(color='indigo', width=2)))\n",
    "\n",
    "# Update layout\n",
    "fig.update_layout(title='Waste Management Comparison (2000-2019)',\n",
    "                  xaxis_title='Year',\n",
    "                  yaxis_title='Percentage',\n",
    "                  legend=dict(x=1.02, y=1, traceorder=\"normal\"),  # Position legend outside the graph area\n",
    "                  xaxis=dict(tickmode='array', tickvals=list(range(2000, 2020))),\n",
    "                  yaxis=dict(tickmode='array', tickvals=[0, 10, 20, 30, 40, 50, 60, 70, 80, 90, 100],\n",
    "                             ticktext=['0%', '10%', '20%', '30%', '40%', '50%', '60%', '70%', '80%', '90%', '100%']))\n",
    "\n",
    "# Show the plot\n",
    "fig.show()\n"
   ]
  },
  {
   "cell_type": "code",
   "execution_count": 160,
   "metadata": {},
   "outputs": [
    {
     "data": {
      "application/vnd.plotly.v1+json": {
       "config": {
        "plotlyServerURL": "https://plot.ly"
       },
       "data": [
        {
         "marker": {
          "color": "blue"
         },
         "name": "China - Sustainable Management",
         "type": "bar",
         "x": [
          2000,
          2001,
          2002,
          2003,
          2004,
          2005,
          2006,
          2007,
          2008,
          2009,
          2010,
          2011,
          2012,
          2013,
          2014,
          2015,
          2016,
          2017,
          2018,
          2019
         ],
         "y": [
          13.600000000000001,
          14.82,
          16.04,
          17.27,
          18.52,
          19.75,
          21,
          22.25,
          23.5,
          24.75,
          26.020000000000003,
          27.31,
          28.59,
          29.89,
          31.14,
          32.49,
          33.8,
          35.08,
          36.42,
          36.56
         ]
        },
        {
         "marker": {
          "color": "red"
         },
         "name": "China - Mismanaged Disposal",
         "type": "bar",
         "x": [
          2000,
          2001,
          2002,
          2003,
          2004,
          2005,
          2006,
          2007,
          2008,
          2009,
          2010,
          2011,
          2012,
          2013,
          2014,
          2015,
          2016,
          2017,
          2018,
          2019
         ],
         "y": [
          86.39,
          85.17999999999999,
          83.95,
          82.72,
          81.48,
          80.24000000000001,
          79,
          77.74000000000001,
          76.50999999999999,
          75.25,
          73.97,
          72.7,
          71.41,
          70.12,
          68.86,
          67.50999999999999,
          66.2,
          64.92,
          63.58,
          63.43000000000001
         ]
        },
        {
         "marker": {
          "color": "green"
         },
         "name": "USA - Sustainable Management",
         "type": "bar",
         "x": [
          2000,
          2001,
          2002,
          2003,
          2004,
          2005,
          2006,
          2007,
          2008,
          2009,
          2010,
          2011,
          2012,
          2013,
          2014,
          2015,
          2016,
          2017,
          2018,
          2019
         ],
         "y": [
          17.62,
          17.93,
          18.25,
          18.560000000000002,
          18.89,
          19.21,
          19.52,
          19.84,
          20.150000000000002,
          20.47,
          20.79,
          21.12,
          21.44,
          21.759999999999998,
          22.080000000000002,
          22.409999999999997,
          22.74,
          23.07,
          23.4,
          23.57
         ]
        },
        {
         "marker": {
          "color": "orange"
         },
         "name": "USA - Mismanaged Disposal",
         "type": "bar",
         "x": [
          2000,
          2001,
          2002,
          2003,
          2004,
          2005,
          2006,
          2007,
          2008,
          2009,
          2010,
          2011,
          2012,
          2013,
          2014,
          2015,
          2016,
          2017,
          2018,
          2019
         ],
         "y": [
          82.39,
          82.07,
          81.76,
          81.44,
          81.11000000000001,
          80.79,
          80.47,
          80.14999999999999,
          79.85000000000001,
          79.53,
          79.21,
          78.89,
          78.56,
          78.25,
          77.93,
          77.59,
          77.27,
          76.93,
          76.61,
          76.42999999999999
         ]
        }
       ],
       "layout": {
        "autosize": true,
        "barmode": "group",
        "legend": {
         "orientation": "h",
         "x": 0.5,
         "y": -0.2
        },
        "template": {
         "data": {
          "bar": [
           {
            "error_x": {
             "color": "#2a3f5f"
            },
            "error_y": {
             "color": "#2a3f5f"
            },
            "marker": {
             "line": {
              "color": "#E5ECF6",
              "width": 0.5
             },
             "pattern": {
              "fillmode": "overlay",
              "size": 10,
              "solidity": 0.2
             }
            },
            "type": "bar"
           }
          ],
          "barpolar": [
           {
            "marker": {
             "line": {
              "color": "#E5ECF6",
              "width": 0.5
             },
             "pattern": {
              "fillmode": "overlay",
              "size": 10,
              "solidity": 0.2
             }
            },
            "type": "barpolar"
           }
          ],
          "carpet": [
           {
            "aaxis": {
             "endlinecolor": "#2a3f5f",
             "gridcolor": "white",
             "linecolor": "white",
             "minorgridcolor": "white",
             "startlinecolor": "#2a3f5f"
            },
            "baxis": {
             "endlinecolor": "#2a3f5f",
             "gridcolor": "white",
             "linecolor": "white",
             "minorgridcolor": "white",
             "startlinecolor": "#2a3f5f"
            },
            "type": "carpet"
           }
          ],
          "choropleth": [
           {
            "colorbar": {
             "outlinewidth": 0,
             "ticks": ""
            },
            "type": "choropleth"
           }
          ],
          "contour": [
           {
            "colorbar": {
             "outlinewidth": 0,
             "ticks": ""
            },
            "colorscale": [
             [
              0,
              "#0d0887"
             ],
             [
              0.1111111111111111,
              "#46039f"
             ],
             [
              0.2222222222222222,
              "#7201a8"
             ],
             [
              0.3333333333333333,
              "#9c179e"
             ],
             [
              0.4444444444444444,
              "#bd3786"
             ],
             [
              0.5555555555555556,
              "#d8576b"
             ],
             [
              0.6666666666666666,
              "#ed7953"
             ],
             [
              0.7777777777777778,
              "#fb9f3a"
             ],
             [
              0.8888888888888888,
              "#fdca26"
             ],
             [
              1,
              "#f0f921"
             ]
            ],
            "type": "contour"
           }
          ],
          "contourcarpet": [
           {
            "colorbar": {
             "outlinewidth": 0,
             "ticks": ""
            },
            "type": "contourcarpet"
           }
          ],
          "heatmap": [
           {
            "colorbar": {
             "outlinewidth": 0,
             "ticks": ""
            },
            "colorscale": [
             [
              0,
              "#0d0887"
             ],
             [
              0.1111111111111111,
              "#46039f"
             ],
             [
              0.2222222222222222,
              "#7201a8"
             ],
             [
              0.3333333333333333,
              "#9c179e"
             ],
             [
              0.4444444444444444,
              "#bd3786"
             ],
             [
              0.5555555555555556,
              "#d8576b"
             ],
             [
              0.6666666666666666,
              "#ed7953"
             ],
             [
              0.7777777777777778,
              "#fb9f3a"
             ],
             [
              0.8888888888888888,
              "#fdca26"
             ],
             [
              1,
              "#f0f921"
             ]
            ],
            "type": "heatmap"
           }
          ],
          "heatmapgl": [
           {
            "colorbar": {
             "outlinewidth": 0,
             "ticks": ""
            },
            "colorscale": [
             [
              0,
              "#0d0887"
             ],
             [
              0.1111111111111111,
              "#46039f"
             ],
             [
              0.2222222222222222,
              "#7201a8"
             ],
             [
              0.3333333333333333,
              "#9c179e"
             ],
             [
              0.4444444444444444,
              "#bd3786"
             ],
             [
              0.5555555555555556,
              "#d8576b"
             ],
             [
              0.6666666666666666,
              "#ed7953"
             ],
             [
              0.7777777777777778,
              "#fb9f3a"
             ],
             [
              0.8888888888888888,
              "#fdca26"
             ],
             [
              1,
              "#f0f921"
             ]
            ],
            "type": "heatmapgl"
           }
          ],
          "histogram": [
           {
            "marker": {
             "pattern": {
              "fillmode": "overlay",
              "size": 10,
              "solidity": 0.2
             }
            },
            "type": "histogram"
           }
          ],
          "histogram2d": [
           {
            "colorbar": {
             "outlinewidth": 0,
             "ticks": ""
            },
            "colorscale": [
             [
              0,
              "#0d0887"
             ],
             [
              0.1111111111111111,
              "#46039f"
             ],
             [
              0.2222222222222222,
              "#7201a8"
             ],
             [
              0.3333333333333333,
              "#9c179e"
             ],
             [
              0.4444444444444444,
              "#bd3786"
             ],
             [
              0.5555555555555556,
              "#d8576b"
             ],
             [
              0.6666666666666666,
              "#ed7953"
             ],
             [
              0.7777777777777778,
              "#fb9f3a"
             ],
             [
              0.8888888888888888,
              "#fdca26"
             ],
             [
              1,
              "#f0f921"
             ]
            ],
            "type": "histogram2d"
           }
          ],
          "histogram2dcontour": [
           {
            "colorbar": {
             "outlinewidth": 0,
             "ticks": ""
            },
            "colorscale": [
             [
              0,
              "#0d0887"
             ],
             [
              0.1111111111111111,
              "#46039f"
             ],
             [
              0.2222222222222222,
              "#7201a8"
             ],
             [
              0.3333333333333333,
              "#9c179e"
             ],
             [
              0.4444444444444444,
              "#bd3786"
             ],
             [
              0.5555555555555556,
              "#d8576b"
             ],
             [
              0.6666666666666666,
              "#ed7953"
             ],
             [
              0.7777777777777778,
              "#fb9f3a"
             ],
             [
              0.8888888888888888,
              "#fdca26"
             ],
             [
              1,
              "#f0f921"
             ]
            ],
            "type": "histogram2dcontour"
           }
          ],
          "mesh3d": [
           {
            "colorbar": {
             "outlinewidth": 0,
             "ticks": ""
            },
            "type": "mesh3d"
           }
          ],
          "parcoords": [
           {
            "line": {
             "colorbar": {
              "outlinewidth": 0,
              "ticks": ""
             }
            },
            "type": "parcoords"
           }
          ],
          "pie": [
           {
            "automargin": true,
            "type": "pie"
           }
          ],
          "scatter": [
           {
            "fillpattern": {
             "fillmode": "overlay",
             "size": 10,
             "solidity": 0.2
            },
            "type": "scatter"
           }
          ],
          "scatter3d": [
           {
            "line": {
             "colorbar": {
              "outlinewidth": 0,
              "ticks": ""
             }
            },
            "marker": {
             "colorbar": {
              "outlinewidth": 0,
              "ticks": ""
             }
            },
            "type": "scatter3d"
           }
          ],
          "scattercarpet": [
           {
            "marker": {
             "colorbar": {
              "outlinewidth": 0,
              "ticks": ""
             }
            },
            "type": "scattercarpet"
           }
          ],
          "scattergeo": [
           {
            "marker": {
             "colorbar": {
              "outlinewidth": 0,
              "ticks": ""
             }
            },
            "type": "scattergeo"
           }
          ],
          "scattergl": [
           {
            "marker": {
             "colorbar": {
              "outlinewidth": 0,
              "ticks": ""
             }
            },
            "type": "scattergl"
           }
          ],
          "scattermapbox": [
           {
            "marker": {
             "colorbar": {
              "outlinewidth": 0,
              "ticks": ""
             }
            },
            "type": "scattermapbox"
           }
          ],
          "scatterpolar": [
           {
            "marker": {
             "colorbar": {
              "outlinewidth": 0,
              "ticks": ""
             }
            },
            "type": "scatterpolar"
           }
          ],
          "scatterpolargl": [
           {
            "marker": {
             "colorbar": {
              "outlinewidth": 0,
              "ticks": ""
             }
            },
            "type": "scatterpolargl"
           }
          ],
          "scatterternary": [
           {
            "marker": {
             "colorbar": {
              "outlinewidth": 0,
              "ticks": ""
             }
            },
            "type": "scatterternary"
           }
          ],
          "surface": [
           {
            "colorbar": {
             "outlinewidth": 0,
             "ticks": ""
            },
            "colorscale": [
             [
              0,
              "#0d0887"
             ],
             [
              0.1111111111111111,
              "#46039f"
             ],
             [
              0.2222222222222222,
              "#7201a8"
             ],
             [
              0.3333333333333333,
              "#9c179e"
             ],
             [
              0.4444444444444444,
              "#bd3786"
             ],
             [
              0.5555555555555556,
              "#d8576b"
             ],
             [
              0.6666666666666666,
              "#ed7953"
             ],
             [
              0.7777777777777778,
              "#fb9f3a"
             ],
             [
              0.8888888888888888,
              "#fdca26"
             ],
             [
              1,
              "#f0f921"
             ]
            ],
            "type": "surface"
           }
          ],
          "table": [
           {
            "cells": {
             "fill": {
              "color": "#EBF0F8"
             },
             "line": {
              "color": "white"
             }
            },
            "header": {
             "fill": {
              "color": "#C8D4E3"
             },
             "line": {
              "color": "white"
             }
            },
            "type": "table"
           }
          ]
         },
         "layout": {
          "annotationdefaults": {
           "arrowcolor": "#2a3f5f",
           "arrowhead": 0,
           "arrowwidth": 1
          },
          "autotypenumbers": "strict",
          "coloraxis": {
           "colorbar": {
            "outlinewidth": 0,
            "ticks": ""
           }
          },
          "colorscale": {
           "diverging": [
            [
             0,
             "#8e0152"
            ],
            [
             0.1,
             "#c51b7d"
            ],
            [
             0.2,
             "#de77ae"
            ],
            [
             0.3,
             "#f1b6da"
            ],
            [
             0.4,
             "#fde0ef"
            ],
            [
             0.5,
             "#f7f7f7"
            ],
            [
             0.6,
             "#e6f5d0"
            ],
            [
             0.7,
             "#b8e186"
            ],
            [
             0.8,
             "#7fbc41"
            ],
            [
             0.9,
             "#4d9221"
            ],
            [
             1,
             "#276419"
            ]
           ],
           "sequential": [
            [
             0,
             "#0d0887"
            ],
            [
             0.1111111111111111,
             "#46039f"
            ],
            [
             0.2222222222222222,
             "#7201a8"
            ],
            [
             0.3333333333333333,
             "#9c179e"
            ],
            [
             0.4444444444444444,
             "#bd3786"
            ],
            [
             0.5555555555555556,
             "#d8576b"
            ],
            [
             0.6666666666666666,
             "#ed7953"
            ],
            [
             0.7777777777777778,
             "#fb9f3a"
            ],
            [
             0.8888888888888888,
             "#fdca26"
            ],
            [
             1,
             "#f0f921"
            ]
           ],
           "sequentialminus": [
            [
             0,
             "#0d0887"
            ],
            [
             0.1111111111111111,
             "#46039f"
            ],
            [
             0.2222222222222222,
             "#7201a8"
            ],
            [
             0.3333333333333333,
             "#9c179e"
            ],
            [
             0.4444444444444444,
             "#bd3786"
            ],
            [
             0.5555555555555556,
             "#d8576b"
            ],
            [
             0.6666666666666666,
             "#ed7953"
            ],
            [
             0.7777777777777778,
             "#fb9f3a"
            ],
            [
             0.8888888888888888,
             "#fdca26"
            ],
            [
             1,
             "#f0f921"
            ]
           ]
          },
          "colorway": [
           "#636efa",
           "#EF553B",
           "#00cc96",
           "#ab63fa",
           "#FFA15A",
           "#19d3f3",
           "#FF6692",
           "#B6E880",
           "#FF97FF",
           "#FECB52"
          ],
          "font": {
           "color": "#2a3f5f"
          },
          "geo": {
           "bgcolor": "white",
           "lakecolor": "white",
           "landcolor": "#E5ECF6",
           "showlakes": true,
           "showland": true,
           "subunitcolor": "white"
          },
          "hoverlabel": {
           "align": "left"
          },
          "hovermode": "closest",
          "mapbox": {
           "style": "light"
          },
          "paper_bgcolor": "white",
          "plot_bgcolor": "#E5ECF6",
          "polar": {
           "angularaxis": {
            "gridcolor": "white",
            "linecolor": "white",
            "ticks": ""
           },
           "bgcolor": "#E5ECF6",
           "radialaxis": {
            "gridcolor": "white",
            "linecolor": "white",
            "ticks": ""
           }
          },
          "scene": {
           "xaxis": {
            "backgroundcolor": "#E5ECF6",
            "gridcolor": "white",
            "gridwidth": 2,
            "linecolor": "white",
            "showbackground": true,
            "ticks": "",
            "zerolinecolor": "white"
           },
           "yaxis": {
            "backgroundcolor": "#E5ECF6",
            "gridcolor": "white",
            "gridwidth": 2,
            "linecolor": "white",
            "showbackground": true,
            "ticks": "",
            "zerolinecolor": "white"
           },
           "zaxis": {
            "backgroundcolor": "#E5ECF6",
            "gridcolor": "white",
            "gridwidth": 2,
            "linecolor": "white",
            "showbackground": true,
            "ticks": "",
            "zerolinecolor": "white"
           }
          },
          "shapedefaults": {
           "line": {
            "color": "#2a3f5f"
           }
          },
          "ternary": {
           "aaxis": {
            "gridcolor": "white",
            "linecolor": "white",
            "ticks": ""
           },
           "baxis": {
            "gridcolor": "white",
            "linecolor": "white",
            "ticks": ""
           },
           "bgcolor": "#E5ECF6",
           "caxis": {
            "gridcolor": "white",
            "linecolor": "white",
            "ticks": ""
           }
          },
          "title": {
           "x": 0.05
          },
          "xaxis": {
           "automargin": true,
           "gridcolor": "white",
           "linecolor": "white",
           "ticks": "",
           "title": {
            "standoff": 15
           },
           "zerolinecolor": "white",
           "zerolinewidth": 2
          },
          "yaxis": {
           "automargin": true,
           "gridcolor": "white",
           "linecolor": "white",
           "ticks": "",
           "title": {
            "standoff": 15
           },
           "zerolinecolor": "white",
           "zerolinewidth": 2
          }
         }
        },
        "title": {
         "text": "Waste Management Comparison (2000-2019)"
        },
        "xaxis": {
         "autorange": true,
         "range": [
          1999.5,
          2019.5
         ],
         "tickmode": "array",
         "ticktext": [
          "2000",
          "2001",
          "2002",
          "2003",
          "2004",
          "2005",
          "2006",
          "2007",
          "2008",
          "2009",
          "2010",
          "2011",
          "2012",
          "2013",
          "2014",
          "2015",
          "2016",
          "2017",
          "2018",
          "2019"
         ],
         "tickvals": [
          2000,
          2001,
          2002,
          2003,
          2004,
          2005,
          2006,
          2007,
          2008,
          2009,
          2010,
          2011,
          2012,
          2013,
          2014,
          2015,
          2016,
          2017,
          2018,
          2019
         ],
         "title": {
          "text": "Year"
         },
         "type": "linear"
        },
        "yaxis": {
         "autorange": false,
         "range": [
          0,
          101.45846020008699
         ],
         "tickmode": "array",
         "ticktext": [
          "0%",
          "10%",
          "20%",
          "30%",
          "40%",
          "50%",
          "60%",
          "70%",
          "80%",
          "90%",
          "100%"
         ],
         "tickvals": [
          0,
          10,
          20,
          30,
          40,
          50,
          60,
          70,
          80,
          90,
          100
         ],
         "title": {
          "text": "Percentage"
         },
         "type": "linear"
        }
       }
      },
      "image/png": "[encoded data removed]",
      "text/html": [
       "<div>                            <div id=\"a10d4c4c-5b5e-4479-81df-4a7dda6f9613\" class=\"plotly-graph-div\" style=\"height:525px; width:100%;\"></div>            <script type=\"text/javascript\">                require([\"plotly\"], function(Plotly) {                    window.PLOTLYENV=window.PLOTLYENV || {};                                    if (document.getElementById(\"a10d4c4c-5b5e-4479-81df-4a7dda6f9613\")) {                    Plotly.newPlot(                        \"a10d4c4c-5b5e-4479-81df-4a7dda6f9613\",                        [{\"marker\":{\"color\":\"blue\"},\"name\":\"China - Sustainable Management\",\"x\":[2000,2001,2002,2003,2004,2005,2006,2007,2008,2009,2010,2011,2012,2013,2014,2015,2016,2017,2018,2019],\"y\":[13.600000000000001,14.82,16.04,17.27,18.52,19.75,21.0,22.25,23.5,24.75,26.020000000000003,27.31,28.59,29.89,31.14,32.49,33.8,35.08,36.42,36.56],\"type\":\"bar\"},{\"marker\":{\"color\":\"red\"},\"name\":\"China - Mismanaged Disposal\",\"x\":[2000,2001,2002,2003,2004,2005,2006,2007,2008,2009,2010,2011,2012,2013,2014,2015,2016,2017,2018,2019],\"y\":[86.39,85.17999999999999,83.95,82.72,81.48,80.24000000000001,79.0,77.74000000000001,76.50999999999999,75.25,73.97,72.7,71.41,70.12,68.86,67.50999999999999,66.2,64.92,63.58,63.43000000000001],\"type\":\"bar\"},{\"marker\":{\"color\":\"green\"},\"name\":\"USA - Sustainable Management\",\"x\":[2000,2001,2002,2003,2004,2005,2006,2007,2008,2009,2010,2011,2012,2013,2014,2015,2016,2017,2018,2019],\"y\":[17.62,17.93,18.25,18.560000000000002,18.89,19.21,19.52,19.84,20.150000000000002,20.47,20.79,21.12,21.44,21.759999999999998,22.080000000000002,22.409999999999997,22.74,23.07,23.4,23.57],\"type\":\"bar\"},{\"marker\":{\"color\":\"orange\"},\"name\":\"USA - Mismanaged Disposal\",\"x\":[2000,2001,2002,2003,2004,2005,2006,2007,2008,2009,2010,2011,2012,2013,2014,2015,2016,2017,2018,2019],\"y\":[82.39,82.07,81.76,81.44,81.11000000000001,80.79,80.47,80.14999999999999,79.85000000000001,79.53,79.21,78.89,78.56,78.25,77.93,77.59,77.27,76.93,76.61,76.42999999999999],\"type\":\"bar\"}],                        {\"template\":{\"data\":{\"histogram2dcontour\":[{\"type\":\"histogram2dcontour\",\"colorbar\":{\"outlinewidth\":0,\"ticks\":\"\"},\"colorscale\":[[0.0,\"#0d0887\"],[0.1111111111111111,\"#46039f\"],[0.2222222222222222,\"#7201a8\"],[0.3333333333333333,\"#9c179e\"],[0.4444444444444444,\"#bd3786\"],[0.5555555555555556,\"#d8576b\"],[0.6666666666666666,\"#ed7953\"],[0.7777777777777778,\"#fb9f3a\"],[0.8888888888888888,\"#fdca26\"],[1.0,\"#f0f921\"]]}],\"choropleth\":[{\"type\":\"choropleth\",\"colorbar\":{\"outlinewidth\":0,\"ticks\":\"\"}}],\"histogram2d\":[{\"type\":\"histogram2d\",\"colorbar\":{\"outlinewidth\":0,\"ticks\":\"\"},\"colorscale\":[[0.0,\"#0d0887\"],[0.1111111111111111,\"#46039f\"],[0.2222222222222222,\"#7201a8\"],[0.3333333333333333,\"#9c179e\"],[0.4444444444444444,\"#bd3786\"],[0.5555555555555556,\"#d8576b\"],[0.6666666666666666,\"#ed7953\"],[0.7777777777777778,\"#fb9f3a\"],[0.8888888888888888,\"#fdca26\"],[1.0,\"#f0f921\"]]}],\"heatmap\":[{\"type\":\"heatmap\",\"colorbar\":{\"outlinewidth\":0,\"ticks\":\"\"},\"colorscale\":[[0.0,\"#0d0887\"],[0.1111111111111111,\"#46039f\"],[0.2222222222222222,\"#7201a8\"],[0.3333333333333333,\"#9c179e\"],[0.4444444444444444,\"#bd3786\"],[0.5555555555555556,\"#d8576b\"],[0.6666666666666666,\"#ed7953\"],[0.7777777777777778,\"#fb9f3a\"],[0.8888888888888888,\"#fdca26\"],[1.0,\"#f0f921\"]]}],\"heatmapgl\":[{\"type\":\"heatmapgl\",\"colorbar\":{\"outlinewidth\":0,\"ticks\":\"\"},\"colorscale\":[[0.0,\"#0d0887\"],[0.1111111111111111,\"#46039f\"],[0.2222222222222222,\"#7201a8\"],[0.3333333333333333,\"#9c179e\"],[0.4444444444444444,\"#bd3786\"],[0.5555555555555556,\"#d8576b\"],[0.6666666666666666,\"#ed7953\"],[0.7777777777777778,\"#fb9f3a\"],[0.8888888888888888,\"#fdca26\"],[1.0,\"#f0f921\"]]}],\"contourcarpet\":[{\"type\":\"contourcarpet\",\"colorbar\":{\"outlinewidth\":0,\"ticks\":\"\"}}],\"contour\":[{\"type\":\"contour\",\"colorbar\":{\"outlinewidth\":0,\"ticks\":\"\"},\"colorscale\":[[0.0,\"#0d0887\"],[0.1111111111111111,\"#46039f\"],[0.2222222222222222,\"#7201a8\"],[0.3333333333333333,\"#9c179e\"],[0.4444444444444444,\"#bd3786\"],[0.5555555555555556,\"#d8576b\"],[0.6666666666666666,\"#ed7953\"],[0.7777777777777778,\"#fb9f3a\"],[0.8888888888888888,\"#fdca26\"],[1.0,\"#f0f921\"]]}],\"surface\":[{\"type\":\"surface\",\"colorbar\":{\"outlinewidth\":0,\"ticks\":\"\"},\"colorscale\":[[0.0,\"#0d0887\"],[0.1111111111111111,\"#46039f\"],[0.2222222222222222,\"#7201a8\"],[0.3333333333333333,\"#9c179e\"],[0.4444444444444444,\"#bd3786\"],[0.5555555555555556,\"#d8576b\"],[0.6666666666666666,\"#ed7953\"],[0.7777777777777778,\"#fb9f3a\"],[0.8888888888888888,\"#fdca26\"],[1.0,\"#f0f921\"]]}],\"mesh3d\":[{\"type\":\"mesh3d\",\"colorbar\":{\"outlinewidth\":0,\"ticks\":\"\"}}],\"scatter\":[{\"fillpattern\":{\"fillmode\":\"overlay\",\"size\":10,\"solidity\":0.2},\"type\":\"scatter\"}],\"parcoords\":[{\"type\":\"parcoords\",\"line\":{\"colorbar\":{\"outlinewidth\":0,\"ticks\":\"\"}}}],\"scatterpolargl\":[{\"type\":\"scatterpolargl\",\"marker\":{\"colorbar\":{\"outlinewidth\":0,\"ticks\":\"\"}}}],\"bar\":[{\"error_x\":{\"color\":\"#2a3f5f\"},\"error_y\":{\"color\":\"#2a3f5f\"},\"marker\":{\"line\":{\"color\":\"#E5ECF6\",\"width\":0.5},\"pattern\":{\"fillmode\":\"overlay\",\"size\":10,\"solidity\":0.2}},\"type\":\"bar\"}],\"scattergeo\":[{\"type\":\"scattergeo\",\"marker\":{\"colorbar\":{\"outlinewidth\":0,\"ticks\":\"\"}}}],\"scatterpolar\":[{\"type\":\"scatterpolar\",\"marker\":{\"colorbar\":{\"outlinewidth\":0,\"ticks\":\"\"}}}],\"histogram\":[{\"marker\":{\"pattern\":{\"fillmode\":\"overlay\",\"size\":10,\"solidity\":0.2}},\"type\":\"histogram\"}],\"scattergl\":[{\"type\":\"scattergl\",\"marker\":{\"colorbar\":{\"outlinewidth\":0,\"ticks\":\"\"}}}],\"scatter3d\":[{\"type\":\"scatter3d\",\"line\":{\"colorbar\":{\"outlinewidth\":0,\"ticks\":\"\"}},\"marker\":{\"colorbar\":{\"outlinewidth\":0,\"ticks\":\"\"}}}],\"scattermapbox\":[{\"type\":\"scattermapbox\",\"marker\":{\"colorbar\":{\"outlinewidth\":0,\"ticks\":\"\"}}}],\"scatterternary\":[{\"type\":\"scatterternary\",\"marker\":{\"colorbar\":{\"outlinewidth\":0,\"ticks\":\"\"}}}],\"scattercarpet\":[{\"type\":\"scattercarpet\",\"marker\":{\"colorbar\":{\"outlinewidth\":0,\"ticks\":\"\"}}}],\"carpet\":[{\"aaxis\":{\"endlinecolor\":\"#2a3f5f\",\"gridcolor\":\"white\",\"linecolor\":\"white\",\"minorgridcolor\":\"white\",\"startlinecolor\":\"#2a3f5f\"},\"baxis\":{\"endlinecolor\":\"#2a3f5f\",\"gridcolor\":\"white\",\"linecolor\":\"white\",\"minorgridcolor\":\"white\",\"startlinecolor\":\"#2a3f5f\"},\"type\":\"carpet\"}],\"table\":[{\"cells\":{\"fill\":{\"color\":\"#EBF0F8\"},\"line\":{\"color\":\"white\"}},\"header\":{\"fill\":{\"color\":\"#C8D4E3\"},\"line\":{\"color\":\"white\"}},\"type\":\"table\"}],\"barpolar\":[{\"marker\":{\"line\":{\"color\":\"#E5ECF6\",\"width\":0.5},\"pattern\":{\"fillmode\":\"overlay\",\"size\":10,\"solidity\":0.2}},\"type\":\"barpolar\"}],\"pie\":[{\"automargin\":true,\"type\":\"pie\"}]},\"layout\":{\"autotypenumbers\":\"strict\",\"colorway\":[\"#636efa\",\"#EF553B\",\"#00cc96\",\"#ab63fa\",\"#FFA15A\",\"#19d3f3\",\"#FF6692\",\"#B6E880\",\"#FF97FF\",\"#FECB52\"],\"font\":{\"color\":\"#2a3f5f\"},\"hovermode\":\"closest\",\"hoverlabel\":{\"align\":\"left\"},\"paper_bgcolor\":\"white\",\"plot_bgcolor\":\"#E5ECF6\",\"polar\":{\"bgcolor\":\"#E5ECF6\",\"angularaxis\":{\"gridcolor\":\"white\",\"linecolor\":\"white\",\"ticks\":\"\"},\"radialaxis\":{\"gridcolor\":\"white\",\"linecolor\":\"white\",\"ticks\":\"\"}},\"ternary\":{\"bgcolor\":\"#E5ECF6\",\"aaxis\":{\"gridcolor\":\"white\",\"linecolor\":\"white\",\"ticks\":\"\"},\"baxis\":{\"gridcolor\":\"white\",\"linecolor\":\"white\",\"ticks\":\"\"},\"caxis\":{\"gridcolor\":\"white\",\"linecolor\":\"white\",\"ticks\":\"\"}},\"coloraxis\":{\"colorbar\":{\"outlinewidth\":0,\"ticks\":\"\"}},\"colorscale\":{\"sequential\":[[0.0,\"#0d0887\"],[0.1111111111111111,\"#46039f\"],[0.2222222222222222,\"#7201a8\"],[0.3333333333333333,\"#9c179e\"],[0.4444444444444444,\"#bd3786\"],[0.5555555555555556,\"#d8576b\"],[0.6666666666666666,\"#ed7953\"],[0.7777777777777778,\"#fb9f3a\"],[0.8888888888888888,\"#fdca26\"],[1.0,\"#f0f921\"]],\"sequentialminus\":[[0.0,\"#0d0887\"],[0.1111111111111111,\"#46039f\"],[0.2222222222222222,\"#7201a8\"],[0.3333333333333333,\"#9c179e\"],[0.4444444444444444,\"#bd3786\"],[0.5555555555555556,\"#d8576b\"],[0.6666666666666666,\"#ed7953\"],[0.7777777777777778,\"#fb9f3a\"],[0.8888888888888888,\"#fdca26\"],[1.0,\"#f0f921\"]],\"diverging\":[[0,\"#8e0152\"],[0.1,\"#c51b7d\"],[0.2,\"#de77ae\"],[0.3,\"#f1b6da\"],[0.4,\"#fde0ef\"],[0.5,\"#f7f7f7\"],[0.6,\"#e6f5d0\"],[0.7,\"#b8e186\"],[0.8,\"#7fbc41\"],[0.9,\"#4d9221\"],[1,\"#276419\"]]},\"xaxis\":{\"gridcolor\":\"white\",\"linecolor\":\"white\",\"ticks\":\"\",\"title\":{\"standoff\":15},\"zerolinecolor\":\"white\",\"automargin\":true,\"zerolinewidth\":2},\"yaxis\":{\"gridcolor\":\"white\",\"linecolor\":\"white\",\"ticks\":\"\",\"title\":{\"standoff\":15},\"zerolinecolor\":\"white\",\"automargin\":true,\"zerolinewidth\":2},\"scene\":{\"xaxis\":{\"backgroundcolor\":\"#E5ECF6\",\"gridcolor\":\"white\",\"linecolor\":\"white\",\"showbackground\":true,\"ticks\":\"\",\"zerolinecolor\":\"white\",\"gridwidth\":2},\"yaxis\":{\"backgroundcolor\":\"#E5ECF6\",\"gridcolor\":\"white\",\"linecolor\":\"white\",\"showbackground\":true,\"ticks\":\"\",\"zerolinecolor\":\"white\",\"gridwidth\":2},\"zaxis\":{\"backgroundcolor\":\"#E5ECF6\",\"gridcolor\":\"white\",\"linecolor\":\"white\",\"showbackground\":true,\"ticks\":\"\",\"zerolinecolor\":\"white\",\"gridwidth\":2}},\"shapedefaults\":{\"line\":{\"color\":\"#2a3f5f\"}},\"annotationdefaults\":{\"arrowcolor\":\"#2a3f5f\",\"arrowhead\":0,\"arrowwidth\":1},\"geo\":{\"bgcolor\":\"white\",\"landcolor\":\"#E5ECF6\",\"subunitcolor\":\"white\",\"showland\":true,\"showlakes\":true,\"lakecolor\":\"white\"},\"title\":{\"x\":0.05},\"mapbox\":{\"style\":\"light\"}}},\"legend\":{\"x\":0.5,\"y\":-0.2,\"orientation\":\"h\"},\"xaxis\":{\"title\":{\"text\":\"Year\"},\"tickmode\":\"array\",\"tickvals\":[2000,2001,2002,2003,2004,2005,2006,2007,2008,2009,2010,2011,2012,2013,2014,2015,2016,2017,2018,2019],\"ticktext\":[\"2000\",\"2001\",\"2002\",\"2003\",\"2004\",\"2005\",\"2006\",\"2007\",\"2008\",\"2009\",\"2010\",\"2011\",\"2012\",\"2013\",\"2014\",\"2015\",\"2016\",\"2017\",\"2018\",\"2019\"]},\"yaxis\":{\"title\":{\"text\":\"Percentage\"},\"tickmode\":\"array\",\"tickvals\":[0,10,20,30,40,50,60,70,80,90,100],\"ticktext\":[\"0%\",\"10%\",\"20%\",\"30%\",\"40%\",\"50%\",\"60%\",\"70%\",\"80%\",\"90%\",\"100%\"]},\"barmode\":\"group\",\"title\":{\"text\":\"Waste Management Comparison (2000-2019)\"}},                        {\"responsive\": true}                    ).then(function(){\n",
       "                            \n",
       "var gd = document.getElementById('a10d4c4c-5b5e-4479-81df-4a7dda6f9613');\n",
       "var x = new MutationObserver(function (mutations, observer) {{\n",
       "        var display = window.getComputedStyle(gd).display;\n",
       "        if (!display || display === 'none') {{\n",
       "            console.log([gd, 'removed!']);\n",
       "            Plotly.purge(gd);\n",
       "            observer.disconnect();\n",
       "        }}\n",
       "}});\n",
       "\n",
       "// Listen for the removal of the full notebook cells\n",
       "var notebookContainer = gd.closest('#notebook-container');\n",
       "if (notebookContainer) {{\n",
       "    x.observe(notebookContainer, {childList: true});\n",
       "}}\n",
       "\n",
       "// Listen for the clearing of the current output cell\n",
       "var outputEl = gd.closest('.output');\n",
       "if (outputEl) {{\n",
       "    x.observe(outputEl, {childList: true});\n",
       "}}\n",
       "\n",
       "                        })                };                });            </script>        </div>"
      ]
     },
     "metadata": {},
     "output_type": "display_data"
    }
   ],
   "source": [
    "import plotly.graph_objects as go\n",
    "\n",
    "# Filter data for China and USA\n",
    "china_data = country_data[country_data['Entity'] == 'China']\n",
    "usa_data = country_data[country_data['Entity'] == 'United States']\n",
    "\n",
    "# Create a figure object\n",
    "fig = go.Figure()\n",
    "\n",
    "# Add bar plot for China\n",
    "fig.add_trace(go.Bar(x=china_data['Year'], y=china_data['Sustainable Waste Management Percentage'],\n",
    "                     name='China - Sustainable Management', marker_color='blue'))\n",
    "fig.add_trace(go.Bar(x=china_data['Year'], y=china_data['Mismanaged Waste Disposal Percentage'],\n",
    "                     name='China - Mismanaged Disposal', marker_color='red'))\n",
    "\n",
    "# Add bar plot for USA\n",
    "fig.add_trace(go.Bar(x=usa_data['Year'], y=usa_data['Sustainable Waste Management Percentage'],\n",
    "                     name='USA - Sustainable Management', marker_color='green'))\n",
    "fig.add_trace(go.Bar(x=usa_data['Year'], y=usa_data['Mismanaged Waste Disposal Percentage'],\n",
    "                     name='USA - Mismanaged Disposal', marker_color='orange'))\n",
    "\n",
    "# Update layout\n",
    "fig.update_layout(barmode='group',\n",
    "                  title='Waste Management Comparison (2000-2019)',\n",
    "                  xaxis_title='Year',\n",
    "                  yaxis_title='Percentage',\n",
    "                  legend=dict(x=0.5, y=-0.2, orientation='h'),  # Position legend below the graph\n",
    "                  xaxis=dict(tickmode='array',\n",
    "                             tickvals=list(range(2000, 2020)),  # Generate list of years from 2000 to 2019\n",
    "                             ticktext=[str(year) for year in range(2000, 2020)]),  # Convert years to string format\n",
    "                  yaxis=dict(tickmode='array',\n",
    "                             tickvals=[0, 10, 20, 30, 40, 50, 60, 70, 80, 90, 100],\n",
    "                             ticktext=['0%', '10%', '20%', '30%', '40%', '50%', '60%', '70%', '80%', '90%', '100%']))\n",
    "\n",
    "# Show the plot\n",
    "fig.show()\n"
   ]
  },
  {
   "cell_type": "code",
   "execution_count": 161,
   "metadata": {},
   "outputs": [
    {
     "data": {
      "application/vnd.plotly.v1+json": {
       "config": {
        "plotlyServerURL": "https://plot.ly"
       },
       "data": [
        {
         "marker": {
          "color": "blue",
          "size": 10
         },
         "mode": "markers",
         "name": "China - Recycled Percentage",
         "type": "scatter",
         "x": [
          2000,
          2001,
          2002,
          2003,
          2004,
          2005,
          2006,
          2007,
          2008,
          2009,
          2010,
          2011,
          2012,
          2013,
          2014,
          2015,
          2016,
          2017,
          2018,
          2019
         ],
         "y": [
          4.78,
          5.21,
          5.64,
          6.07,
          6.51,
          6.93,
          7.36,
          7.79,
          8.21,
          8.63,
          9.06,
          9.5,
          9.93,
          10.36,
          10.74,
          11.22,
          11.65,
          12.04,
          12.49,
          12.8
         ]
        },
        {
         "marker": {
          "color": "red",
          "size": 10
         },
         "mode": "markers",
         "name": "China - Incinerated Percentage",
         "type": "scatter",
         "x": [
          2000,
          2001,
          2002,
          2003,
          2004,
          2005,
          2006,
          2007,
          2008,
          2009,
          2010,
          2011,
          2012,
          2013,
          2014,
          2015,
          2016,
          2017,
          2018,
          2019
         ],
         "y": [
          8.82,
          9.61,
          10.4,
          11.2,
          12.01,
          12.82,
          13.64,
          14.46,
          15.29,
          16.12,
          16.96,
          17.81,
          18.66,
          19.53,
          20.4,
          21.27,
          22.15,
          23.04,
          23.93,
          23.76
         ]
        },
        {
         "marker": {
          "color": "green",
          "size": 10
         },
         "mode": "markers",
         "name": "China - Littered and mismanaged Percentage",
         "type": "scatter",
         "x": [
          2000,
          2001,
          2002,
          2003,
          2004,
          2005,
          2006,
          2007,
          2008,
          2009,
          2010,
          2011,
          2012,
          2013,
          2014,
          2015,
          2016,
          2017,
          2018,
          2019
         ],
         "y": [
          60.8,
          59.05,
          57.29,
          55.52,
          53.74,
          51.95,
          50.15,
          48.34,
          46.54,
          44.71,
          42.86,
          41.01,
          39.14,
          37.26,
          35.39,
          33.46,
          31.55,
          29.64,
          27.69,
          27.05
         ]
        },
        {
         "marker": {
          "color": "orange",
          "size": 10
         },
         "mode": "markers",
         "name": "China - Landfilled Percentage",
         "type": "scatter",
         "x": [
          2000,
          2001,
          2002,
          2003,
          2004,
          2005,
          2006,
          2007,
          2008,
          2009,
          2010,
          2011,
          2012,
          2013,
          2014,
          2015,
          2016,
          2017,
          2018,
          2019
         ],
         "y": [
          25.59,
          26.13,
          26.66,
          27.2,
          27.74,
          28.29,
          28.85,
          29.4,
          29.97,
          30.54,
          31.11,
          31.69,
          32.27,
          32.86,
          33.47,
          34.05,
          34.65,
          35.28,
          35.89,
          36.38
         ]
        },
        {
         "marker": {
          "color": "cyan",
          "size": 10
         },
         "mode": "markers",
         "name": "USA - Recycled Percentage",
         "type": "scatter",
         "x": [
          2000,
          2001,
          2002,
          2003,
          2004,
          2005,
          2006,
          2007,
          2008,
          2009,
          2010,
          2011,
          2012,
          2013,
          2014,
          2015,
          2016,
          2017,
          2018,
          2019
         ],
         "y": [
          2.35,
          2.46,
          2.57,
          2.68,
          2.8,
          2.91,
          3.02,
          3.13,
          3.23,
          3.34,
          3.45,
          3.57,
          3.68,
          3.79,
          3.89,
          4.01,
          4.13,
          4.25,
          4.36,
          4.49
         ]
        },
        {
         "marker": {
          "color": "magenta",
          "size": 10
         },
         "mode": "markers",
         "name": "USA - Incinerated Percentage",
         "type": "scatter",
         "x": [
          2000,
          2001,
          2002,
          2003,
          2004,
          2005,
          2006,
          2007,
          2008,
          2009,
          2010,
          2011,
          2012,
          2013,
          2014,
          2015,
          2016,
          2017,
          2018,
          2019
         ],
         "y": [
          15.27,
          15.47,
          15.68,
          15.88,
          16.09,
          16.3,
          16.5,
          16.71,
          16.92,
          17.13,
          17.34,
          17.55,
          17.76,
          17.97,
          18.19,
          18.4,
          18.61,
          18.82,
          19.04,
          19.08
         ]
        },
        {
         "marker": {
          "color": "yellow",
          "size": 10
         },
         "mode": "markers",
         "name": "USA - Littered and mismanaged Percentage",
         "type": "scatter",
         "x": [
          2000,
          2001,
          2002,
          2003,
          2004,
          2005,
          2006,
          2007,
          2008,
          2009,
          2010,
          2011,
          2012,
          2013,
          2014,
          2015,
          2016,
          2017,
          2018,
          2019
         ],
         "y": [
          7.98,
          7.75,
          7.53,
          7.3,
          7.07,
          6.84,
          6.61,
          6.38,
          6.15,
          5.92,
          5.69,
          5.46,
          5.22,
          4.99,
          4.75,
          4.51,
          4.28,
          4.04,
          3.81,
          3.55
         ]
        },
        {
         "marker": {
          "color": "purple",
          "size": 10
         },
         "mode": "markers",
         "name": "USA - Landfilled Percentage",
         "type": "scatter",
         "x": [
          2000,
          2001,
          2002,
          2003,
          2004,
          2005,
          2006,
          2007,
          2008,
          2009,
          2010,
          2011,
          2012,
          2013,
          2014,
          2015,
          2016,
          2017,
          2018,
          2019
         ],
         "y": [
          74.41,
          74.32,
          74.23,
          74.14,
          74.04,
          73.95,
          73.86,
          73.77,
          73.7,
          73.61,
          73.52,
          73.43,
          73.34,
          73.26,
          73.18,
          73.08,
          72.99,
          72.89,
          72.8,
          72.88
         ]
        }
       ],
       "layout": {
        "autosize": true,
        "legend": {
         "traceorder": "normal",
         "x": 1.02,
         "y": 1
        },
        "template": {
         "data": {
          "bar": [
           {
            "error_x": {
             "color": "#2a3f5f"
            },
            "error_y": {
             "color": "#2a3f5f"
            },
            "marker": {
             "line": {
              "color": "#E5ECF6",
              "width": 0.5
             },
             "pattern": {
              "fillmode": "overlay",
              "size": 10,
              "solidity": 0.2
             }
            },
            "type": "bar"
           }
          ],
          "barpolar": [
           {
            "marker": {
             "line": {
              "color": "#E5ECF6",
              "width": 0.5
             },
             "pattern": {
              "fillmode": "overlay",
              "size": 10,
              "solidity": 0.2
             }
            },
            "type": "barpolar"
           }
          ],
          "carpet": [
           {
            "aaxis": {
             "endlinecolor": "#2a3f5f",
             "gridcolor": "white",
             "linecolor": "white",
             "minorgridcolor": "white",
             "startlinecolor": "#2a3f5f"
            },
            "baxis": {
             "endlinecolor": "#2a3f5f",
             "gridcolor": "white",
             "linecolor": "white",
             "minorgridcolor": "white",
             "startlinecolor": "#2a3f5f"
            },
            "type": "carpet"
           }
          ],
          "choropleth": [
           {
            "colorbar": {
             "outlinewidth": 0,
             "ticks": ""
            },
            "type": "choropleth"
           }
          ],
          "contour": [
           {
            "colorbar": {
             "outlinewidth": 0,
             "ticks": ""
            },
            "colorscale": [
             [
              0,
              "#0d0887"
             ],
             [
              0.1111111111111111,
              "#46039f"
             ],
             [
              0.2222222222222222,
              "#7201a8"
             ],
             [
              0.3333333333333333,
              "#9c179e"
             ],
             [
              0.4444444444444444,
              "#bd3786"
             ],
             [
              0.5555555555555556,
              "#d8576b"
             ],
             [
              0.6666666666666666,
              "#ed7953"
             ],
             [
              0.7777777777777778,
              "#fb9f3a"
             ],
             [
              0.8888888888888888,
              "#fdca26"
             ],
             [
              1,
              "#f0f921"
             ]
            ],
            "type": "contour"
           }
          ],
          "contourcarpet": [
           {
            "colorbar": {
             "outlinewidth": 0,
             "ticks": ""
            },
            "type": "contourcarpet"
           }
          ],
          "heatmap": [
           {
            "colorbar": {
             "outlinewidth": 0,
             "ticks": ""
            },
            "colorscale": [
             [
              0,
              "#0d0887"
             ],
             [
              0.1111111111111111,
              "#46039f"
             ],
             [
              0.2222222222222222,
              "#7201a8"
             ],
             [
              0.3333333333333333,
              "#9c179e"
             ],
             [
              0.4444444444444444,
              "#bd3786"
             ],
             [
              0.5555555555555556,
              "#d8576b"
             ],
             [
              0.6666666666666666,
              "#ed7953"
             ],
             [
              0.7777777777777778,
              "#fb9f3a"
             ],
             [
              0.8888888888888888,
              "#fdca26"
             ],
             [
              1,
              "#f0f921"
             ]
            ],
            "type": "heatmap"
           }
          ],
          "heatmapgl": [
           {
            "colorbar": {
             "outlinewidth": 0,
             "ticks": ""
            },
            "colorscale": [
             [
              0,
              "#0d0887"
             ],
             [
              0.1111111111111111,
              "#46039f"
             ],
             [
              0.2222222222222222,
              "#7201a8"
             ],
             [
              0.3333333333333333,
              "#9c179e"
             ],
             [
              0.4444444444444444,
              "#bd3786"
             ],
             [
              0.5555555555555556,
              "#d8576b"
             ],
             [
              0.6666666666666666,
              "#ed7953"
             ],
             [
              0.7777777777777778,
              "#fb9f3a"
             ],
             [
              0.8888888888888888,
              "#fdca26"
             ],
             [
              1,
              "#f0f921"
             ]
            ],
            "type": "heatmapgl"
           }
          ],
          "histogram": [
           {
            "marker": {
             "pattern": {
              "fillmode": "overlay",
              "size": 10,
              "solidity": 0.2
             }
            },
            "type": "histogram"
           }
          ],
          "histogram2d": [
           {
            "colorbar": {
             "outlinewidth": 0,
             "ticks": ""
            },
            "colorscale": [
             [
              0,
              "#0d0887"
             ],
             [
              0.1111111111111111,
              "#46039f"
             ],
             [
              0.2222222222222222,
              "#7201a8"
             ],
             [
              0.3333333333333333,
              "#9c179e"
             ],
             [
              0.4444444444444444,
              "#bd3786"
             ],
             [
              0.5555555555555556,
              "#d8576b"
             ],
             [
              0.6666666666666666,
              "#ed7953"
             ],
             [
              0.7777777777777778,
              "#fb9f3a"
             ],
             [
              0.8888888888888888,
              "#fdca26"
             ],
             [
              1,
              "#f0f921"
             ]
            ],
            "type": "histogram2d"
           }
          ],
          "histogram2dcontour": [
           {
            "colorbar": {
             "outlinewidth": 0,
             "ticks": ""
            },
            "colorscale": [
             [
              0,
              "#0d0887"
             ],
             [
              0.1111111111111111,
              "#46039f"
             ],
             [
              0.2222222222222222,
              "#7201a8"
             ],
             [
              0.3333333333333333,
              "#9c179e"
             ],
             [
              0.4444444444444444,
              "#bd3786"
             ],
             [
              0.5555555555555556,
              "#d8576b"
             ],
             [
              0.6666666666666666,
              "#ed7953"
             ],
             [
              0.7777777777777778,
              "#fb9f3a"
             ],
             [
              0.8888888888888888,
              "#fdca26"
             ],
             [
              1,
              "#f0f921"
             ]
            ],
            "type": "histogram2dcontour"
           }
          ],
          "mesh3d": [
           {
            "colorbar": {
             "outlinewidth": 0,
             "ticks": ""
            },
            "type": "mesh3d"
           }
          ],
          "parcoords": [
           {
            "line": {
             "colorbar": {
              "outlinewidth": 0,
              "ticks": ""
             }
            },
            "type": "parcoords"
           }
          ],
          "pie": [
           {
            "automargin": true,
            "type": "pie"
           }
          ],
          "scatter": [
           {
            "fillpattern": {
             "fillmode": "overlay",
             "size": 10,
             "solidity": 0.2
            },
            "type": "scatter"
           }
          ],
          "scatter3d": [
           {
            "line": {
             "colorbar": {
              "outlinewidth": 0,
              "ticks": ""
             }
            },
            "marker": {
             "colorbar": {
              "outlinewidth": 0,
              "ticks": ""
             }
            },
            "type": "scatter3d"
           }
          ],
          "scattercarpet": [
           {
            "marker": {
             "colorbar": {
              "outlinewidth": 0,
              "ticks": ""
             }
            },
            "type": "scattercarpet"
           }
          ],
          "scattergeo": [
           {
            "marker": {
             "colorbar": {
              "outlinewidth": 0,
              "ticks": ""
             }
            },
            "type": "scattergeo"
           }
          ],
          "scattergl": [
           {
            "marker": {
             "colorbar": {
              "outlinewidth": 0,
              "ticks": ""
             }
            },
            "type": "scattergl"
           }
          ],
          "scattermapbox": [
           {
            "marker": {
             "colorbar": {
              "outlinewidth": 0,
              "ticks": ""
             }
            },
            "type": "scattermapbox"
           }
          ],
          "scatterpolar": [
           {
            "marker": {
             "colorbar": {
              "outlinewidth": 0,
              "ticks": ""
             }
            },
            "type": "scatterpolar"
           }
          ],
          "scatterpolargl": [
           {
            "marker": {
             "colorbar": {
              "outlinewidth": 0,
              "ticks": ""
             }
            },
            "type": "scatterpolargl"
           }
          ],
          "scatterternary": [
           {
            "marker": {
             "colorbar": {
              "outlinewidth": 0,
              "ticks": ""
             }
            },
            "type": "scatterternary"
           }
          ],
          "surface": [
           {
            "colorbar": {
             "outlinewidth": 0,
             "ticks": ""
            },
            "colorscale": [
             [
              0,
              "#0d0887"
             ],
             [
              0.1111111111111111,
              "#46039f"
             ],
             [
              0.2222222222222222,
              "#7201a8"
             ],
             [
              0.3333333333333333,
              "#9c179e"
             ],
             [
              0.4444444444444444,
              "#bd3786"
             ],
             [
              0.5555555555555556,
              "#d8576b"
             ],
             [
              0.6666666666666666,
              "#ed7953"
             ],
             [
              0.7777777777777778,
              "#fb9f3a"
             ],
             [
              0.8888888888888888,
              "#fdca26"
             ],
             [
              1,
              "#f0f921"
             ]
            ],
            "type": "surface"
           }
          ],
          "table": [
           {
            "cells": {
             "fill": {
              "color": "#EBF0F8"
             },
             "line": {
              "color": "white"
             }
            },
            "header": {
             "fill": {
              "color": "#C8D4E3"
             },
             "line": {
              "color": "white"
             }
            },
            "type": "table"
           }
          ]
         },
         "layout": {
          "annotationdefaults": {
           "arrowcolor": "#2a3f5f",
           "arrowhead": 0,
           "arrowwidth": 1
          },
          "autotypenumbers": "strict",
          "coloraxis": {
           "colorbar": {
            "outlinewidth": 0,
            "ticks": ""
           }
          },
          "colorscale": {
           "diverging": [
            [
             0,
             "#8e0152"
            ],
            [
             0.1,
             "#c51b7d"
            ],
            [
             0.2,
             "#de77ae"
            ],
            [
             0.3,
             "#f1b6da"
            ],
            [
             0.4,
             "#fde0ef"
            ],
            [
             0.5,
             "#f7f7f7"
            ],
            [
             0.6,
             "#e6f5d0"
            ],
            [
             0.7,
             "#b8e186"
            ],
            [
             0.8,
             "#7fbc41"
            ],
            [
             0.9,
             "#4d9221"
            ],
            [
             1,
             "#276419"
            ]
           ],
           "sequential": [
            [
             0,
             "#0d0887"
            ],
            [
             0.1111111111111111,
             "#46039f"
            ],
            [
             0.2222222222222222,
             "#7201a8"
            ],
            [
             0.3333333333333333,
             "#9c179e"
            ],
            [
             0.4444444444444444,
             "#bd3786"
            ],
            [
             0.5555555555555556,
             "#d8576b"
            ],
            [
             0.6666666666666666,
             "#ed7953"
            ],
            [
             0.7777777777777778,
             "#fb9f3a"
            ],
            [
             0.8888888888888888,
             "#fdca26"
            ],
            [
             1,
             "#f0f921"
            ]
           ],
           "sequentialminus": [
            [
             0,
             "#0d0887"
            ],
            [
             0.1111111111111111,
             "#46039f"
            ],
            [
             0.2222222222222222,
             "#7201a8"
            ],
            [
             0.3333333333333333,
             "#9c179e"
            ],
            [
             0.4444444444444444,
             "#bd3786"
            ],
            [
             0.5555555555555556,
             "#d8576b"
            ],
            [
             0.6666666666666666,
             "#ed7953"
            ],
            [
             0.7777777777777778,
             "#fb9f3a"
            ],
            [
             0.8888888888888888,
             "#fdca26"
            ],
            [
             1,
             "#f0f921"
            ]
           ]
          },
          "colorway": [
           "#636efa",
           "#EF553B",
           "#00cc96",
           "#ab63fa",
           "#FFA15A",
           "#19d3f3",
           "#FF6692",
           "#B6E880",
           "#FF97FF",
           "#FECB52"
          ],
          "font": {
           "color": "#2a3f5f"
          },
          "geo": {
           "bgcolor": "white",
           "lakecolor": "white",
           "landcolor": "#E5ECF6",
           "showlakes": true,
           "showland": true,
           "subunitcolor": "white"
          },
          "hoverlabel": {
           "align": "left"
          },
          "hovermode": "closest",
          "mapbox": {
           "style": "light"
          },
          "paper_bgcolor": "white",
          "plot_bgcolor": "#E5ECF6",
          "polar": {
           "angularaxis": {
            "gridcolor": "white",
            "linecolor": "white",
            "ticks": ""
           },
           "bgcolor": "#E5ECF6",
           "radialaxis": {
            "gridcolor": "white",
            "linecolor": "white",
            "ticks": ""
           }
          },
          "scene": {
           "xaxis": {
            "backgroundcolor": "#E5ECF6",
            "gridcolor": "white",
            "gridwidth": 2,
            "linecolor": "white",
            "showbackground": true,
            "ticks": "",
            "zerolinecolor": "white"
           },
           "yaxis": {
            "backgroundcolor": "#E5ECF6",
            "gridcolor": "white",
            "gridwidth": 2,
            "linecolor": "white",
            "showbackground": true,
            "ticks": "",
            "zerolinecolor": "white"
           },
           "zaxis": {
            "backgroundcolor": "#E5ECF6",
            "gridcolor": "white",
            "gridwidth": 2,
            "linecolor": "white",
            "showbackground": true,
            "ticks": "",
            "zerolinecolor": "white"
           }
          },
          "shapedefaults": {
           "line": {
            "color": "#2a3f5f"
           }
          },
          "ternary": {
           "aaxis": {
            "gridcolor": "white",
            "linecolor": "white",
            "ticks": ""
           },
           "baxis": {
            "gridcolor": "white",
            "linecolor": "white",
            "ticks": ""
           },
           "bgcolor": "#E5ECF6",
           "caxis": {
            "gridcolor": "white",
            "linecolor": "white",
            "ticks": ""
           }
          },
          "title": {
           "x": 0.05
          },
          "xaxis": {
           "automargin": true,
           "gridcolor": "white",
           "linecolor": "white",
           "ticks": "",
           "title": {
            "standoff": 15
           },
           "zerolinecolor": "white",
           "zerolinewidth": 2
          },
          "yaxis": {
           "automargin": true,
           "gridcolor": "white",
           "linecolor": "white",
           "ticks": "",
           "title": {
            "standoff": 15
           },
           "zerolinecolor": "white",
           "zerolinewidth": 2
          }
         }
        },
        "title": {
         "text": "Waste Management Comparison (2000-2019)"
        },
        "xaxis": {
         "autorange": false,
         "range": [
          -0.8446684582876429,
          20.156575661502526
         ],
         "ticktext": [
          2000,
          2001,
          2002,
          2003,
          2004,
          2005,
          2006,
          2007,
          2008,
          2009,
          2010,
          2011,
          2012,
          2013,
          2014,
          2015,
          2016,
          2017,
          2018,
          2019
         ],
         "tickvals": [
          2000,
          2001,
          2002,
          2003,
          2004,
          2005,
          2006,
          2007,
          2008,
          2009,
          2010,
          2011,
          2012,
          2013,
          2014,
          2015,
          2016,
          2017,
          2018,
          2019
         ],
         "title": {
          "text": "Year"
         },
         "type": "category"
        },
        "yaxis": {
         "autorange": false,
         "range": [
          -5.000602006688965,
          100.51978125282473
         ],
         "tickmode": "array",
         "ticktext": [
          "0%",
          "10%",
          "20%",
          "30%",
          "40%",
          "50%",
          "60%",
          "70%",
          "80%",
          "90%",
          "100%"
         ],
         "tickvals": [
          0,
          10,
          20,
          30,
          40,
          50,
          60,
          70,
          80,
          90,
          100
         ],
         "title": {
          "text": "Percentage"
         },
         "type": "linear"
        }
       }
      },
      "image/png": "[encoded data removed]",
      "text/html": [
       "<div>                            <div id=\"47559218-b931-4aa6-9984-b7f5e58ef102\" class=\"plotly-graph-div\" style=\"height:525px; width:100%;\"></div>            <script type=\"text/javascript\">                require([\"plotly\"], function(Plotly) {                    window.PLOTLYENV=window.PLOTLYENV || {};                                    if (document.getElementById(\"47559218-b931-4aa6-9984-b7f5e58ef102\")) {                    Plotly.newPlot(                        \"47559218-b931-4aa6-9984-b7f5e58ef102\",                        [{\"marker\":{\"color\":\"blue\",\"size\":10},\"mode\":\"markers\",\"name\":\"China - Recycled Percentage\",\"x\":[2000,2001,2002,2003,2004,2005,2006,2007,2008,2009,2010,2011,2012,2013,2014,2015,2016,2017,2018,2019],\"y\":[4.78,5.21,5.64,6.07,6.51,6.93,7.36,7.79,8.21,8.63,9.06,9.5,9.93,10.36,10.74,11.22,11.65,12.04,12.49,12.8],\"type\":\"scatter\"},{\"marker\":{\"color\":\"red\",\"size\":10},\"mode\":\"markers\",\"name\":\"China - Incinerated Percentage\",\"x\":[2000,2001,2002,2003,2004,2005,2006,2007,2008,2009,2010,2011,2012,2013,2014,2015,2016,2017,2018,2019],\"y\":[8.82,9.61,10.4,11.2,12.01,12.82,13.64,14.46,15.29,16.12,16.96,17.81,18.66,19.53,20.4,21.27,22.15,23.04,23.93,23.76],\"type\":\"scatter\"},{\"marker\":{\"color\":\"green\",\"size\":10},\"mode\":\"markers\",\"name\":\"China - Littered and mismanaged Percentage\",\"x\":[2000,2001,2002,2003,2004,2005,2006,2007,2008,2009,2010,2011,2012,2013,2014,2015,2016,2017,2018,2019],\"y\":[60.8,59.05,57.29,55.52,53.74,51.95,50.15,48.34,46.54,44.71,42.86,41.01,39.14,37.26,35.39,33.46,31.55,29.64,27.69,27.05],\"type\":\"scatter\"},{\"marker\":{\"color\":\"orange\",\"size\":10},\"mode\":\"markers\",\"name\":\"China - Landfilled Percentage\",\"x\":[2000,2001,2002,2003,2004,2005,2006,2007,2008,2009,2010,2011,2012,2013,2014,2015,2016,2017,2018,2019],\"y\":[25.59,26.13,26.66,27.2,27.74,28.29,28.85,29.4,29.97,30.54,31.11,31.69,32.27,32.86,33.47,34.05,34.65,35.28,35.89,36.38],\"type\":\"scatter\"},{\"marker\":{\"color\":\"cyan\",\"size\":10},\"mode\":\"markers\",\"name\":\"USA - Recycled Percentage\",\"x\":[2000,2001,2002,2003,2004,2005,2006,2007,2008,2009,2010,2011,2012,2013,2014,2015,2016,2017,2018,2019],\"y\":[2.35,2.46,2.57,2.68,2.8,2.91,3.02,3.13,3.23,3.34,3.45,3.57,3.68,3.79,3.89,4.01,4.13,4.25,4.36,4.49],\"type\":\"scatter\"},{\"marker\":{\"color\":\"magenta\",\"size\":10},\"mode\":\"markers\",\"name\":\"USA - Incinerated Percentage\",\"x\":[2000,2001,2002,2003,2004,2005,2006,2007,2008,2009,2010,2011,2012,2013,2014,2015,2016,2017,2018,2019],\"y\":[15.27,15.47,15.68,15.88,16.09,16.3,16.5,16.71,16.92,17.13,17.34,17.55,17.76,17.97,18.19,18.4,18.61,18.82,19.04,19.08],\"type\":\"scatter\"},{\"marker\":{\"color\":\"yellow\",\"size\":10},\"mode\":\"markers\",\"name\":\"USA - Littered and mismanaged Percentage\",\"x\":[2000,2001,2002,2003,2004,2005,2006,2007,2008,2009,2010,2011,2012,2013,2014,2015,2016,2017,2018,2019],\"y\":[7.98,7.75,7.53,7.3,7.07,6.84,6.61,6.38,6.15,5.92,5.69,5.46,5.22,4.99,4.75,4.51,4.28,4.04,3.81,3.55],\"type\":\"scatter\"},{\"marker\":{\"color\":\"purple\",\"size\":10},\"mode\":\"markers\",\"name\":\"USA - Landfilled Percentage\",\"x\":[2000,2001,2002,2003,2004,2005,2006,2007,2008,2009,2010,2011,2012,2013,2014,2015,2016,2017,2018,2019],\"y\":[74.41,74.32,74.23,74.14,74.04,73.95,73.86,73.77,73.7,73.61,73.52,73.43,73.34,73.26,73.18,73.08,72.99,72.89,72.8,72.88],\"type\":\"scatter\"}],                        {\"template\":{\"data\":{\"histogram2dcontour\":[{\"type\":\"histogram2dcontour\",\"colorbar\":{\"outlinewidth\":0,\"ticks\":\"\"},\"colorscale\":[[0.0,\"#0d0887\"],[0.1111111111111111,\"#46039f\"],[0.2222222222222222,\"#7201a8\"],[0.3333333333333333,\"#9c179e\"],[0.4444444444444444,\"#bd3786\"],[0.5555555555555556,\"#d8576b\"],[0.6666666666666666,\"#ed7953\"],[0.7777777777777778,\"#fb9f3a\"],[0.8888888888888888,\"#fdca26\"],[1.0,\"#f0f921\"]]}],\"choropleth\":[{\"type\":\"choropleth\",\"colorbar\":{\"outlinewidth\":0,\"ticks\":\"\"}}],\"histogram2d\":[{\"type\":\"histogram2d\",\"colorbar\":{\"outlinewidth\":0,\"ticks\":\"\"},\"colorscale\":[[0.0,\"#0d0887\"],[0.1111111111111111,\"#46039f\"],[0.2222222222222222,\"#7201a8\"],[0.3333333333333333,\"#9c179e\"],[0.4444444444444444,\"#bd3786\"],[0.5555555555555556,\"#d8576b\"],[0.6666666666666666,\"#ed7953\"],[0.7777777777777778,\"#fb9f3a\"],[0.8888888888888888,\"#fdca26\"],[1.0,\"#f0f921\"]]}],\"heatmap\":[{\"type\":\"heatmap\",\"colorbar\":{\"outlinewidth\":0,\"ticks\":\"\"},\"colorscale\":[[0.0,\"#0d0887\"],[0.1111111111111111,\"#46039f\"],[0.2222222222222222,\"#7201a8\"],[0.3333333333333333,\"#9c179e\"],[0.4444444444444444,\"#bd3786\"],[0.5555555555555556,\"#d8576b\"],[0.6666666666666666,\"#ed7953\"],[0.7777777777777778,\"#fb9f3a\"],[0.8888888888888888,\"#fdca26\"],[1.0,\"#f0f921\"]]}],\"heatmapgl\":[{\"type\":\"heatmapgl\",\"colorbar\":{\"outlinewidth\":0,\"ticks\":\"\"},\"colorscale\":[[0.0,\"#0d0887\"],[0.1111111111111111,\"#46039f\"],[0.2222222222222222,\"#7201a8\"],[0.3333333333333333,\"#9c179e\"],[0.4444444444444444,\"#bd3786\"],[0.5555555555555556,\"#d8576b\"],[0.6666666666666666,\"#ed7953\"],[0.7777777777777778,\"#fb9f3a\"],[0.8888888888888888,\"#fdca26\"],[1.0,\"#f0f921\"]]}],\"contourcarpet\":[{\"type\":\"contourcarpet\",\"colorbar\":{\"outlinewidth\":0,\"ticks\":\"\"}}],\"contour\":[{\"type\":\"contour\",\"colorbar\":{\"outlinewidth\":0,\"ticks\":\"\"},\"colorscale\":[[0.0,\"#0d0887\"],[0.1111111111111111,\"#46039f\"],[0.2222222222222222,\"#7201a8\"],[0.3333333333333333,\"#9c179e\"],[0.4444444444444444,\"#bd3786\"],[0.5555555555555556,\"#d8576b\"],[0.6666666666666666,\"#ed7953\"],[0.7777777777777778,\"#fb9f3a\"],[0.8888888888888888,\"#fdca26\"],[1.0,\"#f0f921\"]]}],\"surface\":[{\"type\":\"surface\",\"colorbar\":{\"outlinewidth\":0,\"ticks\":\"\"},\"colorscale\":[[0.0,\"#0d0887\"],[0.1111111111111111,\"#46039f\"],[0.2222222222222222,\"#7201a8\"],[0.3333333333333333,\"#9c179e\"],[0.4444444444444444,\"#bd3786\"],[0.5555555555555556,\"#d8576b\"],[0.6666666666666666,\"#ed7953\"],[0.7777777777777778,\"#fb9f3a\"],[0.8888888888888888,\"#fdca26\"],[1.0,\"#f0f921\"]]}],\"mesh3d\":[{\"type\":\"mesh3d\",\"colorbar\":{\"outlinewidth\":0,\"ticks\":\"\"}}],\"scatter\":[{\"fillpattern\":{\"fillmode\":\"overlay\",\"size\":10,\"solidity\":0.2},\"type\":\"scatter\"}],\"parcoords\":[{\"type\":\"parcoords\",\"line\":{\"colorbar\":{\"outlinewidth\":0,\"ticks\":\"\"}}}],\"scatterpolargl\":[{\"type\":\"scatterpolargl\",\"marker\":{\"colorbar\":{\"outlinewidth\":0,\"ticks\":\"\"}}}],\"bar\":[{\"error_x\":{\"color\":\"#2a3f5f\"},\"error_y\":{\"color\":\"#2a3f5f\"},\"marker\":{\"line\":{\"color\":\"#E5ECF6\",\"width\":0.5},\"pattern\":{\"fillmode\":\"overlay\",\"size\":10,\"solidity\":0.2}},\"type\":\"bar\"}],\"scattergeo\":[{\"type\":\"scattergeo\",\"marker\":{\"colorbar\":{\"outlinewidth\":0,\"ticks\":\"\"}}}],\"scatterpolar\":[{\"type\":\"scatterpolar\",\"marker\":{\"colorbar\":{\"outlinewidth\":0,\"ticks\":\"\"}}}],\"histogram\":[{\"marker\":{\"pattern\":{\"fillmode\":\"overlay\",\"size\":10,\"solidity\":0.2}},\"type\":\"histogram\"}],\"scattergl\":[{\"type\":\"scattergl\",\"marker\":{\"colorbar\":{\"outlinewidth\":0,\"ticks\":\"\"}}}],\"scatter3d\":[{\"type\":\"scatter3d\",\"line\":{\"colorbar\":{\"outlinewidth\":0,\"ticks\":\"\"}},\"marker\":{\"colorbar\":{\"outlinewidth\":0,\"ticks\":\"\"}}}],\"scattermapbox\":[{\"type\":\"scattermapbox\",\"marker\":{\"colorbar\":{\"outlinewidth\":0,\"ticks\":\"\"}}}],\"scatterternary\":[{\"type\":\"scatterternary\",\"marker\":{\"colorbar\":{\"outlinewidth\":0,\"ticks\":\"\"}}}],\"scattercarpet\":[{\"type\":\"scattercarpet\",\"marker\":{\"colorbar\":{\"outlinewidth\":0,\"ticks\":\"\"}}}],\"carpet\":[{\"aaxis\":{\"endlinecolor\":\"#2a3f5f\",\"gridcolor\":\"white\",\"linecolor\":\"white\",\"minorgridcolor\":\"white\",\"startlinecolor\":\"#2a3f5f\"},\"baxis\":{\"endlinecolor\":\"#2a3f5f\",\"gridcolor\":\"white\",\"linecolor\":\"white\",\"minorgridcolor\":\"white\",\"startlinecolor\":\"#2a3f5f\"},\"type\":\"carpet\"}],\"table\":[{\"cells\":{\"fill\":{\"color\":\"#EBF0F8\"},\"line\":{\"color\":\"white\"}},\"header\":{\"fill\":{\"color\":\"#C8D4E3\"},\"line\":{\"color\":\"white\"}},\"type\":\"table\"}],\"barpolar\":[{\"marker\":{\"line\":{\"color\":\"#E5ECF6\",\"width\":0.5},\"pattern\":{\"fillmode\":\"overlay\",\"size\":10,\"solidity\":0.2}},\"type\":\"barpolar\"}],\"pie\":[{\"automargin\":true,\"type\":\"pie\"}]},\"layout\":{\"autotypenumbers\":\"strict\",\"colorway\":[\"#636efa\",\"#EF553B\",\"#00cc96\",\"#ab63fa\",\"#FFA15A\",\"#19d3f3\",\"#FF6692\",\"#B6E880\",\"#FF97FF\",\"#FECB52\"],\"font\":{\"color\":\"#2a3f5f\"},\"hovermode\":\"closest\",\"hoverlabel\":{\"align\":\"left\"},\"paper_bgcolor\":\"white\",\"plot_bgcolor\":\"#E5ECF6\",\"polar\":{\"bgcolor\":\"#E5ECF6\",\"angularaxis\":{\"gridcolor\":\"white\",\"linecolor\":\"white\",\"ticks\":\"\"},\"radialaxis\":{\"gridcolor\":\"white\",\"linecolor\":\"white\",\"ticks\":\"\"}},\"ternary\":{\"bgcolor\":\"#E5ECF6\",\"aaxis\":{\"gridcolor\":\"white\",\"linecolor\":\"white\",\"ticks\":\"\"},\"baxis\":{\"gridcolor\":\"white\",\"linecolor\":\"white\",\"ticks\":\"\"},\"caxis\":{\"gridcolor\":\"white\",\"linecolor\":\"white\",\"ticks\":\"\"}},\"coloraxis\":{\"colorbar\":{\"outlinewidth\":0,\"ticks\":\"\"}},\"colorscale\":{\"sequential\":[[0.0,\"#0d0887\"],[0.1111111111111111,\"#46039f\"],[0.2222222222222222,\"#7201a8\"],[0.3333333333333333,\"#9c179e\"],[0.4444444444444444,\"#bd3786\"],[0.5555555555555556,\"#d8576b\"],[0.6666666666666666,\"#ed7953\"],[0.7777777777777778,\"#fb9f3a\"],[0.8888888888888888,\"#fdca26\"],[1.0,\"#f0f921\"]],\"sequentialminus\":[[0.0,\"#0d0887\"],[0.1111111111111111,\"#46039f\"],[0.2222222222222222,\"#7201a8\"],[0.3333333333333333,\"#9c179e\"],[0.4444444444444444,\"#bd3786\"],[0.5555555555555556,\"#d8576b\"],[0.6666666666666666,\"#ed7953\"],[0.7777777777777778,\"#fb9f3a\"],[0.8888888888888888,\"#fdca26\"],[1.0,\"#f0f921\"]],\"diverging\":[[0,\"#8e0152\"],[0.1,\"#c51b7d\"],[0.2,\"#de77ae\"],[0.3,\"#f1b6da\"],[0.4,\"#fde0ef\"],[0.5,\"#f7f7f7\"],[0.6,\"#e6f5d0\"],[0.7,\"#b8e186\"],[0.8,\"#7fbc41\"],[0.9,\"#4d9221\"],[1,\"#276419\"]]},\"xaxis\":{\"gridcolor\":\"white\",\"linecolor\":\"white\",\"ticks\":\"\",\"title\":{\"standoff\":15},\"zerolinecolor\":\"white\",\"automargin\":true,\"zerolinewidth\":2},\"yaxis\":{\"gridcolor\":\"white\",\"linecolor\":\"white\",\"ticks\":\"\",\"title\":{\"standoff\":15},\"zerolinecolor\":\"white\",\"automargin\":true,\"zerolinewidth\":2},\"scene\":{\"xaxis\":{\"backgroundcolor\":\"#E5ECF6\",\"gridcolor\":\"white\",\"linecolor\":\"white\",\"showbackground\":true,\"ticks\":\"\",\"zerolinecolor\":\"white\",\"gridwidth\":2},\"yaxis\":{\"backgroundcolor\":\"#E5ECF6\",\"gridcolor\":\"white\",\"linecolor\":\"white\",\"showbackground\":true,\"ticks\":\"\",\"zerolinecolor\":\"white\",\"gridwidth\":2},\"zaxis\":{\"backgroundcolor\":\"#E5ECF6\",\"gridcolor\":\"white\",\"linecolor\":\"white\",\"showbackground\":true,\"ticks\":\"\",\"zerolinecolor\":\"white\",\"gridwidth\":2}},\"shapedefaults\":{\"line\":{\"color\":\"#2a3f5f\"}},\"annotationdefaults\":{\"arrowcolor\":\"#2a3f5f\",\"arrowhead\":0,\"arrowwidth\":1},\"geo\":{\"bgcolor\":\"white\",\"landcolor\":\"#E5ECF6\",\"subunitcolor\":\"white\",\"showland\":true,\"showlakes\":true,\"lakecolor\":\"white\"},\"title\":{\"x\":0.05},\"mapbox\":{\"style\":\"light\"}}},\"legend\":{\"x\":1.02,\"y\":1,\"traceorder\":\"normal\"},\"yaxis\":{\"title\":{\"text\":\"Percentage\"},\"tickmode\":\"array\",\"tickvals\":[0,10,20,30,40,50,60,70,80,90,100],\"ticktext\":[\"0%\",\"10%\",\"20%\",\"30%\",\"40%\",\"50%\",\"60%\",\"70%\",\"80%\",\"90%\",\"100%\"]},\"xaxis\":{\"title\":{\"text\":\"Year\"},\"type\":\"category\",\"tickvals\":[2000,2001,2002,2003,2004,2005,2006,2007,2008,2009,2010,2011,2012,2013,2014,2015,2016,2017,2018,2019],\"ticktext\":[2000,2001,2002,2003,2004,2005,2006,2007,2008,2009,2010,2011,2012,2013,2014,2015,2016,2017,2018,2019]},\"title\":{\"text\":\"Waste Management Comparison (2000-2019)\"}},                        {\"responsive\": true}                    ).then(function(){\n",
       "                            \n",
       "var gd = document.getElementById('47559218-b931-4aa6-9984-b7f5e58ef102');\n",
       "var x = new MutationObserver(function (mutations, observer) {{\n",
       "        var display = window.getComputedStyle(gd).display;\n",
       "        if (!display || display === 'none') {{\n",
       "            console.log([gd, 'removed!']);\n",
       "            Plotly.purge(gd);\n",
       "            observer.disconnect();\n",
       "        }}\n",
       "}});\n",
       "\n",
       "// Listen for the removal of the full notebook cells\n",
       "var notebookContainer = gd.closest('#notebook-container');\n",
       "if (notebookContainer) {{\n",
       "    x.observe(notebookContainer, {childList: true});\n",
       "}}\n",
       "\n",
       "// Listen for the clearing of the current output cell\n",
       "var outputEl = gd.closest('.output');\n",
       "if (outputEl) {{\n",
       "    x.observe(outputEl, {childList: true});\n",
       "}}\n",
       "\n",
       "                        })                };                });            </script>        </div>"
      ]
     },
     "metadata": {},
     "output_type": "display_data"
    }
   ],
   "source": [
    "import plotly.graph_objects as go\n",
    "\n",
    "# Create a figure object\n",
    "fig = go.Figure()\n",
    "\n",
    "# Add scatter plot for China - Recycled Percentage\n",
    "fig.add_trace(go.Scatter(x=china_data['Year'], y=china_data['Recycled Percentage'],\n",
    "                         mode='markers', name='China - Recycled Percentage',\n",
    "                         marker=dict(color='blue', size=10)))\n",
    "\n",
    "# Add scatter plot for China - Incinerated Percentage\n",
    "fig.add_trace(go.Scatter(x=china_data['Year'], y=china_data['Incinerated Percentage'],\n",
    "                         mode='markers', name='China - Incinerated Percentage',\n",
    "                         marker=dict(color='red', size=10)))\n",
    "\n",
    "# Add scatter plot for China - Littered and mismanaged Percentage\n",
    "fig.add_trace(go.Scatter(x=china_data['Year'], y=china_data['Littered and mismanaged Percentage'],\n",
    "                         mode='markers', name='China - Littered and mismanaged Percentage',\n",
    "                         marker=dict(color='green', size=10)))\n",
    "\n",
    "# Add scatter plot for China - Landfilled Percentage\n",
    "fig.add_trace(go.Scatter(x=china_data['Year'], y=china_data['Landfilled Percentage'],\n",
    "                         mode='markers', name='China - Landfilled Percentage',\n",
    "                         marker=dict(color='orange', size=10)))\n",
    "\n",
    "# Add scatter plot for USA - Recycled Percentage\n",
    "fig.add_trace(go.Scatter(x=usa_data['Year'], y=usa_data['Recycled Percentage'],\n",
    "                         mode='markers', name='USA - Recycled Percentage',\n",
    "                         marker=dict(color='cyan', size=10)))\n",
    "\n",
    "# Add scatter plot for USA - Incinerated Percentage\n",
    "fig.add_trace(go.Scatter(x=usa_data['Year'], y=usa_data['Incinerated Percentage'],\n",
    "                         mode='markers', name='USA - Incinerated Percentage',\n",
    "                         marker=dict(color='magenta', size=10)))\n",
    "\n",
    "# Add scatter plot for USA - Littered and mismanaged Percentage\n",
    "fig.add_trace(go.Scatter(x=usa_data['Year'], y=usa_data['Littered and mismanaged Percentage'],\n",
    "                         mode='markers', name='USA - Littered and mismanaged Percentage',\n",
    "                         marker=dict(color='yellow', size=10)))\n",
    "\n",
    "# Add scatter plot for USA - Landfilled Percentage\n",
    "fig.add_trace(go.Scatter(x=usa_data['Year'], y=usa_data['Landfilled Percentage'],\n",
    "                         mode='markers', name='USA - Landfilled Percentage',\n",
    "                         marker=dict(color='purple', size=10)))\n",
    "\n",
    "# Update layout\n",
    "fig.update_layout(title='Waste Management Comparison (2000-2019)',\n",
    "                  xaxis_title='Year',\n",
    "                  yaxis_title='Percentage',\n",
    "                  legend=dict(x=1.02, y=1, traceorder=\"normal\"),  # Position legend outside the graph area\n",
    "                  yaxis=dict(tickmode='array',\n",
    "                             tickvals=[0, 10, 20, 30, 40, 50, 60, 70, 80, 90, 100],\n",
    "                             ticktext=['0%', '10%', '20%', '30%', '40%', '50%', '60%', '70%', '80%', '90%', '100%']),\n",
    "                  xaxis=dict(type='category', tickvals=china_data['Year'], ticktext=china_data['Year']))\n",
    "\n",
    "# Show the plot\n",
    "fig.show()\n"
   ]
  },
  {
   "cell_type": "code",
   "execution_count": 169,
   "metadata": {},
   "outputs": [
    {
     "data": {
      "text/html": [
       "\n",
       "        <iframe\n",
       "            width=\"100%\"\n",
       "            height=\"650\"\n",
       "            src=\"http://127.0.0.1:8050/\"\n",
       "            frameborder=\"0\"\n",
       "            allowfullscreen\n",
       "            \n",
       "        ></iframe>\n",
       "        "
      ],
      "text/plain": [
       "<IPython.lib.display.IFrame at 0x149388f50>"
      ]
     },
     "metadata": {},
     "output_type": "display_data"
    }
   ],
   "source": [
    "from dash import html, dcc\n",
    "from dash import Dash\n",
    "app = Dash(__name__)\n",
    "\n",
    "\n",
    "import plotly.graph_objects as go\n",
    "import dash_core_components as dcc\n",
    "import dash_html_components as html\n",
    "from dash.dependencies import Input, Output\n",
    "\n",
    "# Group data by country and calculate the mean percentage for each waste disposal method\n",
    "country_means = country_data.groupby('Entity').mean()\n",
    "\n",
    "# Create pie chart for China\n",
    "labels = ['Recycled', 'Incinerated', 'Littered and Mismanaged', 'Landfilled']\n",
    "china_values = country_means.loc['China'][['Recycled Percentage', 'Incinerated Percentage', \n",
    "                                           'Littered and mismanaged Percentage', 'Landfilled Percentage']]\n",
    "colors = ['#1f77b4', '#ff7f0e', '#2ca02c', '#d62728']\n",
    "fig_china = go.Figure(data=[go.Pie(labels=labels, values=china_values, textinfo='percent+label',\n",
    "                                   marker=dict(colors=colors))])\n",
    "\n",
    "# Create pie chart for USA\n",
    "usa_values = country_means.loc['United States'][['Recycled Percentage', 'Incinerated Percentage', \n",
    "                                                 'Littered and mismanaged Percentage', 'Landfilled Percentage']]\n",
    "fig_usa = go.Figure(data=[go.Pie(labels=labels, values=usa_values, textinfo='percent+label',\n",
    "                                 marker=dict(colors=colors))])\n",
    "\n",
    "# Define the years for the dropdown options\n",
    "years = country_data['Year'].unique()\n",
    "\n",
    "# Define the layout for the dropdown and pie charts\n",
    "app.layout = html.Div([\n",
    "    html.Div([\n",
    "        dcc.Dropdown(\n",
    "            id='year-dropdown',\n",
    "            options=[{'label': str(year), 'value': year} for year in years],\n",
    "            value=years[0]\n",
    "        )\n",
    "    ]),\n",
    "    html.Div([\n",
    "        dcc.Graph(id='china-pie-chart', figure=fig_china)\n",
    "    ]),\n",
    "    html.Div([\n",
    "        dcc.Graph(id='usa-pie-chart', figure=fig_usa)\n",
    "    ])\n",
    "])\n",
    "\n",
    "# Define callback to update the pie charts based on the selected year\n",
    "@app.callback(\n",
    "    [Output('china-pie-chart', 'figure'),\n",
    "     Output('usa-pie-chart', 'figure')],\n",
    "    [Input('year-dropdown', 'value')]\n",
    ")\n",
    "def update_pie_charts(selected_year):\n",
    "    # Filter data for the selected year\n",
    "    selected_year_data = country_data[country_data['Year'] == selected_year]\n",
    "    \n",
    "    # Group data by country and calculate the mean percentage for each waste disposal method\n",
    "    country_means = selected_year_data.groupby('Entity').mean()\n",
    "    \n",
    "    # Update pie chart for China\n",
    "    china_values = country_means.loc['China'][['Recycled Percentage', 'Incinerated Percentage', \n",
    "                                               'Littered and mismanaged Percentage', 'Landfilled Percentage']]\n",
    "    fig_china = go.Figure(data=[go.Pie(labels=labels, values=china_values, textinfo='percent+label',\n",
    "                                       marker=dict(colors=colors))])\n",
    "    fig_china.update_layout(title_text=f\"<b>China's Waste Disposal Methods ({selected_year})</b>\",\n",
    "                            title_font_size=20, title_x=0.5, title_y=0.95,\n",
    "                            margin=dict(l=20, r=20, t=60, b=20))\n",
    "    \n",
    "    # Update pie chart for USA\n",
    "    usa_values = country_means.loc['United States'][['Recycled Percentage', 'Incinerated Percentage', \n",
    "                                                     'Littered and mismanaged Percentage', 'Landfilled Percentage']]\n",
    "    fig_usa = go.Figure(data=[go.Pie(labels=labels, values=usa_values, textinfo='percent+label',\n",
    "                                     marker=dict(colors=colors))])\n",
    "    fig_usa.update_layout(title_text=f\"<b>USA's Waste Disposal Methods ({selected_year})</b>\",\n",
    "                          title_font_size=20, title_x=0.5, title_y=0.95,\n",
    "                          margin=dict(l=20, r=20, t=60, b=20))\n",
    "    \n",
    "    return fig_china, fig_usa\n",
    "\n",
    "# Run the app\n",
    "if __name__ == '__main__':\n",
    "    app.run_server(debug=True)\n"
   ]
  },
  {
   "cell_type": "markdown",
   "metadata": {},
   "source": [
    "LARGER DATA SET"
   ]
  },
  {
   "cell_type": "code",
   "execution_count": 164,
   "metadata": {},
   "outputs": [
    {
     "data": {
      "text/html": [
       "<div>\n",
       "<style scoped>\n",
       "    .dataframe tbody tr th:only-of-type {\n",
       "        vertical-align: middle;\n",
       "    }\n",
       "\n",
       "    .dataframe tbody tr th {\n",
       "        vertical-align: top;\n",
       "    }\n",
       "\n",
       "    .dataframe thead th {\n",
       "        text-align: right;\n",
       "    }\n",
       "</style>\n",
       "<table border=\"1\" class=\"dataframe\">\n",
       "  <thead>\n",
       "    <tr style=\"text-align: right;\">\n",
       "      <th></th>\n",
       "      <th>Entity</th>\n",
       "      <th>Code</th>\n",
       "      <th>Year</th>\n",
       "      <th>Recycled</th>\n",
       "      <th>Incinerated</th>\n",
       "      <th>Littered and mismanaged</th>\n",
       "      <th>Landfilled</th>\n",
       "    </tr>\n",
       "  </thead>\n",
       "  <tbody>\n",
       "    <tr>\n",
       "      <th>0</th>\n",
       "      <td>Americas (excl. USA)</td>\n",
       "      <td>NaN</td>\n",
       "      <td>2000</td>\n",
       "      <td>772024.0</td>\n",
       "      <td>199475.0</td>\n",
       "      <td>5346765</td>\n",
       "      <td>10031376.0</td>\n",
       "    </tr>\n",
       "    <tr>\n",
       "      <th>1</th>\n",
       "      <td>Americas (excl. USA)</td>\n",
       "      <td>NaN</td>\n",
       "      <td>2001</td>\n",
       "      <td>855770.0</td>\n",
       "      <td>208013.0</td>\n",
       "      <td>5619297</td>\n",
       "      <td>10526961.0</td>\n",
       "    </tr>\n",
       "    <tr>\n",
       "      <th>2</th>\n",
       "      <td>Americas (excl. USA)</td>\n",
       "      <td>NaN</td>\n",
       "      <td>2002</td>\n",
       "      <td>960160.0</td>\n",
       "      <td>219964.0</td>\n",
       "      <td>5989772</td>\n",
       "      <td>11197690.0</td>\n",
       "    </tr>\n",
       "    <tr>\n",
       "      <th>3</th>\n",
       "      <td>Americas (excl. USA)</td>\n",
       "      <td>NaN</td>\n",
       "      <td>2003</td>\n",
       "      <td>1066836.0</td>\n",
       "      <td>230851.0</td>\n",
       "      <td>6333178</td>\n",
       "      <td>11828031.0</td>\n",
       "    </tr>\n",
       "    <tr>\n",
       "      <th>4</th>\n",
       "      <td>Americas (excl. USA)</td>\n",
       "      <td>NaN</td>\n",
       "      <td>2004</td>\n",
       "      <td>1189151.0</td>\n",
       "      <td>243482.0</td>\n",
       "      <td>6729046</td>\n",
       "      <td>12555211.0</td>\n",
       "    </tr>\n",
       "  </tbody>\n",
       "</table>\n",
       "</div>"
      ],
      "text/plain": [
       "                 Entity Code  Year   Recycled  Incinerated  \\\n",
       "0  Americas (excl. USA)  NaN  2000   772024.0     199475.0   \n",
       "1  Americas (excl. USA)  NaN  2001   855770.0     208013.0   \n",
       "2  Americas (excl. USA)  NaN  2002   960160.0     219964.0   \n",
       "3  Americas (excl. USA)  NaN  2003  1066836.0     230851.0   \n",
       "4  Americas (excl. USA)  NaN  2004  1189151.0     243482.0   \n",
       "\n",
       "   Littered and mismanaged  Landfilled  \n",
       "0                  5346765  10031376.0  \n",
       "1                  5619297  10526961.0  \n",
       "2                  5989772  11197690.0  \n",
       "3                  6333178  11828031.0  \n",
       "4                  6729046  12555211.0  "
      ]
     },
     "execution_count": 164,
     "metadata": {},
     "output_type": "execute_result"
    }
   ],
   "source": [
    "url = 'https://github.com/NEXangelo/DS100-M1-PROGRAM-EXERCISE-/raw/main/DS-DATASET-plastic-fate.xlsx'\n",
    "dt = rq.get(url).content\n",
    "data = pd.read_excel(BytesIO(dt))\n",
    "pd.set_option('display.max_rows',None)\n",
    "data.head()"
   ]
  },
  {
   "cell_type": "code",
   "execution_count": 165,
   "metadata": {},
   "outputs": [],
   "source": [
    "country_data = data.copy()\n",
    "\n",
    "# Update missing values with zeros\n",
    "country_data.update(country_data[['Year','Recycled', 'Incinerated','Littered and mismanaged', 'Landfilled' ]].fillna(0))\n",
    "\n",
    "# Drop 'Code' column if exists\n",
    "if 'Code' in country_data.columns:\n",
    "    country_data.drop(columns=['Code'], inplace=True)\n"
   ]
  },
  {
   "cell_type": "code",
   "execution_count": 166,
   "metadata": {},
   "outputs": [
    {
     "data": {
      "text/html": [
       "<div>\n",
       "<style scoped>\n",
       "    .dataframe tbody tr th:only-of-type {\n",
       "        vertical-align: middle;\n",
       "    }\n",
       "\n",
       "    .dataframe tbody tr th {\n",
       "        vertical-align: top;\n",
       "    }\n",
       "\n",
       "    .dataframe thead th {\n",
       "        text-align: right;\n",
       "    }\n",
       "</style>\n",
       "<table border=\"1\" class=\"dataframe\">\n",
       "  <thead>\n",
       "    <tr style=\"text-align: right;\">\n",
       "      <th></th>\n",
       "      <th>Entity</th>\n",
       "      <th>Year</th>\n",
       "      <th>Total Trash (Tones)</th>\n",
       "      <th>Recycled Percentage</th>\n",
       "      <th>Incinerated Percentage</th>\n",
       "      <th>Littered and mismanaged Percentage</th>\n",
       "      <th>Landfilled Percentage</th>\n",
       "    </tr>\n",
       "  </thead>\n",
       "  <tbody>\n",
       "    <tr>\n",
       "      <th>0</th>\n",
       "      <td>Americas (excl. USA)</td>\n",
       "      <td>2000</td>\n",
       "      <td>1.634964e+07</td>\n",
       "      <td>4.72</td>\n",
       "      <td>1.22</td>\n",
       "      <td>32.70</td>\n",
       "      <td>61.36</td>\n",
       "    </tr>\n",
       "    <tr>\n",
       "      <th>1</th>\n",
       "      <td>Americas (excl. USA)</td>\n",
       "      <td>2001</td>\n",
       "      <td>1.721004e+07</td>\n",
       "      <td>4.97</td>\n",
       "      <td>1.21</td>\n",
       "      <td>32.65</td>\n",
       "      <td>61.17</td>\n",
       "    </tr>\n",
       "    <tr>\n",
       "      <th>2</th>\n",
       "      <td>Americas (excl. USA)</td>\n",
       "      <td>2002</td>\n",
       "      <td>1.836759e+07</td>\n",
       "      <td>5.23</td>\n",
       "      <td>1.20</td>\n",
       "      <td>32.61</td>\n",
       "      <td>60.96</td>\n",
       "    </tr>\n",
       "    <tr>\n",
       "      <th>3</th>\n",
       "      <td>Americas (excl. USA)</td>\n",
       "      <td>2003</td>\n",
       "      <td>1.945890e+07</td>\n",
       "      <td>5.48</td>\n",
       "      <td>1.19</td>\n",
       "      <td>32.55</td>\n",
       "      <td>60.78</td>\n",
       "    </tr>\n",
       "    <tr>\n",
       "      <th>4</th>\n",
       "      <td>Americas (excl. USA)</td>\n",
       "      <td>2004</td>\n",
       "      <td>2.071689e+07</td>\n",
       "      <td>5.74</td>\n",
       "      <td>1.18</td>\n",
       "      <td>32.48</td>\n",
       "      <td>60.60</td>\n",
       "    </tr>\n",
       "    <tr>\n",
       "      <th>5</th>\n",
       "      <td>Americas (excl. USA)</td>\n",
       "      <td>2005</td>\n",
       "      <td>2.176071e+07</td>\n",
       "      <td>5.99</td>\n",
       "      <td>1.16</td>\n",
       "      <td>32.39</td>\n",
       "      <td>60.46</td>\n",
       "    </tr>\n",
       "    <tr>\n",
       "      <th>6</th>\n",
       "      <td>Americas (excl. USA)</td>\n",
       "      <td>2006</td>\n",
       "      <td>2.309970e+07</td>\n",
       "      <td>6.25</td>\n",
       "      <td>1.15</td>\n",
       "      <td>32.30</td>\n",
       "      <td>60.30</td>\n",
       "    </tr>\n",
       "    <tr>\n",
       "      <th>7</th>\n",
       "      <td>Americas (excl. USA)</td>\n",
       "      <td>2007</td>\n",
       "      <td>2.451270e+07</td>\n",
       "      <td>6.50</td>\n",
       "      <td>1.14</td>\n",
       "      <td>32.20</td>\n",
       "      <td>60.15</td>\n",
       "    </tr>\n",
       "    <tr>\n",
       "      <th>8</th>\n",
       "      <td>Americas (excl. USA)</td>\n",
       "      <td>2008</td>\n",
       "      <td>2.493901e+07</td>\n",
       "      <td>6.75</td>\n",
       "      <td>1.13</td>\n",
       "      <td>32.03</td>\n",
       "      <td>60.09</td>\n",
       "    </tr>\n",
       "    <tr>\n",
       "      <th>9</th>\n",
       "      <td>Americas (excl. USA)</td>\n",
       "      <td>2009</td>\n",
       "      <td>2.595265e+07</td>\n",
       "      <td>7.00</td>\n",
       "      <td>1.12</td>\n",
       "      <td>31.88</td>\n",
       "      <td>60.00</td>\n",
       "    </tr>\n",
       "    <tr>\n",
       "      <th>10</th>\n",
       "      <td>Americas (excl. USA)</td>\n",
       "      <td>2010</td>\n",
       "      <td>2.761020e+07</td>\n",
       "      <td>7.26</td>\n",
       "      <td>1.11</td>\n",
       "      <td>31.72</td>\n",
       "      <td>59.91</td>\n",
       "    </tr>\n",
       "    <tr>\n",
       "      <th>11</th>\n",
       "      <td>Americas (excl. USA)</td>\n",
       "      <td>2011</td>\n",
       "      <td>2.880978e+07</td>\n",
       "      <td>7.52</td>\n",
       "      <td>1.10</td>\n",
       "      <td>31.52</td>\n",
       "      <td>59.86</td>\n",
       "    </tr>\n",
       "    <tr>\n",
       "      <th>12</th>\n",
       "      <td>Americas (excl. USA)</td>\n",
       "      <td>2012</td>\n",
       "      <td>2.982830e+07</td>\n",
       "      <td>7.77</td>\n",
       "      <td>1.09</td>\n",
       "      <td>31.31</td>\n",
       "      <td>59.82</td>\n",
       "    </tr>\n",
       "    <tr>\n",
       "      <th>13</th>\n",
       "      <td>Americas (excl. USA)</td>\n",
       "      <td>2013</td>\n",
       "      <td>3.102506e+07</td>\n",
       "      <td>8.02</td>\n",
       "      <td>1.09</td>\n",
       "      <td>31.09</td>\n",
       "      <td>59.81</td>\n",
       "    </tr>\n",
       "    <tr>\n",
       "      <th>14</th>\n",
       "      <td>Americas (excl. USA)</td>\n",
       "      <td>2014</td>\n",
       "      <td>3.186791e+07</td>\n",
       "      <td>8.26</td>\n",
       "      <td>1.08</td>\n",
       "      <td>30.87</td>\n",
       "      <td>59.79</td>\n",
       "    </tr>\n",
       "    <tr>\n",
       "      <th>15</th>\n",
       "      <td>Americas (excl. USA)</td>\n",
       "      <td>2015</td>\n",
       "      <td>3.378087e+07</td>\n",
       "      <td>8.55</td>\n",
       "      <td>1.06</td>\n",
       "      <td>30.59</td>\n",
       "      <td>59.81</td>\n",
       "    </tr>\n",
       "    <tr>\n",
       "      <th>16</th>\n",
       "      <td>Americas (excl. USA)</td>\n",
       "      <td>2016</td>\n",
       "      <td>3.447592e+07</td>\n",
       "      <td>8.81</td>\n",
       "      <td>1.06</td>\n",
       "      <td>30.19</td>\n",
       "      <td>59.94</td>\n",
       "    </tr>\n",
       "    <tr>\n",
       "      <th>17</th>\n",
       "      <td>Americas (excl. USA)</td>\n",
       "      <td>2017</td>\n",
       "      <td>3.541964e+07</td>\n",
       "      <td>9.05</td>\n",
       "      <td>1.06</td>\n",
       "      <td>29.82</td>\n",
       "      <td>60.07</td>\n",
       "    </tr>\n",
       "    <tr>\n",
       "      <th>18</th>\n",
       "      <td>Americas (excl. USA)</td>\n",
       "      <td>2018</td>\n",
       "      <td>3.670484e+07</td>\n",
       "      <td>9.30</td>\n",
       "      <td>1.05</td>\n",
       "      <td>29.44</td>\n",
       "      <td>60.20</td>\n",
       "    </tr>\n",
       "    <tr>\n",
       "      <th>19</th>\n",
       "      <td>Americas (excl. USA)</td>\n",
       "      <td>2019</td>\n",
       "      <td>3.773761e+07</td>\n",
       "      <td>9.55</td>\n",
       "      <td>1.16</td>\n",
       "      <td>29.18</td>\n",
       "      <td>60.11</td>\n",
       "    </tr>\n",
       "    <tr>\n",
       "      <th>20</th>\n",
       "      <td>Asia (excl. China and India)</td>\n",
       "      <td>2000</td>\n",
       "      <td>1.734087e+07</td>\n",
       "      <td>3.83</td>\n",
       "      <td>10.44</td>\n",
       "      <td>36.91</td>\n",
       "      <td>48.83</td>\n",
       "    </tr>\n",
       "    <tr>\n",
       "      <th>21</th>\n",
       "      <td>Asia (excl. China and India)</td>\n",
       "      <td>2001</td>\n",
       "      <td>1.855031e+07</td>\n",
       "      <td>4.08</td>\n",
       "      <td>10.98</td>\n",
       "      <td>36.89</td>\n",
       "      <td>48.05</td>\n",
       "    </tr>\n",
       "    <tr>\n",
       "      <th>22</th>\n",
       "      <td>Asia (excl. China and India)</td>\n",
       "      <td>2002</td>\n",
       "      <td>2.007806e+07</td>\n",
       "      <td>4.33</td>\n",
       "      <td>11.52</td>\n",
       "      <td>36.84</td>\n",
       "      <td>47.30</td>\n",
       "    </tr>\n",
       "    <tr>\n",
       "      <th>23</th>\n",
       "      <td>Asia (excl. China and India)</td>\n",
       "      <td>2003</td>\n",
       "      <td>2.157994e+07</td>\n",
       "      <td>4.59</td>\n",
       "      <td>12.04</td>\n",
       "      <td>36.78</td>\n",
       "      <td>46.60</td>\n",
       "    </tr>\n",
       "    <tr>\n",
       "      <th>24</th>\n",
       "      <td>Asia (excl. China and India)</td>\n",
       "      <td>2004</td>\n",
       "      <td>2.328491e+07</td>\n",
       "      <td>4.84</td>\n",
       "      <td>12.55</td>\n",
       "      <td>36.70</td>\n",
       "      <td>45.92</td>\n",
       "    </tr>\n",
       "    <tr>\n",
       "      <th>25</th>\n",
       "      <td>Asia (excl. China and India)</td>\n",
       "      <td>2005</td>\n",
       "      <td>2.481320e+07</td>\n",
       "      <td>5.08</td>\n",
       "      <td>13.04</td>\n",
       "      <td>36.60</td>\n",
       "      <td>45.28</td>\n",
       "    </tr>\n",
       "    <tr>\n",
       "      <th>26</th>\n",
       "      <td>Asia (excl. China and India)</td>\n",
       "      <td>2006</td>\n",
       "      <td>2.667730e+07</td>\n",
       "      <td>5.33</td>\n",
       "      <td>13.52</td>\n",
       "      <td>36.48</td>\n",
       "      <td>44.67</td>\n",
       "    </tr>\n",
       "    <tr>\n",
       "      <th>27</th>\n",
       "      <td>Asia (excl. China and India)</td>\n",
       "      <td>2007</td>\n",
       "      <td>2.866381e+07</td>\n",
       "      <td>5.57</td>\n",
       "      <td>13.99</td>\n",
       "      <td>36.35</td>\n",
       "      <td>44.08</td>\n",
       "    </tr>\n",
       "    <tr>\n",
       "      <th>28</th>\n",
       "      <td>Asia (excl. China and India)</td>\n",
       "      <td>2008</td>\n",
       "      <td>2.969045e+07</td>\n",
       "      <td>5.79</td>\n",
       "      <td>14.41</td>\n",
       "      <td>36.24</td>\n",
       "      <td>43.56</td>\n",
       "    </tr>\n",
       "    <tr>\n",
       "      <th>29</th>\n",
       "      <td>Asia (excl. China and India)</td>\n",
       "      <td>2009</td>\n",
       "      <td>3.135381e+07</td>\n",
       "      <td>6.02</td>\n",
       "      <td>14.83</td>\n",
       "      <td>36.10</td>\n",
       "      <td>43.05</td>\n",
       "    </tr>\n",
       "    <tr>\n",
       "      <th>30</th>\n",
       "      <td>Asia (excl. China and India)</td>\n",
       "      <td>2010</td>\n",
       "      <td>3.381626e+07</td>\n",
       "      <td>6.26</td>\n",
       "      <td>15.26</td>\n",
       "      <td>35.94</td>\n",
       "      <td>42.54</td>\n",
       "    </tr>\n",
       "    <tr>\n",
       "      <th>31</th>\n",
       "      <td>Asia (excl. China and India)</td>\n",
       "      <td>2011</td>\n",
       "      <td>3.590912e+07</td>\n",
       "      <td>6.50</td>\n",
       "      <td>15.74</td>\n",
       "      <td>35.72</td>\n",
       "      <td>42.04</td>\n",
       "    </tr>\n",
       "    <tr>\n",
       "      <th>32</th>\n",
       "      <td>Asia (excl. China and India)</td>\n",
       "      <td>2012</td>\n",
       "      <td>3.779153e+07</td>\n",
       "      <td>6.73</td>\n",
       "      <td>16.15</td>\n",
       "      <td>35.53</td>\n",
       "      <td>41.59</td>\n",
       "    </tr>\n",
       "    <tr>\n",
       "      <th>33</th>\n",
       "      <td>Asia (excl. China and India)</td>\n",
       "      <td>2013</td>\n",
       "      <td>3.993171e+07</td>\n",
       "      <td>6.96</td>\n",
       "      <td>16.60</td>\n",
       "      <td>35.30</td>\n",
       "      <td>41.14</td>\n",
       "    </tr>\n",
       "    <tr>\n",
       "      <th>34</th>\n",
       "      <td>Asia (excl. China and India)</td>\n",
       "      <td>2014</td>\n",
       "      <td>4.197178e+07</td>\n",
       "      <td>7.18</td>\n",
       "      <td>16.97</td>\n",
       "      <td>35.12</td>\n",
       "      <td>40.73</td>\n",
       "    </tr>\n",
       "    <tr>\n",
       "      <th>35</th>\n",
       "      <td>Asia (excl. China and India)</td>\n",
       "      <td>2015</td>\n",
       "      <td>4.455792e+07</td>\n",
       "      <td>7.43</td>\n",
       "      <td>17.34</td>\n",
       "      <td>34.90</td>\n",
       "      <td>40.33</td>\n",
       "    </tr>\n",
       "    <tr>\n",
       "      <th>36</th>\n",
       "      <td>Asia (excl. China and India)</td>\n",
       "      <td>2016</td>\n",
       "      <td>4.677533e+07</td>\n",
       "      <td>7.66</td>\n",
       "      <td>17.63</td>\n",
       "      <td>34.71</td>\n",
       "      <td>39.99</td>\n",
       "    </tr>\n",
       "    <tr>\n",
       "      <th>37</th>\n",
       "      <td>Asia (excl. China and India)</td>\n",
       "      <td>2017</td>\n",
       "      <td>4.940294e+07</td>\n",
       "      <td>7.89</td>\n",
       "      <td>17.94</td>\n",
       "      <td>34.51</td>\n",
       "      <td>39.66</td>\n",
       "    </tr>\n",
       "    <tr>\n",
       "      <th>38</th>\n",
       "      <td>Asia (excl. China and India)</td>\n",
       "      <td>2018</td>\n",
       "      <td>5.260041e+07</td>\n",
       "      <td>8.14</td>\n",
       "      <td>18.53</td>\n",
       "      <td>34.15</td>\n",
       "      <td>39.17</td>\n",
       "    </tr>\n",
       "    <tr>\n",
       "      <th>39</th>\n",
       "      <td>Asia (excl. China and India)</td>\n",
       "      <td>2019</td>\n",
       "      <td>5.435738e+07</td>\n",
       "      <td>8.35</td>\n",
       "      <td>18.51</td>\n",
       "      <td>33.75</td>\n",
       "      <td>39.39</td>\n",
       "    </tr>\n",
       "    <tr>\n",
       "      <th>40</th>\n",
       "      <td>China</td>\n",
       "      <td>2000</td>\n",
       "      <td>1.713601e+07</td>\n",
       "      <td>4.78</td>\n",
       "      <td>8.82</td>\n",
       "      <td>60.80</td>\n",
       "      <td>25.59</td>\n",
       "    </tr>\n",
       "    <tr>\n",
       "      <th>41</th>\n",
       "      <td>China</td>\n",
       "      <td>2001</td>\n",
       "      <td>1.877191e+07</td>\n",
       "      <td>5.21</td>\n",
       "      <td>9.61</td>\n",
       "      <td>59.05</td>\n",
       "      <td>26.13</td>\n",
       "    </tr>\n",
       "    <tr>\n",
       "      <th>42</th>\n",
       "      <td>China</td>\n",
       "      <td>2002</td>\n",
       "      <td>2.083756e+07</td>\n",
       "      <td>5.64</td>\n",
       "      <td>10.40</td>\n",
       "      <td>57.29</td>\n",
       "      <td>26.66</td>\n",
       "    </tr>\n",
       "    <tr>\n",
       "      <th>43</th>\n",
       "      <td>China</td>\n",
       "      <td>2003</td>\n",
       "      <td>2.290335e+07</td>\n",
       "      <td>6.07</td>\n",
       "      <td>11.20</td>\n",
       "      <td>55.52</td>\n",
       "      <td>27.20</td>\n",
       "    </tr>\n",
       "    <tr>\n",
       "      <th>44</th>\n",
       "      <td>China</td>\n",
       "      <td>2004</td>\n",
       "      <td>2.527330e+07</td>\n",
       "      <td>6.51</td>\n",
       "      <td>12.01</td>\n",
       "      <td>53.74</td>\n",
       "      <td>27.74</td>\n",
       "    </tr>\n",
       "    <tr>\n",
       "      <th>45</th>\n",
       "      <td>China</td>\n",
       "      <td>2005</td>\n",
       "      <td>2.744145e+07</td>\n",
       "      <td>6.93</td>\n",
       "      <td>12.82</td>\n",
       "      <td>51.95</td>\n",
       "      <td>28.29</td>\n",
       "    </tr>\n",
       "    <tr>\n",
       "      <th>46</th>\n",
       "      <td>China</td>\n",
       "      <td>2006</td>\n",
       "      <td>3.009835e+07</td>\n",
       "      <td>7.36</td>\n",
       "      <td>13.64</td>\n",
       "      <td>50.15</td>\n",
       "      <td>28.85</td>\n",
       "    </tr>\n",
       "    <tr>\n",
       "      <th>47</th>\n",
       "      <td>China</td>\n",
       "      <td>2007</td>\n",
       "      <td>3.295498e+07</td>\n",
       "      <td>7.79</td>\n",
       "      <td>14.46</td>\n",
       "      <td>48.34</td>\n",
       "      <td>29.40</td>\n",
       "    </tr>\n",
       "    <tr>\n",
       "      <th>48</th>\n",
       "      <td>China</td>\n",
       "      <td>2008</td>\n",
       "      <td>3.446512e+07</td>\n",
       "      <td>8.21</td>\n",
       "      <td>15.29</td>\n",
       "      <td>46.54</td>\n",
       "      <td>29.97</td>\n",
       "    </tr>\n",
       "    <tr>\n",
       "      <th>49</th>\n",
       "      <td>China</td>\n",
       "      <td>2009</td>\n",
       "      <td>3.689161e+07</td>\n",
       "      <td>8.63</td>\n",
       "      <td>16.12</td>\n",
       "      <td>44.71</td>\n",
       "      <td>30.54</td>\n",
       "    </tr>\n",
       "    <tr>\n",
       "      <th>50</th>\n",
       "      <td>China</td>\n",
       "      <td>2010</td>\n",
       "      <td>4.052813e+07</td>\n",
       "      <td>9.06</td>\n",
       "      <td>16.96</td>\n",
       "      <td>42.86</td>\n",
       "      <td>31.11</td>\n",
       "    </tr>\n",
       "    <tr>\n",
       "      <th>51</th>\n",
       "      <td>China</td>\n",
       "      <td>2011</td>\n",
       "      <td>4.370726e+07</td>\n",
       "      <td>9.50</td>\n",
       "      <td>17.81</td>\n",
       "      <td>41.01</td>\n",
       "      <td>31.69</td>\n",
       "    </tr>\n",
       "    <tr>\n",
       "      <th>52</th>\n",
       "      <td>China</td>\n",
       "      <td>2012</td>\n",
       "      <td>4.653767e+07</td>\n",
       "      <td>9.93</td>\n",
       "      <td>18.66</td>\n",
       "      <td>39.14</td>\n",
       "      <td>32.27</td>\n",
       "    </tr>\n",
       "    <tr>\n",
       "      <th>53</th>\n",
       "      <td>China</td>\n",
       "      <td>2013</td>\n",
       "      <td>4.931707e+07</td>\n",
       "      <td>10.36</td>\n",
       "      <td>19.53</td>\n",
       "      <td>37.26</td>\n",
       "      <td>32.86</td>\n",
       "    </tr>\n",
       "    <tr>\n",
       "      <th>54</th>\n",
       "      <td>China</td>\n",
       "      <td>2014</td>\n",
       "      <td>5.270063e+07</td>\n",
       "      <td>10.74</td>\n",
       "      <td>20.40</td>\n",
       "      <td>35.39</td>\n",
       "      <td>33.47</td>\n",
       "    </tr>\n",
       "    <tr>\n",
       "      <th>55</th>\n",
       "      <td>China</td>\n",
       "      <td>2015</td>\n",
       "      <td>5.575375e+07</td>\n",
       "      <td>11.22</td>\n",
       "      <td>21.27</td>\n",
       "      <td>33.46</td>\n",
       "      <td>34.05</td>\n",
       "    </tr>\n",
       "    <tr>\n",
       "      <th>56</th>\n",
       "      <td>China</td>\n",
       "      <td>2016</td>\n",
       "      <td>5.839307e+07</td>\n",
       "      <td>11.65</td>\n",
       "      <td>22.15</td>\n",
       "      <td>31.55</td>\n",
       "      <td>34.65</td>\n",
       "    </tr>\n",
       "    <tr>\n",
       "      <th>57</th>\n",
       "      <td>China</td>\n",
       "      <td>2017</td>\n",
       "      <td>6.116237e+07</td>\n",
       "      <td>12.04</td>\n",
       "      <td>23.04</td>\n",
       "      <td>29.64</td>\n",
       "      <td>35.28</td>\n",
       "    </tr>\n",
       "    <tr>\n",
       "      <th>58</th>\n",
       "      <td>China</td>\n",
       "      <td>2018</td>\n",
       "      <td>6.239252e+07</td>\n",
       "      <td>12.49</td>\n",
       "      <td>23.93</td>\n",
       "      <td>27.69</td>\n",
       "      <td>35.89</td>\n",
       "    </tr>\n",
       "    <tr>\n",
       "      <th>59</th>\n",
       "      <td>China</td>\n",
       "      <td>2019</td>\n",
       "      <td>6.543861e+07</td>\n",
       "      <td>12.80</td>\n",
       "      <td>23.76</td>\n",
       "      <td>27.05</td>\n",
       "      <td>36.38</td>\n",
       "    </tr>\n",
       "    <tr>\n",
       "      <th>60</th>\n",
       "      <td>Europe</td>\n",
       "      <td>2000</td>\n",
       "      <td>4.249475e+07</td>\n",
       "      <td>4.44</td>\n",
       "      <td>14.54</td>\n",
       "      <td>12.97</td>\n",
       "      <td>68.05</td>\n",
       "    </tr>\n",
       "    <tr>\n",
       "      <th>61</th>\n",
       "      <td>Europe</td>\n",
       "      <td>2001</td>\n",
       "      <td>4.384116e+07</td>\n",
       "      <td>4.86</td>\n",
       "      <td>15.77</td>\n",
       "      <td>12.60</td>\n",
       "      <td>66.77</td>\n",
       "    </tr>\n",
       "    <tr>\n",
       "      <th>62</th>\n",
       "      <td>Europe</td>\n",
       "      <td>2002</td>\n",
       "      <td>4.577262e+07</td>\n",
       "      <td>5.28</td>\n",
       "      <td>17.00</td>\n",
       "      <td>12.23</td>\n",
       "      <td>65.49</td>\n",
       "    </tr>\n",
       "    <tr>\n",
       "      <th>63</th>\n",
       "      <td>Europe</td>\n",
       "      <td>2003</td>\n",
       "      <td>4.746112e+07</td>\n",
       "      <td>5.71</td>\n",
       "      <td>18.24</td>\n",
       "      <td>11.85</td>\n",
       "      <td>64.19</td>\n",
       "    </tr>\n",
       "    <tr>\n",
       "      <th>64</th>\n",
       "      <td>Europe</td>\n",
       "      <td>2004</td>\n",
       "      <td>4.940002e+07</td>\n",
       "      <td>6.15</td>\n",
       "      <td>19.49</td>\n",
       "      <td>11.47</td>\n",
       "      <td>62.89</td>\n",
       "    </tr>\n",
       "    <tr>\n",
       "      <th>65</th>\n",
       "      <td>Europe</td>\n",
       "      <td>2005</td>\n",
       "      <td>5.078581e+07</td>\n",
       "      <td>6.58</td>\n",
       "      <td>20.74</td>\n",
       "      <td>11.09</td>\n",
       "      <td>61.59</td>\n",
       "    </tr>\n",
       "    <tr>\n",
       "      <th>66</th>\n",
       "      <td>Europe</td>\n",
       "      <td>2006</td>\n",
       "      <td>5.266462e+07</td>\n",
       "      <td>7.01</td>\n",
       "      <td>22.01</td>\n",
       "      <td>10.70</td>\n",
       "      <td>60.28</td>\n",
       "    </tr>\n",
       "    <tr>\n",
       "      <th>67</th>\n",
       "      <td>Europe</td>\n",
       "      <td>2007</td>\n",
       "      <td>5.457332e+07</td>\n",
       "      <td>7.43</td>\n",
       "      <td>23.28</td>\n",
       "      <td>10.31</td>\n",
       "      <td>58.97</td>\n",
       "    </tr>\n",
       "    <tr>\n",
       "      <th>68</th>\n",
       "      <td>Europe</td>\n",
       "      <td>2008</td>\n",
       "      <td>5.450770e+07</td>\n",
       "      <td>7.86</td>\n",
       "      <td>24.55</td>\n",
       "      <td>9.92</td>\n",
       "      <td>57.67</td>\n",
       "    </tr>\n",
       "    <tr>\n",
       "      <th>69</th>\n",
       "      <td>Europe</td>\n",
       "      <td>2009</td>\n",
       "      <td>5.548575e+07</td>\n",
       "      <td>8.28</td>\n",
       "      <td>25.84</td>\n",
       "      <td>9.53</td>\n",
       "      <td>56.35</td>\n",
       "    </tr>\n",
       "    <tr>\n",
       "      <th>70</th>\n",
       "      <td>Europe</td>\n",
       "      <td>2010</td>\n",
       "      <td>5.768659e+07</td>\n",
       "      <td>8.72</td>\n",
       "      <td>27.13</td>\n",
       "      <td>9.13</td>\n",
       "      <td>55.02</td>\n",
       "    </tr>\n",
       "    <tr>\n",
       "      <th>71</th>\n",
       "      <td>Europe</td>\n",
       "      <td>2011</td>\n",
       "      <td>5.897442e+07</td>\n",
       "      <td>9.17</td>\n",
       "      <td>28.43</td>\n",
       "      <td>8.73</td>\n",
       "      <td>53.68</td>\n",
       "    </tr>\n",
       "    <tr>\n",
       "      <th>72</th>\n",
       "      <td>Europe</td>\n",
       "      <td>2012</td>\n",
       "      <td>6.002581e+07</td>\n",
       "      <td>9.60</td>\n",
       "      <td>29.73</td>\n",
       "      <td>8.33</td>\n",
       "      <td>52.35</td>\n",
       "    </tr>\n",
       "    <tr>\n",
       "      <th>73</th>\n",
       "      <td>Europe</td>\n",
       "      <td>2013</td>\n",
       "      <td>6.136370e+07</td>\n",
       "      <td>10.01</td>\n",
       "      <td>31.04</td>\n",
       "      <td>7.92</td>\n",
       "      <td>51.03</td>\n",
       "    </tr>\n",
       "    <tr>\n",
       "      <th>74</th>\n",
       "      <td>Europe</td>\n",
       "      <td>2014</td>\n",
       "      <td>6.186693e+07</td>\n",
       "      <td>10.43</td>\n",
       "      <td>32.37</td>\n",
       "      <td>7.51</td>\n",
       "      <td>49.69</td>\n",
       "    </tr>\n",
       "    <tr>\n",
       "      <th>75</th>\n",
       "      <td>Europe</td>\n",
       "      <td>2015</td>\n",
       "      <td>6.309091e+07</td>\n",
       "      <td>10.88</td>\n",
       "      <td>33.69</td>\n",
       "      <td>7.10</td>\n",
       "      <td>48.33</td>\n",
       "    </tr>\n",
       "    <tr>\n",
       "      <th>76</th>\n",
       "      <td>Europe</td>\n",
       "      <td>2016</td>\n",
       "      <td>6.428994e+07</td>\n",
       "      <td>11.29</td>\n",
       "      <td>35.05</td>\n",
       "      <td>6.68</td>\n",
       "      <td>46.98</td>\n",
       "    </tr>\n",
       "    <tr>\n",
       "      <th>77</th>\n",
       "      <td>Europe</td>\n",
       "      <td>2017</td>\n",
       "      <td>6.608226e+07</td>\n",
       "      <td>11.68</td>\n",
       "      <td>36.41</td>\n",
       "      <td>6.27</td>\n",
       "      <td>45.64</td>\n",
       "    </tr>\n",
       "    <tr>\n",
       "      <th>78</th>\n",
       "      <td>Europe</td>\n",
       "      <td>2018</td>\n",
       "      <td>6.778579e+07</td>\n",
       "      <td>12.08</td>\n",
       "      <td>37.82</td>\n",
       "      <td>5.84</td>\n",
       "      <td>44.26</td>\n",
       "    </tr>\n",
       "    <tr>\n",
       "      <th>79</th>\n",
       "      <td>Europe</td>\n",
       "      <td>2019</td>\n",
       "      <td>6.933902e+07</td>\n",
       "      <td>12.38</td>\n",
       "      <td>37.75</td>\n",
       "      <td>5.67</td>\n",
       "      <td>44.20</td>\n",
       "    </tr>\n",
       "    <tr>\n",
       "      <th>80</th>\n",
       "      <td>India</td>\n",
       "      <td>2000</td>\n",
       "      <td>3.491734e+06</td>\n",
       "      <td>5.07</td>\n",
       "      <td>1.69</td>\n",
       "      <td>68.14</td>\n",
       "      <td>25.10</td>\n",
       "    </tr>\n",
       "    <tr>\n",
       "      <th>81</th>\n",
       "      <td>India</td>\n",
       "      <td>2001</td>\n",
       "      <td>3.863974e+06</td>\n",
       "      <td>5.52</td>\n",
       "      <td>1.81</td>\n",
       "      <td>67.02</td>\n",
       "      <td>25.65</td>\n",
       "    </tr>\n",
       "    <tr>\n",
       "      <th>82</th>\n",
       "      <td>India</td>\n",
       "      <td>2002</td>\n",
       "      <td>4.321331e+06</td>\n",
       "      <td>5.97</td>\n",
       "      <td>1.93</td>\n",
       "      <td>65.90</td>\n",
       "      <td>26.20</td>\n",
       "    </tr>\n",
       "    <tr>\n",
       "      <th>83</th>\n",
       "      <td>India</td>\n",
       "      <td>2003</td>\n",
       "      <td>4.785950e+06</td>\n",
       "      <td>6.41</td>\n",
       "      <td>2.06</td>\n",
       "      <td>64.77</td>\n",
       "      <td>26.76</td>\n",
       "    </tr>\n",
       "    <tr>\n",
       "      <th>84</th>\n",
       "      <td>India</td>\n",
       "      <td>2004</td>\n",
       "      <td>5.312564e+06</td>\n",
       "      <td>6.86</td>\n",
       "      <td>2.18</td>\n",
       "      <td>63.63</td>\n",
       "      <td>27.32</td>\n",
       "    </tr>\n",
       "    <tr>\n",
       "      <th>85</th>\n",
       "      <td>India</td>\n",
       "      <td>2005</td>\n",
       "      <td>5.805910e+06</td>\n",
       "      <td>7.30</td>\n",
       "      <td>2.31</td>\n",
       "      <td>62.50</td>\n",
       "      <td>27.89</td>\n",
       "    </tr>\n",
       "    <tr>\n",
       "      <th>86</th>\n",
       "      <td>India</td>\n",
       "      <td>2006</td>\n",
       "      <td>6.395879e+06</td>\n",
       "      <td>7.75</td>\n",
       "      <td>2.44</td>\n",
       "      <td>61.35</td>\n",
       "      <td>28.46</td>\n",
       "    </tr>\n",
       "    <tr>\n",
       "      <th>87</th>\n",
       "      <td>India</td>\n",
       "      <td>2007</td>\n",
       "      <td>7.031510e+06</td>\n",
       "      <td>8.19</td>\n",
       "      <td>2.56</td>\n",
       "      <td>60.21</td>\n",
       "      <td>29.04</td>\n",
       "    </tr>\n",
       "    <tr>\n",
       "      <th>88</th>\n",
       "      <td>India</td>\n",
       "      <td>2008</td>\n",
       "      <td>7.424327e+06</td>\n",
       "      <td>8.62</td>\n",
       "      <td>2.69</td>\n",
       "      <td>59.07</td>\n",
       "      <td>29.62</td>\n",
       "    </tr>\n",
       "    <tr>\n",
       "      <th>89</th>\n",
       "      <td>India</td>\n",
       "      <td>2009</td>\n",
       "      <td>7.995355e+06</td>\n",
       "      <td>9.05</td>\n",
       "      <td>2.82</td>\n",
       "      <td>57.93</td>\n",
       "      <td>30.21</td>\n",
       "    </tr>\n",
       "    <tr>\n",
       "      <th>90</th>\n",
       "      <td>India</td>\n",
       "      <td>2010</td>\n",
       "      <td>8.961566e+06</td>\n",
       "      <td>9.51</td>\n",
       "      <td>2.95</td>\n",
       "      <td>56.75</td>\n",
       "      <td>30.79</td>\n",
       "    </tr>\n",
       "    <tr>\n",
       "      <th>91</th>\n",
       "      <td>India</td>\n",
       "      <td>2011</td>\n",
       "      <td>9.882704e+06</td>\n",
       "      <td>9.97</td>\n",
       "      <td>3.08</td>\n",
       "      <td>55.57</td>\n",
       "      <td>31.38</td>\n",
       "    </tr>\n",
       "    <tr>\n",
       "      <th>92</th>\n",
       "      <td>India</td>\n",
       "      <td>2012</td>\n",
       "      <td>1.079002e+07</td>\n",
       "      <td>10.42</td>\n",
       "      <td>3.22</td>\n",
       "      <td>54.39</td>\n",
       "      <td>31.98</td>\n",
       "    </tr>\n",
       "    <tr>\n",
       "      <th>93</th>\n",
       "      <td>India</td>\n",
       "      <td>2013</td>\n",
       "      <td>1.182638e+07</td>\n",
       "      <td>10.86</td>\n",
       "      <td>3.35</td>\n",
       "      <td>53.20</td>\n",
       "      <td>32.58</td>\n",
       "    </tr>\n",
       "    <tr>\n",
       "      <th>94</th>\n",
       "      <td>India</td>\n",
       "      <td>2014</td>\n",
       "      <td>1.290532e+07</td>\n",
       "      <td>11.29</td>\n",
       "      <td>3.49</td>\n",
       "      <td>52.02</td>\n",
       "      <td>33.19</td>\n",
       "    </tr>\n",
       "    <tr>\n",
       "      <th>95</th>\n",
       "      <td>India</td>\n",
       "      <td>2015</td>\n",
       "      <td>1.379919e+07</td>\n",
       "      <td>11.76</td>\n",
       "      <td>3.62</td>\n",
       "      <td>50.82</td>\n",
       "      <td>33.79</td>\n",
       "    </tr>\n",
       "    <tr>\n",
       "      <th>96</th>\n",
       "      <td>India</td>\n",
       "      <td>2016</td>\n",
       "      <td>1.495546e+07</td>\n",
       "      <td>12.20</td>\n",
       "      <td>3.76</td>\n",
       "      <td>49.64</td>\n",
       "      <td>34.41</td>\n",
       "    </tr>\n",
       "    <tr>\n",
       "      <th>97</th>\n",
       "      <td>India</td>\n",
       "      <td>2017</td>\n",
       "      <td>1.616369e+07</td>\n",
       "      <td>12.62</td>\n",
       "      <td>3.89</td>\n",
       "      <td>48.45</td>\n",
       "      <td>35.04</td>\n",
       "    </tr>\n",
       "    <tr>\n",
       "      <th>98</th>\n",
       "      <td>India</td>\n",
       "      <td>2018</td>\n",
       "      <td>1.737813e+07</td>\n",
       "      <td>13.02</td>\n",
       "      <td>4.03</td>\n",
       "      <td>47.27</td>\n",
       "      <td>35.68</td>\n",
       "    </tr>\n",
       "    <tr>\n",
       "      <th>99</th>\n",
       "      <td>India</td>\n",
       "      <td>2019</td>\n",
       "      <td>1.851841e+07</td>\n",
       "      <td>13.33</td>\n",
       "      <td>4.16</td>\n",
       "      <td>46.21</td>\n",
       "      <td>36.29</td>\n",
       "    </tr>\n",
       "    <tr>\n",
       "      <th>100</th>\n",
       "      <td>Middle East &amp; North Africa</td>\n",
       "      <td>2000</td>\n",
       "      <td>6.827319e+06</td>\n",
       "      <td>2.84</td>\n",
       "      <td>0.41</td>\n",
       "      <td>46.09</td>\n",
       "      <td>50.67</td>\n",
       "    </tr>\n",
       "    <tr>\n",
       "      <th>101</th>\n",
       "      <td>Middle East &amp; North Africa</td>\n",
       "      <td>2001</td>\n",
       "      <td>7.187149e+06</td>\n",
       "      <td>2.98</td>\n",
       "      <td>0.41</td>\n",
       "      <td>45.76</td>\n",
       "      <td>50.85</td>\n",
       "    </tr>\n",
       "    <tr>\n",
       "      <th>102</th>\n",
       "      <td>Middle East &amp; North Africa</td>\n",
       "      <td>2002</td>\n",
       "      <td>7.659866e+06</td>\n",
       "      <td>3.12</td>\n",
       "      <td>0.41</td>\n",
       "      <td>45.43</td>\n",
       "      <td>51.04</td>\n",
       "    </tr>\n",
       "    <tr>\n",
       "      <th>103</th>\n",
       "      <td>Middle East &amp; North Africa</td>\n",
       "      <td>2003</td>\n",
       "      <td>8.108798e+06</td>\n",
       "      <td>3.26</td>\n",
       "      <td>0.41</td>\n",
       "      <td>45.10</td>\n",
       "      <td>51.22</td>\n",
       "    </tr>\n",
       "    <tr>\n",
       "      <th>104</th>\n",
       "      <td>Middle East &amp; North Africa</td>\n",
       "      <td>2004</td>\n",
       "      <td>8.620644e+06</td>\n",
       "      <td>3.40</td>\n",
       "      <td>0.42</td>\n",
       "      <td>44.77</td>\n",
       "      <td>51.40</td>\n",
       "    </tr>\n",
       "    <tr>\n",
       "      <th>105</th>\n",
       "      <td>Middle East &amp; North Africa</td>\n",
       "      <td>2005</td>\n",
       "      <td>9.051581e+06</td>\n",
       "      <td>3.54</td>\n",
       "      <td>0.42</td>\n",
       "      <td>44.45</td>\n",
       "      <td>51.59</td>\n",
       "    </tr>\n",
       "    <tr>\n",
       "      <th>106</th>\n",
       "      <td>Middle East &amp; North Africa</td>\n",
       "      <td>2006</td>\n",
       "      <td>9.593216e+06</td>\n",
       "      <td>3.68</td>\n",
       "      <td>0.42</td>\n",
       "      <td>44.12</td>\n",
       "      <td>51.78</td>\n",
       "    </tr>\n",
       "    <tr>\n",
       "      <th>107</th>\n",
       "      <td>Middle East &amp; North Africa</td>\n",
       "      <td>2007</td>\n",
       "      <td>1.016422e+07</td>\n",
       "      <td>3.82</td>\n",
       "      <td>0.42</td>\n",
       "      <td>43.79</td>\n",
       "      <td>51.97</td>\n",
       "    </tr>\n",
       "    <tr>\n",
       "      <th>108</th>\n",
       "      <td>Middle East &amp; North Africa</td>\n",
       "      <td>2008</td>\n",
       "      <td>1.037186e+07</td>\n",
       "      <td>3.95</td>\n",
       "      <td>0.42</td>\n",
       "      <td>43.47</td>\n",
       "      <td>52.16</td>\n",
       "    </tr>\n",
       "    <tr>\n",
       "      <th>109</th>\n",
       "      <td>Middle East &amp; North Africa</td>\n",
       "      <td>2009</td>\n",
       "      <td>1.079910e+07</td>\n",
       "      <td>4.08</td>\n",
       "      <td>0.42</td>\n",
       "      <td>43.14</td>\n",
       "      <td>52.35</td>\n",
       "    </tr>\n",
       "    <tr>\n",
       "      <th>110</th>\n",
       "      <td>Middle East &amp; North Africa</td>\n",
       "      <td>2010</td>\n",
       "      <td>1.150534e+07</td>\n",
       "      <td>4.22</td>\n",
       "      <td>0.42</td>\n",
       "      <td>42.81</td>\n",
       "      <td>52.54</td>\n",
       "    </tr>\n",
       "    <tr>\n",
       "      <th>111</th>\n",
       "      <td>Middle East &amp; North Africa</td>\n",
       "      <td>2011</td>\n",
       "      <td>1.203953e+07</td>\n",
       "      <td>4.36</td>\n",
       "      <td>0.43</td>\n",
       "      <td>42.48</td>\n",
       "      <td>52.74</td>\n",
       "    </tr>\n",
       "    <tr>\n",
       "      <th>112</th>\n",
       "      <td>Middle East &amp; North Africa</td>\n",
       "      <td>2012</td>\n",
       "      <td>1.254632e+07</td>\n",
       "      <td>4.49</td>\n",
       "      <td>0.43</td>\n",
       "      <td>42.15</td>\n",
       "      <td>52.93</td>\n",
       "    </tr>\n",
       "    <tr>\n",
       "      <th>113</th>\n",
       "      <td>Middle East &amp; North Africa</td>\n",
       "      <td>2013</td>\n",
       "      <td>1.309420e+07</td>\n",
       "      <td>4.63</td>\n",
       "      <td>0.43</td>\n",
       "      <td>41.81</td>\n",
       "      <td>53.13</td>\n",
       "    </tr>\n",
       "    <tr>\n",
       "      <th>114</th>\n",
       "      <td>Middle East &amp; North Africa</td>\n",
       "      <td>2014</td>\n",
       "      <td>1.361000e+07</td>\n",
       "      <td>4.76</td>\n",
       "      <td>0.43</td>\n",
       "      <td>41.48</td>\n",
       "      <td>53.33</td>\n",
       "    </tr>\n",
       "    <tr>\n",
       "      <th>115</th>\n",
       "      <td>Middle East &amp; North Africa</td>\n",
       "      <td>2015</td>\n",
       "      <td>1.417760e+07</td>\n",
       "      <td>4.90</td>\n",
       "      <td>0.44</td>\n",
       "      <td>41.15</td>\n",
       "      <td>53.52</td>\n",
       "    </tr>\n",
       "    <tr>\n",
       "      <th>116</th>\n",
       "      <td>Middle East &amp; North Africa</td>\n",
       "      <td>2016</td>\n",
       "      <td>1.511881e+07</td>\n",
       "      <td>5.04</td>\n",
       "      <td>0.44</td>\n",
       "      <td>40.81</td>\n",
       "      <td>53.71</td>\n",
       "    </tr>\n",
       "    <tr>\n",
       "      <th>117</th>\n",
       "      <td>Middle East &amp; North Africa</td>\n",
       "      <td>2017</td>\n",
       "      <td>1.580222e+07</td>\n",
       "      <td>5.17</td>\n",
       "      <td>0.44</td>\n",
       "      <td>40.48</td>\n",
       "      <td>53.90</td>\n",
       "    </tr>\n",
       "    <tr>\n",
       "      <th>118</th>\n",
       "      <td>Middle East &amp; North Africa</td>\n",
       "      <td>2018</td>\n",
       "      <td>1.634501e+07</td>\n",
       "      <td>5.31</td>\n",
       "      <td>0.44</td>\n",
       "      <td>40.15</td>\n",
       "      <td>54.10</td>\n",
       "    </tr>\n",
       "    <tr>\n",
       "      <th>119</th>\n",
       "      <td>Middle East &amp; North Africa</td>\n",
       "      <td>2019</td>\n",
       "      <td>1.691715e+07</td>\n",
       "      <td>5.45</td>\n",
       "      <td>0.61</td>\n",
       "      <td>39.80</td>\n",
       "      <td>54.15</td>\n",
       "    </tr>\n",
       "    <tr>\n",
       "      <th>120</th>\n",
       "      <td>Oceania</td>\n",
       "      <td>2000</td>\n",
       "      <td>4.333930e+05</td>\n",
       "      <td>3.80</td>\n",
       "      <td>9.35</td>\n",
       "      <td>11.80</td>\n",
       "      <td>75.05</td>\n",
       "    </tr>\n",
       "    <tr>\n",
       "      <th>121</th>\n",
       "      <td>Oceania</td>\n",
       "      <td>2001</td>\n",
       "      <td>4.756850e+05</td>\n",
       "      <td>3.96</td>\n",
       "      <td>9.46</td>\n",
       "      <td>11.54</td>\n",
       "      <td>75.03</td>\n",
       "    </tr>\n",
       "    <tr>\n",
       "      <th>122</th>\n",
       "      <td>Oceania</td>\n",
       "      <td>2002</td>\n",
       "      <td>5.255220e+05</td>\n",
       "      <td>4.13</td>\n",
       "      <td>9.58</td>\n",
       "      <td>11.28</td>\n",
       "      <td>75.00</td>\n",
       "    </tr>\n",
       "    <tr>\n",
       "      <th>123</th>\n",
       "      <td>Oceania</td>\n",
       "      <td>2003</td>\n",
       "      <td>5.768780e+05</td>\n",
       "      <td>4.30</td>\n",
       "      <td>9.70</td>\n",
       "      <td>11.02</td>\n",
       "      <td>74.98</td>\n",
       "    </tr>\n",
       "    <tr>\n",
       "      <th>124</th>\n",
       "      <td>Oceania</td>\n",
       "      <td>2004</td>\n",
       "      <td>6.340520e+05</td>\n",
       "      <td>4.46</td>\n",
       "      <td>9.82</td>\n",
       "      <td>10.76</td>\n",
       "      <td>74.95</td>\n",
       "    </tr>\n",
       "    <tr>\n",
       "      <th>125</th>\n",
       "      <td>Oceania</td>\n",
       "      <td>2005</td>\n",
       "      <td>6.893090e+05</td>\n",
       "      <td>4.62</td>\n",
       "      <td>9.94</td>\n",
       "      <td>10.50</td>\n",
       "      <td>74.94</td>\n",
       "    </tr>\n",
       "    <tr>\n",
       "      <th>126</th>\n",
       "      <td>Oceania</td>\n",
       "      <td>2006</td>\n",
       "      <td>7.531950e+05</td>\n",
       "      <td>4.78</td>\n",
       "      <td>10.06</td>\n",
       "      <td>10.23</td>\n",
       "      <td>74.92</td>\n",
       "    </tr>\n",
       "    <tr>\n",
       "      <th>127</th>\n",
       "      <td>Oceania</td>\n",
       "      <td>2007</td>\n",
       "      <td>8.221580e+05</td>\n",
       "      <td>4.94</td>\n",
       "      <td>10.19</td>\n",
       "      <td>9.97</td>\n",
       "      <td>74.90</td>\n",
       "    </tr>\n",
       "    <tr>\n",
       "      <th>128</th>\n",
       "      <td>Oceania</td>\n",
       "      <td>2008</td>\n",
       "      <td>8.744760e+05</td>\n",
       "      <td>5.08</td>\n",
       "      <td>10.31</td>\n",
       "      <td>9.70</td>\n",
       "      <td>74.91</td>\n",
       "    </tr>\n",
       "    <tr>\n",
       "      <th>129</th>\n",
       "      <td>Oceania</td>\n",
       "      <td>2009</td>\n",
       "      <td>9.419940e+05</td>\n",
       "      <td>5.23</td>\n",
       "      <td>10.43</td>\n",
       "      <td>9.44</td>\n",
       "      <td>74.91</td>\n",
       "    </tr>\n",
       "    <tr>\n",
       "      <th>130</th>\n",
       "      <td>Oceania</td>\n",
       "      <td>2010</td>\n",
       "      <td>1.027911e+06</td>\n",
       "      <td>5.39</td>\n",
       "      <td>10.55</td>\n",
       "      <td>9.17</td>\n",
       "      <td>74.89</td>\n",
       "    </tr>\n",
       "    <tr>\n",
       "      <th>131</th>\n",
       "      <td>Oceania</td>\n",
       "      <td>2011</td>\n",
       "      <td>1.116103e+06</td>\n",
       "      <td>5.55</td>\n",
       "      <td>10.67</td>\n",
       "      <td>8.90</td>\n",
       "      <td>74.87</td>\n",
       "    </tr>\n",
       "    <tr>\n",
       "      <th>132</th>\n",
       "      <td>Oceania</td>\n",
       "      <td>2012</td>\n",
       "      <td>1.180188e+06</td>\n",
       "      <td>5.70</td>\n",
       "      <td>10.79</td>\n",
       "      <td>8.63</td>\n",
       "      <td>74.87</td>\n",
       "    </tr>\n",
       "    <tr>\n",
       "      <th>133</th>\n",
       "      <td>Oceania</td>\n",
       "      <td>2013</td>\n",
       "      <td>1.289648e+06</td>\n",
       "      <td>5.86</td>\n",
       "      <td>10.92</td>\n",
       "      <td>8.36</td>\n",
       "      <td>74.86</td>\n",
       "    </tr>\n",
       "    <tr>\n",
       "      <th>134</th>\n",
       "      <td>Oceania</td>\n",
       "      <td>2014</td>\n",
       "      <td>1.361788e+06</td>\n",
       "      <td>6.01</td>\n",
       "      <td>11.04</td>\n",
       "      <td>8.09</td>\n",
       "      <td>74.86</td>\n",
       "    </tr>\n",
       "    <tr>\n",
       "      <th>135</th>\n",
       "      <td>Oceania</td>\n",
       "      <td>2015</td>\n",
       "      <td>1.460102e+06</td>\n",
       "      <td>6.20</td>\n",
       "      <td>11.16</td>\n",
       "      <td>7.82</td>\n",
       "      <td>74.82</td>\n",
       "    </tr>\n",
       "    <tr>\n",
       "      <th>136</th>\n",
       "      <td>Oceania</td>\n",
       "      <td>2016</td>\n",
       "      <td>1.563966e+06</td>\n",
       "      <td>6.36</td>\n",
       "      <td>11.28</td>\n",
       "      <td>7.54</td>\n",
       "      <td>74.81</td>\n",
       "    </tr>\n",
       "    <tr>\n",
       "      <th>137</th>\n",
       "      <td>Oceania</td>\n",
       "      <td>2017</td>\n",
       "      <td>1.693262e+06</td>\n",
       "      <td>6.52</td>\n",
       "      <td>11.41</td>\n",
       "      <td>7.27</td>\n",
       "      <td>74.81</td>\n",
       "    </tr>\n",
       "    <tr>\n",
       "      <th>138</th>\n",
       "      <td>Oceania</td>\n",
       "      <td>2018</td>\n",
       "      <td>1.790679e+06</td>\n",
       "      <td>6.69</td>\n",
       "      <td>11.53</td>\n",
       "      <td>6.99</td>\n",
       "      <td>74.79</td>\n",
       "    </tr>\n",
       "    <tr>\n",
       "      <th>139</th>\n",
       "      <td>Oceania</td>\n",
       "      <td>2019</td>\n",
       "      <td>1.892815e+06</td>\n",
       "      <td>6.87</td>\n",
       "      <td>11.51</td>\n",
       "      <td>6.75</td>\n",
       "      <td>74.87</td>\n",
       "    </tr>\n",
       "    <tr>\n",
       "      <th>140</th>\n",
       "      <td>Sub-Saharan Africa</td>\n",
       "      <td>2000</td>\n",
       "      <td>5.253922e+06</td>\n",
       "      <td>3.01</td>\n",
       "      <td>0.00</td>\n",
       "      <td>69.32</td>\n",
       "      <td>27.66</td>\n",
       "    </tr>\n",
       "    <tr>\n",
       "      <th>141</th>\n",
       "      <td>Sub-Saharan Africa</td>\n",
       "      <td>2001</td>\n",
       "      <td>5.662476e+06</td>\n",
       "      <td>3.16</td>\n",
       "      <td>0.00</td>\n",
       "      <td>69.04</td>\n",
       "      <td>27.80</td>\n",
       "    </tr>\n",
       "    <tr>\n",
       "      <th>142</th>\n",
       "      <td>Sub-Saharan Africa</td>\n",
       "      <td>2002</td>\n",
       "      <td>6.196448e+06</td>\n",
       "      <td>3.30</td>\n",
       "      <td>0.00</td>\n",
       "      <td>68.75</td>\n",
       "      <td>27.95</td>\n",
       "    </tr>\n",
       "    <tr>\n",
       "      <th>143</th>\n",
       "      <td>Sub-Saharan Africa</td>\n",
       "      <td>2003</td>\n",
       "      <td>6.717239e+06</td>\n",
       "      <td>3.45</td>\n",
       "      <td>0.00</td>\n",
       "      <td>68.46</td>\n",
       "      <td>28.09</td>\n",
       "    </tr>\n",
       "    <tr>\n",
       "      <th>144</th>\n",
       "      <td>Sub-Saharan Africa</td>\n",
       "      <td>2004</td>\n",
       "      <td>7.319935e+06</td>\n",
       "      <td>3.60</td>\n",
       "      <td>0.00</td>\n",
       "      <td>68.18</td>\n",
       "      <td>28.23</td>\n",
       "    </tr>\n",
       "    <tr>\n",
       "      <th>145</th>\n",
       "      <td>Sub-Saharan Africa</td>\n",
       "      <td>2005</td>\n",
       "      <td>7.848006e+06</td>\n",
       "      <td>3.74</td>\n",
       "      <td>0.00</td>\n",
       "      <td>67.89</td>\n",
       "      <td>28.37</td>\n",
       "    </tr>\n",
       "    <tr>\n",
       "      <th>146</th>\n",
       "      <td>Sub-Saharan Africa</td>\n",
       "      <td>2006</td>\n",
       "      <td>8.512831e+06</td>\n",
       "      <td>3.88</td>\n",
       "      <td>0.00</td>\n",
       "      <td>67.60</td>\n",
       "      <td>28.51</td>\n",
       "    </tr>\n",
       "    <tr>\n",
       "      <th>147</th>\n",
       "      <td>Sub-Saharan Africa</td>\n",
       "      <td>2007</td>\n",
       "      <td>9.223010e+06</td>\n",
       "      <td>4.03</td>\n",
       "      <td>0.00</td>\n",
       "      <td>67.31</td>\n",
       "      <td>28.66</td>\n",
       "    </tr>\n",
       "    <tr>\n",
       "      <th>148</th>\n",
       "      <td>Sub-Saharan Africa</td>\n",
       "      <td>2008</td>\n",
       "      <td>9.512829e+06</td>\n",
       "      <td>4.17</td>\n",
       "      <td>0.00</td>\n",
       "      <td>67.03</td>\n",
       "      <td>28.80</td>\n",
       "    </tr>\n",
       "    <tr>\n",
       "      <th>149</th>\n",
       "      <td>Sub-Saharan Africa</td>\n",
       "      <td>2009</td>\n",
       "      <td>1.006651e+07</td>\n",
       "      <td>4.31</td>\n",
       "      <td>0.00</td>\n",
       "      <td>66.75</td>\n",
       "      <td>28.94</td>\n",
       "    </tr>\n",
       "    <tr>\n",
       "      <th>150</th>\n",
       "      <td>Sub-Saharan Africa</td>\n",
       "      <td>2010</td>\n",
       "      <td>1.090800e+07</td>\n",
       "      <td>4.46</td>\n",
       "      <td>0.00</td>\n",
       "      <td>66.46</td>\n",
       "      <td>29.09</td>\n",
       "    </tr>\n",
       "    <tr>\n",
       "      <th>151</th>\n",
       "      <td>Sub-Saharan Africa</td>\n",
       "      <td>2011</td>\n",
       "      <td>1.156404e+07</td>\n",
       "      <td>4.60</td>\n",
       "      <td>0.00</td>\n",
       "      <td>66.17</td>\n",
       "      <td>29.23</td>\n",
       "    </tr>\n",
       "    <tr>\n",
       "      <th>152</th>\n",
       "      <td>Sub-Saharan Africa</td>\n",
       "      <td>2012</td>\n",
       "      <td>1.216115e+07</td>\n",
       "      <td>4.74</td>\n",
       "      <td>0.00</td>\n",
       "      <td>65.88</td>\n",
       "      <td>29.37</td>\n",
       "    </tr>\n",
       "    <tr>\n",
       "      <th>153</th>\n",
       "      <td>Sub-Saharan Africa</td>\n",
       "      <td>2013</td>\n",
       "      <td>1.281345e+07</td>\n",
       "      <td>4.88</td>\n",
       "      <td>0.00</td>\n",
       "      <td>65.60</td>\n",
       "      <td>29.52</td>\n",
       "    </tr>\n",
       "    <tr>\n",
       "      <th>154</th>\n",
       "      <td>Sub-Saharan Africa</td>\n",
       "      <td>2014</td>\n",
       "      <td>1.337533e+07</td>\n",
       "      <td>5.02</td>\n",
       "      <td>0.00</td>\n",
       "      <td>65.31</td>\n",
       "      <td>29.67</td>\n",
       "    </tr>\n",
       "    <tr>\n",
       "      <th>155</th>\n",
       "      <td>Sub-Saharan Africa</td>\n",
       "      <td>2015</td>\n",
       "      <td>1.418654e+07</td>\n",
       "      <td>5.17</td>\n",
       "      <td>0.00</td>\n",
       "      <td>65.02</td>\n",
       "      <td>29.81</td>\n",
       "    </tr>\n",
       "    <tr>\n",
       "      <th>156</th>\n",
       "      <td>Sub-Saharan Africa</td>\n",
       "      <td>2016</td>\n",
       "      <td>1.461285e+07</td>\n",
       "      <td>5.31</td>\n",
       "      <td>0.00</td>\n",
       "      <td>64.73</td>\n",
       "      <td>29.96</td>\n",
       "    </tr>\n",
       "    <tr>\n",
       "      <th>157</th>\n",
       "      <td>Sub-Saharan Africa</td>\n",
       "      <td>2017</td>\n",
       "      <td>1.508748e+07</td>\n",
       "      <td>5.46</td>\n",
       "      <td>0.00</td>\n",
       "      <td>64.44</td>\n",
       "      <td>30.10</td>\n",
       "    </tr>\n",
       "    <tr>\n",
       "      <th>158</th>\n",
       "      <td>Sub-Saharan Africa</td>\n",
       "      <td>2018</td>\n",
       "      <td>1.566199e+07</td>\n",
       "      <td>5.60</td>\n",
       "      <td>0.00</td>\n",
       "      <td>64.16</td>\n",
       "      <td>30.25</td>\n",
       "    </tr>\n",
       "    <tr>\n",
       "      <th>159</th>\n",
       "      <td>Sub-Saharan Africa</td>\n",
       "      <td>2019</td>\n",
       "      <td>1.624905e+07</td>\n",
       "      <td>5.72</td>\n",
       "      <td>0.51</td>\n",
       "      <td>63.61</td>\n",
       "      <td>30.17</td>\n",
       "    </tr>\n",
       "    <tr>\n",
       "      <th>160</th>\n",
       "      <td>United States</td>\n",
       "      <td>2000</td>\n",
       "      <td>4.684474e+07</td>\n",
       "      <td>2.35</td>\n",
       "      <td>15.27</td>\n",
       "      <td>7.98</td>\n",
       "      <td>74.41</td>\n",
       "    </tr>\n",
       "    <tr>\n",
       "      <th>161</th>\n",
       "      <td>United States</td>\n",
       "      <td>2001</td>\n",
       "      <td>4.826091e+07</td>\n",
       "      <td>2.46</td>\n",
       "      <td>15.47</td>\n",
       "      <td>7.75</td>\n",
       "      <td>74.32</td>\n",
       "    </tr>\n",
       "    <tr>\n",
       "      <th>162</th>\n",
       "      <td>United States</td>\n",
       "      <td>2002</td>\n",
       "      <td>5.028802e+07</td>\n",
       "      <td>2.57</td>\n",
       "      <td>15.68</td>\n",
       "      <td>7.53</td>\n",
       "      <td>74.23</td>\n",
       "    </tr>\n",
       "    <tr>\n",
       "      <th>163</th>\n",
       "      <td>United States</td>\n",
       "      <td>2003</td>\n",
       "      <td>5.205779e+07</td>\n",
       "      <td>2.68</td>\n",
       "      <td>15.88</td>\n",
       "      <td>7.30</td>\n",
       "      <td>74.14</td>\n",
       "    </tr>\n",
       "    <tr>\n",
       "      <th>164</th>\n",
       "      <td>United States</td>\n",
       "      <td>2004</td>\n",
       "      <td>5.408468e+07</td>\n",
       "      <td>2.80</td>\n",
       "      <td>16.09</td>\n",
       "      <td>7.07</td>\n",
       "      <td>74.04</td>\n",
       "    </tr>\n",
       "    <tr>\n",
       "      <th>165</th>\n",
       "      <td>United States</td>\n",
       "      <td>2005</td>\n",
       "      <td>5.552030e+07</td>\n",
       "      <td>2.91</td>\n",
       "      <td>16.30</td>\n",
       "      <td>6.84</td>\n",
       "      <td>73.95</td>\n",
       "    </tr>\n",
       "    <tr>\n",
       "      <th>166</th>\n",
       "      <td>United States</td>\n",
       "      <td>2006</td>\n",
       "      <td>5.746876e+07</td>\n",
       "      <td>3.02</td>\n",
       "      <td>16.50</td>\n",
       "      <td>6.61</td>\n",
       "      <td>73.86</td>\n",
       "    </tr>\n",
       "    <tr>\n",
       "      <th>167</th>\n",
       "      <td>United States</td>\n",
       "      <td>2007</td>\n",
       "      <td>5.945230e+07</td>\n",
       "      <td>3.13</td>\n",
       "      <td>16.71</td>\n",
       "      <td>6.38</td>\n",
       "      <td>73.77</td>\n",
       "    </tr>\n",
       "    <tr>\n",
       "      <th>168</th>\n",
       "      <td>United States</td>\n",
       "      <td>2008</td>\n",
       "      <td>5.937492e+07</td>\n",
       "      <td>3.23</td>\n",
       "      <td>16.92</td>\n",
       "      <td>6.15</td>\n",
       "      <td>73.70</td>\n",
       "    </tr>\n",
       "    <tr>\n",
       "      <th>169</th>\n",
       "      <td>United States</td>\n",
       "      <td>2009</td>\n",
       "      <td>6.039108e+07</td>\n",
       "      <td>3.34</td>\n",
       "      <td>17.13</td>\n",
       "      <td>5.92</td>\n",
       "      <td>73.61</td>\n",
       "    </tr>\n",
       "    <tr>\n",
       "      <th>170</th>\n",
       "      <td>United States</td>\n",
       "      <td>2010</td>\n",
       "      <td>6.267237e+07</td>\n",
       "      <td>3.45</td>\n",
       "      <td>17.34</td>\n",
       "      <td>5.69</td>\n",
       "      <td>73.52</td>\n",
       "    </tr>\n",
       "    <tr>\n",
       "      <th>171</th>\n",
       "      <td>United States</td>\n",
       "      <td>2011</td>\n",
       "      <td>6.396298e+07</td>\n",
       "      <td>3.57</td>\n",
       "      <td>17.55</td>\n",
       "      <td>5.46</td>\n",
       "      <td>73.43</td>\n",
       "    </tr>\n",
       "    <tr>\n",
       "      <th>172</th>\n",
       "      <td>United States</td>\n",
       "      <td>2012</td>\n",
       "      <td>6.494382e+07</td>\n",
       "      <td>3.68</td>\n",
       "      <td>17.76</td>\n",
       "      <td>5.22</td>\n",
       "      <td>73.34</td>\n",
       "    </tr>\n",
       "    <tr>\n",
       "      <th>173</th>\n",
       "      <td>United States</td>\n",
       "      <td>2013</td>\n",
       "      <td>6.598461e+07</td>\n",
       "      <td>3.79</td>\n",
       "      <td>17.97</td>\n",
       "      <td>4.99</td>\n",
       "      <td>73.26</td>\n",
       "    </tr>\n",
       "    <tr>\n",
       "      <th>174</th>\n",
       "      <td>United States</td>\n",
       "      <td>2014</td>\n",
       "      <td>6.652539e+07</td>\n",
       "      <td>3.89</td>\n",
       "      <td>18.19</td>\n",
       "      <td>4.75</td>\n",
       "      <td>73.18</td>\n",
       "    </tr>\n",
       "    <tr>\n",
       "      <th>175</th>\n",
       "      <td>United States</td>\n",
       "      <td>2015</td>\n",
       "      <td>6.749426e+07</td>\n",
       "      <td>4.01</td>\n",
       "      <td>18.40</td>\n",
       "      <td>4.51</td>\n",
       "      <td>73.08</td>\n",
       "    </tr>\n",
       "    <tr>\n",
       "      <th>176</th>\n",
       "      <td>United States</td>\n",
       "      <td>2016</td>\n",
       "      <td>6.937814e+07</td>\n",
       "      <td>4.13</td>\n",
       "      <td>18.61</td>\n",
       "      <td>4.28</td>\n",
       "      <td>72.99</td>\n",
       "    </tr>\n",
       "    <tr>\n",
       "      <th>177</th>\n",
       "      <td>United States</td>\n",
       "      <td>2017</td>\n",
       "      <td>7.020597e+07</td>\n",
       "      <td>4.25</td>\n",
       "      <td>18.82</td>\n",
       "      <td>4.04</td>\n",
       "      <td>72.89</td>\n",
       "    </tr>\n",
       "    <tr>\n",
       "      <th>178</th>\n",
       "      <td>United States</td>\n",
       "      <td>2018</td>\n",
       "      <td>7.157968e+07</td>\n",
       "      <td>4.36</td>\n",
       "      <td>19.04</td>\n",
       "      <td>3.81</td>\n",
       "      <td>72.80</td>\n",
       "    </tr>\n",
       "    <tr>\n",
       "      <th>179</th>\n",
       "      <td>United States</td>\n",
       "      <td>2019</td>\n",
       "      <td>7.284106e+07</td>\n",
       "      <td>4.49</td>\n",
       "      <td>19.08</td>\n",
       "      <td>3.55</td>\n",
       "      <td>72.88</td>\n",
       "    </tr>\n",
       "    <tr>\n",
       "      <th>180</th>\n",
       "      <td>World</td>\n",
       "      <td>2000</td>\n",
       "      <td>1.561724e+08</td>\n",
       "      <td>3.70</td>\n",
       "      <td>10.87</td>\n",
       "      <td>26.02</td>\n",
       "      <td>59.40</td>\n",
       "    </tr>\n",
       "    <tr>\n",
       "      <th>181</th>\n",
       "      <td>World</td>\n",
       "      <td>2001</td>\n",
       "      <td>1.638236e+08</td>\n",
       "      <td>3.99</td>\n",
       "      <td>11.34</td>\n",
       "      <td>26.04</td>\n",
       "      <td>58.64</td>\n",
       "    </tr>\n",
       "    <tr>\n",
       "      <th>182</th>\n",
       "      <td>World</td>\n",
       "      <td>2002</td>\n",
       "      <td>1.740470e+08</td>\n",
       "      <td>4.27</td>\n",
       "      <td>11.80</td>\n",
       "      <td>26.06</td>\n",
       "      <td>57.87</td>\n",
       "    </tr>\n",
       "    <tr>\n",
       "      <th>183</th>\n",
       "      <td>World</td>\n",
       "      <td>2003</td>\n",
       "      <td>1.836500e+08</td>\n",
       "      <td>4.56</td>\n",
       "      <td>12.26</td>\n",
       "      <td>26.04</td>\n",
       "      <td>57.13</td>\n",
       "    </tr>\n",
       "    <tr>\n",
       "      <th>184</th>\n",
       "      <td>World</td>\n",
       "      <td>2004</td>\n",
       "      <td>1.946470e+08</td>\n",
       "      <td>4.86</td>\n",
       "      <td>12.71</td>\n",
       "      <td>26.02</td>\n",
       "      <td>56.41</td>\n",
       "    </tr>\n",
       "    <tr>\n",
       "      <th>185</th>\n",
       "      <td>World</td>\n",
       "      <td>2005</td>\n",
       "      <td>2.037163e+08</td>\n",
       "      <td>5.15</td>\n",
       "      <td>13.17</td>\n",
       "      <td>25.95</td>\n",
       "      <td>55.73</td>\n",
       "    </tr>\n",
       "    <tr>\n",
       "      <th>186</th>\n",
       "      <td>World</td>\n",
       "      <td>2006</td>\n",
       "      <td>2.152639e+08</td>\n",
       "      <td>5.44</td>\n",
       "      <td>13.62</td>\n",
       "      <td>25.88</td>\n",
       "      <td>55.05</td>\n",
       "    </tr>\n",
       "    <tr>\n",
       "      <th>187</th>\n",
       "      <td>World</td>\n",
       "      <td>2007</td>\n",
       "      <td>2.273980e+08</td>\n",
       "      <td>5.74</td>\n",
       "      <td>14.08</td>\n",
       "      <td>25.79</td>\n",
       "      <td>54.40</td>\n",
       "    </tr>\n",
       "    <tr>\n",
       "      <th>188</th>\n",
       "      <td>World</td>\n",
       "      <td>2008</td>\n",
       "      <td>2.311607e+08</td>\n",
       "      <td>6.02</td>\n",
       "      <td>14.53</td>\n",
       "      <td>25.61</td>\n",
       "      <td>53.83</td>\n",
       "    </tr>\n",
       "    <tr>\n",
       "      <th>189</th>\n",
       "      <td>World</td>\n",
       "      <td>2009</td>\n",
       "      <td>2.398779e+08</td>\n",
       "      <td>6.31</td>\n",
       "      <td>14.98</td>\n",
       "      <td>25.45</td>\n",
       "      <td>53.26</td>\n",
       "    </tr>\n",
       "    <tr>\n",
       "      <th>190</th>\n",
       "      <td>World</td>\n",
       "      <td>2010</td>\n",
       "      <td>2.547164e+08</td>\n",
       "      <td>6.62</td>\n",
       "      <td>15.42</td>\n",
       "      <td>25.31</td>\n",
       "      <td>52.65</td>\n",
       "    </tr>\n",
       "    <tr>\n",
       "      <th>191</th>\n",
       "      <td>World</td>\n",
       "      <td>2011</td>\n",
       "      <td>2.659659e+08</td>\n",
       "      <td>6.94</td>\n",
       "      <td>15.87</td>\n",
       "      <td>25.13</td>\n",
       "      <td>52.07</td>\n",
       "    </tr>\n",
       "    <tr>\n",
       "      <th>192</th>\n",
       "      <td>World</td>\n",
       "      <td>2012</td>\n",
       "      <td>2.758048e+08</td>\n",
       "      <td>7.24</td>\n",
       "      <td>16.32</td>\n",
       "      <td>24.89</td>\n",
       "      <td>51.55</td>\n",
       "    </tr>\n",
       "    <tr>\n",
       "      <th>193</th>\n",
       "      <td>World</td>\n",
       "      <td>2013</td>\n",
       "      <td>2.866458e+08</td>\n",
       "      <td>7.54</td>\n",
       "      <td>16.78</td>\n",
       "      <td>24.61</td>\n",
       "      <td>51.07</td>\n",
       "    </tr>\n",
       "    <tr>\n",
       "      <th>194</th>\n",
       "      <td>World</td>\n",
       "      <td>2014</td>\n",
       "      <td>2.961851e+08</td>\n",
       "      <td>7.84</td>\n",
       "      <td>17.22</td>\n",
       "      <td>24.39</td>\n",
       "      <td>50.56</td>\n",
       "    </tr>\n",
       "    <tr>\n",
       "      <th>195</th>\n",
       "      <td>World</td>\n",
       "      <td>2015</td>\n",
       "      <td>3.083011e+08</td>\n",
       "      <td>8.16</td>\n",
       "      <td>17.63</td>\n",
       "      <td>24.08</td>\n",
       "      <td>50.13</td>\n",
       "    </tr>\n",
       "    <tr>\n",
       "      <th>196</th>\n",
       "      <td>World</td>\n",
       "      <td>2016</td>\n",
       "      <td>3.195635e+08</td>\n",
       "      <td>8.45</td>\n",
       "      <td>18.08</td>\n",
       "      <td>23.63</td>\n",
       "      <td>49.84</td>\n",
       "    </tr>\n",
       "    <tr>\n",
       "      <th>197</th>\n",
       "      <td>World</td>\n",
       "      <td>2017</td>\n",
       "      <td>3.310198e+08</td>\n",
       "      <td>8.75</td>\n",
       "      <td>18.58</td>\n",
       "      <td>23.20</td>\n",
       "      <td>49.47</td>\n",
       "    </tr>\n",
       "    <tr>\n",
       "      <th>198</th>\n",
       "      <td>World</td>\n",
       "      <td>2018</td>\n",
       "      <td>3.422391e+08</td>\n",
       "      <td>9.04</td>\n",
       "      <td>19.08</td>\n",
       "      <td>22.70</td>\n",
       "      <td>49.18</td>\n",
       "    </tr>\n",
       "    <tr>\n",
       "      <th>199</th>\n",
       "      <td>World</td>\n",
       "      <td>2019</td>\n",
       "      <td>3.532911e+08</td>\n",
       "      <td>9.29</td>\n",
       "      <td>19.05</td>\n",
       "      <td>22.45</td>\n",
       "      <td>49.21</td>\n",
       "    </tr>\n",
       "  </tbody>\n",
       "</table>\n",
       "</div>"
      ],
      "text/plain": [
       "                           Entity  Year  Total Trash (Tones)  \\\n",
       "0            Americas (excl. USA)  2000         1.634964e+07   \n",
       "1            Americas (excl. USA)  2001         1.721004e+07   \n",
       "2            Americas (excl. USA)  2002         1.836759e+07   \n",
       "3            Americas (excl. USA)  2003         1.945890e+07   \n",
       "4            Americas (excl. USA)  2004         2.071689e+07   \n",
       "5            Americas (excl. USA)  2005         2.176071e+07   \n",
       "6            Americas (excl. USA)  2006         2.309970e+07   \n",
       "7            Americas (excl. USA)  2007         2.451270e+07   \n",
       "8            Americas (excl. USA)  2008         2.493901e+07   \n",
       "9            Americas (excl. USA)  2009         2.595265e+07   \n",
       "10           Americas (excl. USA)  2010         2.761020e+07   \n",
       "11           Americas (excl. USA)  2011         2.880978e+07   \n",
       "12           Americas (excl. USA)  2012         2.982830e+07   \n",
       "13           Americas (excl. USA)  2013         3.102506e+07   \n",
       "14           Americas (excl. USA)  2014         3.186791e+07   \n",
       "15           Americas (excl. USA)  2015         3.378087e+07   \n",
       "16           Americas (excl. USA)  2016         3.447592e+07   \n",
       "17           Americas (excl. USA)  2017         3.541964e+07   \n",
       "18           Americas (excl. USA)  2018         3.670484e+07   \n",
       "19           Americas (excl. USA)  2019         3.773761e+07   \n",
       "20   Asia (excl. China and India)  2000         1.734087e+07   \n",
       "21   Asia (excl. China and India)  2001         1.855031e+07   \n",
       "22   Asia (excl. China and India)  2002         2.007806e+07   \n",
       "23   Asia (excl. China and India)  2003         2.157994e+07   \n",
       "24   Asia (excl. China and India)  2004         2.328491e+07   \n",
       "25   Asia (excl. China and India)  2005         2.481320e+07   \n",
       "26   Asia (excl. China and India)  2006         2.667730e+07   \n",
       "27   Asia (excl. China and India)  2007         2.866381e+07   \n",
       "28   Asia (excl. China and India)  2008         2.969045e+07   \n",
       "29   Asia (excl. China and India)  2009         3.135381e+07   \n",
       "30   Asia (excl. China and India)  2010         3.381626e+07   \n",
       "31   Asia (excl. China and India)  2011         3.590912e+07   \n",
       "32   Asia (excl. China and India)  2012         3.779153e+07   \n",
       "33   Asia (excl. China and India)  2013         3.993171e+07   \n",
       "34   Asia (excl. China and India)  2014         4.197178e+07   \n",
       "35   Asia (excl. China and India)  2015         4.455792e+07   \n",
       "36   Asia (excl. China and India)  2016         4.677533e+07   \n",
       "37   Asia (excl. China and India)  2017         4.940294e+07   \n",
       "38   Asia (excl. China and India)  2018         5.260041e+07   \n",
       "39   Asia (excl. China and India)  2019         5.435738e+07   \n",
       "40                          China  2000         1.713601e+07   \n",
       "41                          China  2001         1.877191e+07   \n",
       "42                          China  2002         2.083756e+07   \n",
       "43                          China  2003         2.290335e+07   \n",
       "44                          China  2004         2.527330e+07   \n",
       "45                          China  2005         2.744145e+07   \n",
       "46                          China  2006         3.009835e+07   \n",
       "47                          China  2007         3.295498e+07   \n",
       "48                          China  2008         3.446512e+07   \n",
       "49                          China  2009         3.689161e+07   \n",
       "50                          China  2010         4.052813e+07   \n",
       "51                          China  2011         4.370726e+07   \n",
       "52                          China  2012         4.653767e+07   \n",
       "53                          China  2013         4.931707e+07   \n",
       "54                          China  2014         5.270063e+07   \n",
       "55                          China  2015         5.575375e+07   \n",
       "56                          China  2016         5.839307e+07   \n",
       "57                          China  2017         6.116237e+07   \n",
       "58                          China  2018         6.239252e+07   \n",
       "59                          China  2019         6.543861e+07   \n",
       "60                         Europe  2000         4.249475e+07   \n",
       "61                         Europe  2001         4.384116e+07   \n",
       "62                         Europe  2002         4.577262e+07   \n",
       "63                         Europe  2003         4.746112e+07   \n",
       "64                         Europe  2004         4.940002e+07   \n",
       "65                         Europe  2005         5.078581e+07   \n",
       "66                         Europe  2006         5.266462e+07   \n",
       "67                         Europe  2007         5.457332e+07   \n",
       "68                         Europe  2008         5.450770e+07   \n",
       "69                         Europe  2009         5.548575e+07   \n",
       "70                         Europe  2010         5.768659e+07   \n",
       "71                         Europe  2011         5.897442e+07   \n",
       "72                         Europe  2012         6.002581e+07   \n",
       "73                         Europe  2013         6.136370e+07   \n",
       "74                         Europe  2014         6.186693e+07   \n",
       "75                         Europe  2015         6.309091e+07   \n",
       "76                         Europe  2016         6.428994e+07   \n",
       "77                         Europe  2017         6.608226e+07   \n",
       "78                         Europe  2018         6.778579e+07   \n",
       "79                         Europe  2019         6.933902e+07   \n",
       "80                          India  2000         3.491734e+06   \n",
       "81                          India  2001         3.863974e+06   \n",
       "82                          India  2002         4.321331e+06   \n",
       "83                          India  2003         4.785950e+06   \n",
       "84                          India  2004         5.312564e+06   \n",
       "85                          India  2005         5.805910e+06   \n",
       "86                          India  2006         6.395879e+06   \n",
       "87                          India  2007         7.031510e+06   \n",
       "88                          India  2008         7.424327e+06   \n",
       "89                          India  2009         7.995355e+06   \n",
       "90                          India  2010         8.961566e+06   \n",
       "91                          India  2011         9.882704e+06   \n",
       "92                          India  2012         1.079002e+07   \n",
       "93                          India  2013         1.182638e+07   \n",
       "94                          India  2014         1.290532e+07   \n",
       "95                          India  2015         1.379919e+07   \n",
       "96                          India  2016         1.495546e+07   \n",
       "97                          India  2017         1.616369e+07   \n",
       "98                          India  2018         1.737813e+07   \n",
       "99                          India  2019         1.851841e+07   \n",
       "100    Middle East & North Africa  2000         6.827319e+06   \n",
       "101    Middle East & North Africa  2001         7.187149e+06   \n",
       "102    Middle East & North Africa  2002         7.659866e+06   \n",
       "103    Middle East & North Africa  2003         8.108798e+06   \n",
       "104    Middle East & North Africa  2004         8.620644e+06   \n",
       "105    Middle East & North Africa  2005         9.051581e+06   \n",
       "106    Middle East & North Africa  2006         9.593216e+06   \n",
       "107    Middle East & North Africa  2007         1.016422e+07   \n",
       "108    Middle East & North Africa  2008         1.037186e+07   \n",
       "109    Middle East & North Africa  2009         1.079910e+07   \n",
       "110    Middle East & North Africa  2010         1.150534e+07   \n",
       "111    Middle East & North Africa  2011         1.203953e+07   \n",
       "112    Middle East & North Africa  2012         1.254632e+07   \n",
       "113    Middle East & North Africa  2013         1.309420e+07   \n",
       "114    Middle East & North Africa  2014         1.361000e+07   \n",
       "115    Middle East & North Africa  2015         1.417760e+07   \n",
       "116    Middle East & North Africa  2016         1.511881e+07   \n",
       "117    Middle East & North Africa  2017         1.580222e+07   \n",
       "118    Middle East & North Africa  2018         1.634501e+07   \n",
       "119    Middle East & North Africa  2019         1.691715e+07   \n",
       "120                       Oceania  2000         4.333930e+05   \n",
       "121                       Oceania  2001         4.756850e+05   \n",
       "122                       Oceania  2002         5.255220e+05   \n",
       "123                       Oceania  2003         5.768780e+05   \n",
       "124                       Oceania  2004         6.340520e+05   \n",
       "125                       Oceania  2005         6.893090e+05   \n",
       "126                       Oceania  2006         7.531950e+05   \n",
       "127                       Oceania  2007         8.221580e+05   \n",
       "128                       Oceania  2008         8.744760e+05   \n",
       "129                       Oceania  2009         9.419940e+05   \n",
       "130                       Oceania  2010         1.027911e+06   \n",
       "131                       Oceania  2011         1.116103e+06   \n",
       "132                       Oceania  2012         1.180188e+06   \n",
       "133                       Oceania  2013         1.289648e+06   \n",
       "134                       Oceania  2014         1.361788e+06   \n",
       "135                       Oceania  2015         1.460102e+06   \n",
       "136                       Oceania  2016         1.563966e+06   \n",
       "137                       Oceania  2017         1.693262e+06   \n",
       "138                       Oceania  2018         1.790679e+06   \n",
       "139                       Oceania  2019         1.892815e+06   \n",
       "140            Sub-Saharan Africa  2000         5.253922e+06   \n",
       "141            Sub-Saharan Africa  2001         5.662476e+06   \n",
       "142            Sub-Saharan Africa  2002         6.196448e+06   \n",
       "143            Sub-Saharan Africa  2003         6.717239e+06   \n",
       "144            Sub-Saharan Africa  2004         7.319935e+06   \n",
       "145            Sub-Saharan Africa  2005         7.848006e+06   \n",
       "146            Sub-Saharan Africa  2006         8.512831e+06   \n",
       "147            Sub-Saharan Africa  2007         9.223010e+06   \n",
       "148            Sub-Saharan Africa  2008         9.512829e+06   \n",
       "149            Sub-Saharan Africa  2009         1.006651e+07   \n",
       "150            Sub-Saharan Africa  2010         1.090800e+07   \n",
       "151            Sub-Saharan Africa  2011         1.156404e+07   \n",
       "152            Sub-Saharan Africa  2012         1.216115e+07   \n",
       "153            Sub-Saharan Africa  2013         1.281345e+07   \n",
       "154            Sub-Saharan Africa  2014         1.337533e+07   \n",
       "155            Sub-Saharan Africa  2015         1.418654e+07   \n",
       "156            Sub-Saharan Africa  2016         1.461285e+07   \n",
       "157            Sub-Saharan Africa  2017         1.508748e+07   \n",
       "158            Sub-Saharan Africa  2018         1.566199e+07   \n",
       "159            Sub-Saharan Africa  2019         1.624905e+07   \n",
       "160                 United States  2000         4.684474e+07   \n",
       "161                 United States  2001         4.826091e+07   \n",
       "162                 United States  2002         5.028802e+07   \n",
       "163                 United States  2003         5.205779e+07   \n",
       "164                 United States  2004         5.408468e+07   \n",
       "165                 United States  2005         5.552030e+07   \n",
       "166                 United States  2006         5.746876e+07   \n",
       "167                 United States  2007         5.945230e+07   \n",
       "168                 United States  2008         5.937492e+07   \n",
       "169                 United States  2009         6.039108e+07   \n",
       "170                 United States  2010         6.267237e+07   \n",
       "171                 United States  2011         6.396298e+07   \n",
       "172                 United States  2012         6.494382e+07   \n",
       "173                 United States  2013         6.598461e+07   \n",
       "174                 United States  2014         6.652539e+07   \n",
       "175                 United States  2015         6.749426e+07   \n",
       "176                 United States  2016         6.937814e+07   \n",
       "177                 United States  2017         7.020597e+07   \n",
       "178                 United States  2018         7.157968e+07   \n",
       "179                 United States  2019         7.284106e+07   \n",
       "180                         World  2000         1.561724e+08   \n",
       "181                         World  2001         1.638236e+08   \n",
       "182                         World  2002         1.740470e+08   \n",
       "183                         World  2003         1.836500e+08   \n",
       "184                         World  2004         1.946470e+08   \n",
       "185                         World  2005         2.037163e+08   \n",
       "186                         World  2006         2.152639e+08   \n",
       "187                         World  2007         2.273980e+08   \n",
       "188                         World  2008         2.311607e+08   \n",
       "189                         World  2009         2.398779e+08   \n",
       "190                         World  2010         2.547164e+08   \n",
       "191                         World  2011         2.659659e+08   \n",
       "192                         World  2012         2.758048e+08   \n",
       "193                         World  2013         2.866458e+08   \n",
       "194                         World  2014         2.961851e+08   \n",
       "195                         World  2015         3.083011e+08   \n",
       "196                         World  2016         3.195635e+08   \n",
       "197                         World  2017         3.310198e+08   \n",
       "198                         World  2018         3.422391e+08   \n",
       "199                         World  2019         3.532911e+08   \n",
       "\n",
       "     Recycled Percentage  Incinerated Percentage  \\\n",
       "0                   4.72                    1.22   \n",
       "1                   4.97                    1.21   \n",
       "2                   5.23                    1.20   \n",
       "3                   5.48                    1.19   \n",
       "4                   5.74                    1.18   \n",
       "5                   5.99                    1.16   \n",
       "6                   6.25                    1.15   \n",
       "7                   6.50                    1.14   \n",
       "8                   6.75                    1.13   \n",
       "9                   7.00                    1.12   \n",
       "10                  7.26                    1.11   \n",
       "11                  7.52                    1.10   \n",
       "12                  7.77                    1.09   \n",
       "13                  8.02                    1.09   \n",
       "14                  8.26                    1.08   \n",
       "15                  8.55                    1.06   \n",
       "16                  8.81                    1.06   \n",
       "17                  9.05                    1.06   \n",
       "18                  9.30                    1.05   \n",
       "19                  9.55                    1.16   \n",
       "20                  3.83                   10.44   \n",
       "21                  4.08                   10.98   \n",
       "22                  4.33                   11.52   \n",
       "23                  4.59                   12.04   \n",
       "24                  4.84                   12.55   \n",
       "25                  5.08                   13.04   \n",
       "26                  5.33                   13.52   \n",
       "27                  5.57                   13.99   \n",
       "28                  5.79                   14.41   \n",
       "29                  6.02                   14.83   \n",
       "30                  6.26                   15.26   \n",
       "31                  6.50                   15.74   \n",
       "32                  6.73                   16.15   \n",
       "33                  6.96                   16.60   \n",
       "34                  7.18                   16.97   \n",
       "35                  7.43                   17.34   \n",
       "36                  7.66                   17.63   \n",
       "37                  7.89                   17.94   \n",
       "38                  8.14                   18.53   \n",
       "39                  8.35                   18.51   \n",
       "40                  4.78                    8.82   \n",
       "41                  5.21                    9.61   \n",
       "42                  5.64                   10.40   \n",
       "43                  6.07                   11.20   \n",
       "44                  6.51                   12.01   \n",
       "45                  6.93                   12.82   \n",
       "46                  7.36                   13.64   \n",
       "47                  7.79                   14.46   \n",
       "48                  8.21                   15.29   \n",
       "49                  8.63                   16.12   \n",
       "50                  9.06                   16.96   \n",
       "51                  9.50                   17.81   \n",
       "52                  9.93                   18.66   \n",
       "53                 10.36                   19.53   \n",
       "54                 10.74                   20.40   \n",
       "55                 11.22                   21.27   \n",
       "56                 11.65                   22.15   \n",
       "57                 12.04                   23.04   \n",
       "58                 12.49                   23.93   \n",
       "59                 12.80                   23.76   \n",
       "60                  4.44                   14.54   \n",
       "61                  4.86                   15.77   \n",
       "62                  5.28                   17.00   \n",
       "63                  5.71                   18.24   \n",
       "64                  6.15                   19.49   \n",
       "65                  6.58                   20.74   \n",
       "66                  7.01                   22.01   \n",
       "67                  7.43                   23.28   \n",
       "68                  7.86                   24.55   \n",
       "69                  8.28                   25.84   \n",
       "70                  8.72                   27.13   \n",
       "71                  9.17                   28.43   \n",
       "72                  9.60                   29.73   \n",
       "73                 10.01                   31.04   \n",
       "74                 10.43                   32.37   \n",
       "75                 10.88                   33.69   \n",
       "76                 11.29                   35.05   \n",
       "77                 11.68                   36.41   \n",
       "78                 12.08                   37.82   \n",
       "79                 12.38                   37.75   \n",
       "80                  5.07                    1.69   \n",
       "81                  5.52                    1.81   \n",
       "82                  5.97                    1.93   \n",
       "83                  6.41                    2.06   \n",
       "84                  6.86                    2.18   \n",
       "85                  7.30                    2.31   \n",
       "86                  7.75                    2.44   \n",
       "87                  8.19                    2.56   \n",
       "88                  8.62                    2.69   \n",
       "89                  9.05                    2.82   \n",
       "90                  9.51                    2.95   \n",
       "91                  9.97                    3.08   \n",
       "92                 10.42                    3.22   \n",
       "93                 10.86                    3.35   \n",
       "94                 11.29                    3.49   \n",
       "95                 11.76                    3.62   \n",
       "96                 12.20                    3.76   \n",
       "97                 12.62                    3.89   \n",
       "98                 13.02                    4.03   \n",
       "99                 13.33                    4.16   \n",
       "100                 2.84                    0.41   \n",
       "101                 2.98                    0.41   \n",
       "102                 3.12                    0.41   \n",
       "103                 3.26                    0.41   \n",
       "104                 3.40                    0.42   \n",
       "105                 3.54                    0.42   \n",
       "106                 3.68                    0.42   \n",
       "107                 3.82                    0.42   \n",
       "108                 3.95                    0.42   \n",
       "109                 4.08                    0.42   \n",
       "110                 4.22                    0.42   \n",
       "111                 4.36                    0.43   \n",
       "112                 4.49                    0.43   \n",
       "113                 4.63                    0.43   \n",
       "114                 4.76                    0.43   \n",
       "115                 4.90                    0.44   \n",
       "116                 5.04                    0.44   \n",
       "117                 5.17                    0.44   \n",
       "118                 5.31                    0.44   \n",
       "119                 5.45                    0.61   \n",
       "120                 3.80                    9.35   \n",
       "121                 3.96                    9.46   \n",
       "122                 4.13                    9.58   \n",
       "123                 4.30                    9.70   \n",
       "124                 4.46                    9.82   \n",
       "125                 4.62                    9.94   \n",
       "126                 4.78                   10.06   \n",
       "127                 4.94                   10.19   \n",
       "128                 5.08                   10.31   \n",
       "129                 5.23                   10.43   \n",
       "130                 5.39                   10.55   \n",
       "131                 5.55                   10.67   \n",
       "132                 5.70                   10.79   \n",
       "133                 5.86                   10.92   \n",
       "134                 6.01                   11.04   \n",
       "135                 6.20                   11.16   \n",
       "136                 6.36                   11.28   \n",
       "137                 6.52                   11.41   \n",
       "138                 6.69                   11.53   \n",
       "139                 6.87                   11.51   \n",
       "140                 3.01                    0.00   \n",
       "141                 3.16                    0.00   \n",
       "142                 3.30                    0.00   \n",
       "143                 3.45                    0.00   \n",
       "144                 3.60                    0.00   \n",
       "145                 3.74                    0.00   \n",
       "146                 3.88                    0.00   \n",
       "147                 4.03                    0.00   \n",
       "148                 4.17                    0.00   \n",
       "149                 4.31                    0.00   \n",
       "150                 4.46                    0.00   \n",
       "151                 4.60                    0.00   \n",
       "152                 4.74                    0.00   \n",
       "153                 4.88                    0.00   \n",
       "154                 5.02                    0.00   \n",
       "155                 5.17                    0.00   \n",
       "156                 5.31                    0.00   \n",
       "157                 5.46                    0.00   \n",
       "158                 5.60                    0.00   \n",
       "159                 5.72                    0.51   \n",
       "160                 2.35                   15.27   \n",
       "161                 2.46                   15.47   \n",
       "162                 2.57                   15.68   \n",
       "163                 2.68                   15.88   \n",
       "164                 2.80                   16.09   \n",
       "165                 2.91                   16.30   \n",
       "166                 3.02                   16.50   \n",
       "167                 3.13                   16.71   \n",
       "168                 3.23                   16.92   \n",
       "169                 3.34                   17.13   \n",
       "170                 3.45                   17.34   \n",
       "171                 3.57                   17.55   \n",
       "172                 3.68                   17.76   \n",
       "173                 3.79                   17.97   \n",
       "174                 3.89                   18.19   \n",
       "175                 4.01                   18.40   \n",
       "176                 4.13                   18.61   \n",
       "177                 4.25                   18.82   \n",
       "178                 4.36                   19.04   \n",
       "179                 4.49                   19.08   \n",
       "180                 3.70                   10.87   \n",
       "181                 3.99                   11.34   \n",
       "182                 4.27                   11.80   \n",
       "183                 4.56                   12.26   \n",
       "184                 4.86                   12.71   \n",
       "185                 5.15                   13.17   \n",
       "186                 5.44                   13.62   \n",
       "187                 5.74                   14.08   \n",
       "188                 6.02                   14.53   \n",
       "189                 6.31                   14.98   \n",
       "190                 6.62                   15.42   \n",
       "191                 6.94                   15.87   \n",
       "192                 7.24                   16.32   \n",
       "193                 7.54                   16.78   \n",
       "194                 7.84                   17.22   \n",
       "195                 8.16                   17.63   \n",
       "196                 8.45                   18.08   \n",
       "197                 8.75                   18.58   \n",
       "198                 9.04                   19.08   \n",
       "199                 9.29                   19.05   \n",
       "\n",
       "     Littered and mismanaged Percentage  Landfilled Percentage  \n",
       "0                                 32.70                  61.36  \n",
       "1                                 32.65                  61.17  \n",
       "2                                 32.61                  60.96  \n",
       "3                                 32.55                  60.78  \n",
       "4                                 32.48                  60.60  \n",
       "5                                 32.39                  60.46  \n",
       "6                                 32.30                  60.30  \n",
       "7                                 32.20                  60.15  \n",
       "8                                 32.03                  60.09  \n",
       "9                                 31.88                  60.00  \n",
       "10                                31.72                  59.91  \n",
       "11                                31.52                  59.86  \n",
       "12                                31.31                  59.82  \n",
       "13                                31.09                  59.81  \n",
       "14                                30.87                  59.79  \n",
       "15                                30.59                  59.81  \n",
       "16                                30.19                  59.94  \n",
       "17                                29.82                  60.07  \n",
       "18                                29.44                  60.20  \n",
       "19                                29.18                  60.11  \n",
       "20                                36.91                  48.83  \n",
       "21                                36.89                  48.05  \n",
       "22                                36.84                  47.30  \n",
       "23                                36.78                  46.60  \n",
       "24                                36.70                  45.92  \n",
       "25                                36.60                  45.28  \n",
       "26                                36.48                  44.67  \n",
       "27                                36.35                  44.08  \n",
       "28                                36.24                  43.56  \n",
       "29                                36.10                  43.05  \n",
       "30                                35.94                  42.54  \n",
       "31                                35.72                  42.04  \n",
       "32                                35.53                  41.59  \n",
       "33                                35.30                  41.14  \n",
       "34                                35.12                  40.73  \n",
       "35                                34.90                  40.33  \n",
       "36                                34.71                  39.99  \n",
       "37                                34.51                  39.66  \n",
       "38                                34.15                  39.17  \n",
       "39                                33.75                  39.39  \n",
       "40                                60.80                  25.59  \n",
       "41                                59.05                  26.13  \n",
       "42                                57.29                  26.66  \n",
       "43                                55.52                  27.20  \n",
       "44                                53.74                  27.74  \n",
       "45                                51.95                  28.29  \n",
       "46                                50.15                  28.85  \n",
       "47                                48.34                  29.40  \n",
       "48                                46.54                  29.97  \n",
       "49                                44.71                  30.54  \n",
       "50                                42.86                  31.11  \n",
       "51                                41.01                  31.69  \n",
       "52                                39.14                  32.27  \n",
       "53                                37.26                  32.86  \n",
       "54                                35.39                  33.47  \n",
       "55                                33.46                  34.05  \n",
       "56                                31.55                  34.65  \n",
       "57                                29.64                  35.28  \n",
       "58                                27.69                  35.89  \n",
       "59                                27.05                  36.38  \n",
       "60                                12.97                  68.05  \n",
       "61                                12.60                  66.77  \n",
       "62                                12.23                  65.49  \n",
       "63                                11.85                  64.19  \n",
       "64                                11.47                  62.89  \n",
       "65                                11.09                  61.59  \n",
       "66                                10.70                  60.28  \n",
       "67                                10.31                  58.97  \n",
       "68                                 9.92                  57.67  \n",
       "69                                 9.53                  56.35  \n",
       "70                                 9.13                  55.02  \n",
       "71                                 8.73                  53.68  \n",
       "72                                 8.33                  52.35  \n",
       "73                                 7.92                  51.03  \n",
       "74                                 7.51                  49.69  \n",
       "75                                 7.10                  48.33  \n",
       "76                                 6.68                  46.98  \n",
       "77                                 6.27                  45.64  \n",
       "78                                 5.84                  44.26  \n",
       "79                                 5.67                  44.20  \n",
       "80                                68.14                  25.10  \n",
       "81                                67.02                  25.65  \n",
       "82                                65.90                  26.20  \n",
       "83                                64.77                  26.76  \n",
       "84                                63.63                  27.32  \n",
       "85                                62.50                  27.89  \n",
       "86                                61.35                  28.46  \n",
       "87                                60.21                  29.04  \n",
       "88                                59.07                  29.62  \n",
       "89                                57.93                  30.21  \n",
       "90                                56.75                  30.79  \n",
       "91                                55.57                  31.38  \n",
       "92                                54.39                  31.98  \n",
       "93                                53.20                  32.58  \n",
       "94                                52.02                  33.19  \n",
       "95                                50.82                  33.79  \n",
       "96                                49.64                  34.41  \n",
       "97                                48.45                  35.04  \n",
       "98                                47.27                  35.68  \n",
       "99                                46.21                  36.29  \n",
       "100                               46.09                  50.67  \n",
       "101                               45.76                  50.85  \n",
       "102                               45.43                  51.04  \n",
       "103                               45.10                  51.22  \n",
       "104                               44.77                  51.40  \n",
       "105                               44.45                  51.59  \n",
       "106                               44.12                  51.78  \n",
       "107                               43.79                  51.97  \n",
       "108                               43.47                  52.16  \n",
       "109                               43.14                  52.35  \n",
       "110                               42.81                  52.54  \n",
       "111                               42.48                  52.74  \n",
       "112                               42.15                  52.93  \n",
       "113                               41.81                  53.13  \n",
       "114                               41.48                  53.33  \n",
       "115                               41.15                  53.52  \n",
       "116                               40.81                  53.71  \n",
       "117                               40.48                  53.90  \n",
       "118                               40.15                  54.10  \n",
       "119                               39.80                  54.15  \n",
       "120                               11.80                  75.05  \n",
       "121                               11.54                  75.03  \n",
       "122                               11.28                  75.00  \n",
       "123                               11.02                  74.98  \n",
       "124                               10.76                  74.95  \n",
       "125                               10.50                  74.94  \n",
       "126                               10.23                  74.92  \n",
       "127                                9.97                  74.90  \n",
       "128                                9.70                  74.91  \n",
       "129                                9.44                  74.91  \n",
       "130                                9.17                  74.89  \n",
       "131                                8.90                  74.87  \n",
       "132                                8.63                  74.87  \n",
       "133                                8.36                  74.86  \n",
       "134                                8.09                  74.86  \n",
       "135                                7.82                  74.82  \n",
       "136                                7.54                  74.81  \n",
       "137                                7.27                  74.81  \n",
       "138                                6.99                  74.79  \n",
       "139                                6.75                  74.87  \n",
       "140                               69.32                  27.66  \n",
       "141                               69.04                  27.80  \n",
       "142                               68.75                  27.95  \n",
       "143                               68.46                  28.09  \n",
       "144                               68.18                  28.23  \n",
       "145                               67.89                  28.37  \n",
       "146                               67.60                  28.51  \n",
       "147                               67.31                  28.66  \n",
       "148                               67.03                  28.80  \n",
       "149                               66.75                  28.94  \n",
       "150                               66.46                  29.09  \n",
       "151                               66.17                  29.23  \n",
       "152                               65.88                  29.37  \n",
       "153                               65.60                  29.52  \n",
       "154                               65.31                  29.67  \n",
       "155                               65.02                  29.81  \n",
       "156                               64.73                  29.96  \n",
       "157                               64.44                  30.10  \n",
       "158                               64.16                  30.25  \n",
       "159                               63.61                  30.17  \n",
       "160                                7.98                  74.41  \n",
       "161                                7.75                  74.32  \n",
       "162                                7.53                  74.23  \n",
       "163                                7.30                  74.14  \n",
       "164                                7.07                  74.04  \n",
       "165                                6.84                  73.95  \n",
       "166                                6.61                  73.86  \n",
       "167                                6.38                  73.77  \n",
       "168                                6.15                  73.70  \n",
       "169                                5.92                  73.61  \n",
       "170                                5.69                  73.52  \n",
       "171                                5.46                  73.43  \n",
       "172                                5.22                  73.34  \n",
       "173                                4.99                  73.26  \n",
       "174                                4.75                  73.18  \n",
       "175                                4.51                  73.08  \n",
       "176                                4.28                  72.99  \n",
       "177                                4.04                  72.89  \n",
       "178                                3.81                  72.80  \n",
       "179                                3.55                  72.88  \n",
       "180                               26.02                  59.40  \n",
       "181                               26.04                  58.64  \n",
       "182                               26.06                  57.87  \n",
       "183                               26.04                  57.13  \n",
       "184                               26.02                  56.41  \n",
       "185                               25.95                  55.73  \n",
       "186                               25.88                  55.05  \n",
       "187                               25.79                  54.40  \n",
       "188                               25.61                  53.83  \n",
       "189                               25.45                  53.26  \n",
       "190                               25.31                  52.65  \n",
       "191                               25.13                  52.07  \n",
       "192                               24.89                  51.55  \n",
       "193                               24.61                  51.07  \n",
       "194                               24.39                  50.56  \n",
       "195                               24.08                  50.13  \n",
       "196                               23.63                  49.84  \n",
       "197                               23.20                  49.47  \n",
       "198                               22.70                  49.18  \n",
       "199                               22.45                  49.21  "
      ]
     },
     "execution_count": 166,
     "metadata": {},
     "output_type": "execute_result"
    }
   ],
   "source": [
    "country_data = country_data.copy()\n",
    "\n",
    "# Calculate total trash and percentages\n",
    "country_data['Total Trash (Tones)'] = (country_data['Recycled'] + country_data['Incinerated'] + country_data['Littered and mismanaged'] + country_data['Landfilled'])\n",
    "\n",
    "# Calculate percentages\n",
    "country_data['Recycled Percentage'] = np.round((country_data['Recycled'] / country_data['Total Trash (Tones)']) * 100, 2)\n",
    "country_data['Incinerated Percentage'] = np.round((country_data['Incinerated'] / country_data['Total Trash (Tones)']) * 100, 2)\n",
    "country_data['Littered and mismanaged Percentage'] = np.round((country_data['Littered and mismanaged'] / country_data['Total Trash (Tones)']) * 100, 2)\n",
    "country_data['Landfilled Percentage'] = np.round((country_data['Landfilled'] / country_data['Total Trash (Tones)']) * 100, 2)\n",
    "\n",
    "# Fill NaN values with 0\n",
    "country_data.update(country_data[['Recycled Percentage', 'Incinerated Percentage', 'Littered and mismanaged Percentage', 'Landfilled Percentage']].fillna(0))\n",
    "country_data = country_data[['Entity', 'Year', 'Total Trash (Tones)', 'Recycled Percentage', 'Incinerated Percentage', 'Littered and mismanaged Percentage', 'Landfilled Percentage']]\n",
    "country_data\n"
   ]
  },
  {
   "cell_type": "code",
   "execution_count": 172,
   "metadata": {},
   "outputs": [
    {
     "data": {
      "text/html": [
       "\n",
       "        <iframe\n",
       "            width=\"100%\"\n",
       "            height=\"650\"\n",
       "            src=\"http://127.0.0.1:8051/\"\n",
       "            frameborder=\"0\"\n",
       "            allowfullscreen\n",
       "            \n",
       "        ></iframe>\n",
       "        "
      ],
      "text/plain": [
       "<IPython.lib.display.IFrame at 0x1497be650>"
      ]
     },
     "metadata": {},
     "output_type": "display_data"
    }
   ],
   "source": [
    "import dash\n",
    "from dash import dcc, html, Input, Output\n",
    "import plotly.express as px\n",
    "\n",
    "# Define the Dash app\n",
    "app2 = dash.Dash(__name__)\n",
    "\n",
    "# Define the layout\n",
    "app2.layout = html.Div([\n",
    "    # Dropdown to select the country\n",
    "    html.Label('Select Country'),\n",
    "    dcc.Dropdown(\n",
    "        id='country-dropdown',\n",
    "        options=[{'label': country, 'value': country} for country in country_data['Entity'].unique()],\n",
    "        value='United States'\n",
    "    ),\n",
    "    # Slider to select the year range\n",
    "    html.Label('Select Year Range'),\n",
    "    dcc.RangeSlider(\n",
    "        id='year-slider',\n",
    "        min=2000,\n",
    "        max=2019,\n",
    "        step=1,\n",
    "        marks={year: str(year) for year in range(2000, 2020)},\n",
    "        value=[2000, 2019]\n",
    "    ),\n",
    "    # Line graph to display waste management percentages\n",
    "    dcc.Graph(id='line-graph')\n",
    "])\n",
    "\n",
    "# Define callback to update the line graph based on user input\n",
    "@app2.callback(\n",
    "    Output('line-graph', 'figure'),\n",
    "    [Input('country-dropdown', 'value'),\n",
    "     Input('year-slider', 'value')]\n",
    ")\n",
    "def update_line_graph(selected_country, selected_year_range):\n",
    "    # Filter data based on selected country and year range\n",
    "    filtered_data = country_data[(country_data['Entity'] == selected_country) & \n",
    "                                 (country_data['Year'] >= selected_year_range[0]) & \n",
    "                                 (country_data['Year'] <= selected_year_range[1])]\n",
    "    \n",
    "    # Create line graph\n",
    "    fig = px.line(filtered_data, x='Year', y=['Recycled Percentage', 'Incinerated Percentage',\n",
    "                                              'Littered and mismanaged Percentage', 'Landfilled Percentage'],\n",
    "                  title=f'{selected_country} Waste Management Percentages ({selected_year_range[0]}-{selected_year_range[1]})')\n",
    "    \n",
    "    # Update layout\n",
    "    fig.update_layout(xaxis_title='Year',\n",
    "                      yaxis_title='Percentage',\n",
    "                      legend=dict(title='Waste Management Method', orientation='h', y=-0.2),\n",
    "                      yaxis=dict(range=[0, 100], tickmode='array', tickvals=[0, 10, 20, 30, 40, 50, 60, 70, 80, 90, 100],\n",
    "                                 ticktext=['0%', '10%', '20%', '30%', '40%', '50%', '60%', '70%', '80%', '90%', '100%']),\n",
    "                      xaxis=dict(dtick=1))  # Specify the interval between ticks on the x-axis\n",
    "    \n",
    "    return fig\n",
    "\n",
    "# Run the app on port 8051\n",
    "if __name__ == '__main__':\n",
    "    app2.run_server(debug=True, port=8051)\n",
    "\n"
   ]
  },
  {
   "cell_type": "markdown",
   "metadata": {},
   "source": [
    "Visualizing waste management practices in China and the United States provides valuable insights into environmental sustainability trends and challenges. By examining critical metrics like recycling, incineration, littering, mismanaged waste, and landfilling of plastic waste, we can identify essential patterns and implications for policy and action.\n",
    "\n",
    "One significant trend observed in the visualizations is the prevalence of mismanaged waste in both China and the United States. Despite differences in governance, infrastructure, and socio-economic factors, both countries need help managing waste, leading to considerable amounts of mismanaged waste. This highlights the urgent need for coordinated efforts and innovative solutions to address waste management challenges comprehensively.\n",
    "\n",
    "The interactive nature of the graphs enhances the user experience and enables deeper data exploration. With features like dropdown menus, range sliders, and dynamic updates, users can interactively select specific countries, years, and waste management indicators of interest. This interactive functionality empowers users to delve into the data, identify trends, and gain deeper insights into waste management practices over time.\n",
    "\n",
    "The interactive graphs are powerful tools for informing, decision-making, and fostering engagement in environmental sustainability efforts. Moreover, comparing waste management practices between countries allows for benchmarking and learning from best practices, contributing to global collaboration and knowledge-sharing in tackling waste management challenges."
   ]
  },
  {
   "cell_type": "markdown",
   "metadata": {},
   "source": [
    "Name: Alcontin, Angelo P.\n",
    "\n",
    "Student Number: 2022101212"
   ]
  },
  {
   "cell_type": "code",
   "execution_count": null,
   "metadata": {},
   "outputs": [],
   "source": []
  }
 ],
 "metadata": {
  "kernelspec": {
   "display_name": "Python 3 (ipykernel)",
   "language": "python",
   "name": "python3"
  },
  "language_info": {
   "codemirror_mode": {
    "name": "ipython",
    "version": 3
   },
   "file_extension": ".py",
   "mimetype": "text/x-python",
   "name": "python",
   "nbconvert_exporter": "python",
   "pygments_lexer": "ipython3",
   "version": "3.11.7"
  }
 },
 "nbformat": 4,
 "nbformat_minor": 4
}
